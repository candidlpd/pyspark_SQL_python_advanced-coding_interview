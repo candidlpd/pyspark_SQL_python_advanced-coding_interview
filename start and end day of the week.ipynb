{
 "cells": [
  {
   "cell_type": "code",
   "execution_count": 1,
   "metadata": {},
   "outputs": [
    {
     "name": "stdout",
     "output_type": "stream",
     "text": [
      "H:\\pyspark_advanced-coding_interview\n"
     ]
    }
   ],
   "source": [
    "import os\n",
    "os.getcwd()\n",
    "os.chdir(\"H:\\pyspark_advanced-coding_interview\")\n",
    "print(os.getcwd())\n",
    "\n",
    "from pyspark.sql import SparkSession\n",
    "\n",
    "# Create a Spark session with optimized settings\n",
    "spark = (SparkSession.builder .appName(\"OptimizedLocalSpark\") .getOrCreate())\n",
    "sc = spark.sparkContext"
   ]
  },
  {
   "cell_type": "markdown",
   "metadata": {},
   "source": [
    "## start and end day of the week"
   ]
  },
  {
   "cell_type": "code",
   "execution_count": 2,
   "metadata": {},
   "outputs": [
    {
     "name": "stdout",
     "output_type": "stream",
     "text": [
      "+---------------+\n",
      "|TransactionDate|\n",
      "+---------------+\n",
      "|     2024-11-15|\n",
      "|     2024-11-10|\n",
      "|     2024-11-13|\n",
      "+---------------+\n",
      "\n",
      "+---------------+---------+-----------+----------+\n",
      "|TransactionDate|DayOfWeek|StartOfWeek| EndOfWeek|\n",
      "+---------------+---------+-----------+----------+\n",
      "|     2024-11-15|        6| 2024-11-10|2024-11-16|\n",
      "|     2024-11-10|        1| 2024-11-10|2024-11-16|\n",
      "|     2024-11-13|        4| 2024-11-10|2024-11-16|\n",
      "+---------------+---------+-----------+----------+\n",
      "\n"
     ]
    }
   ],
   "source": [
    "from pyspark.sql import SparkSession\n",
    "from pyspark.sql.functions import col, date_add, date_format, dayofweek\n",
    "\n",
    "# Initialize Spark session\n",
    "spark = SparkSession.builder.appName(\"StartEndOfWeek\").getOrCreate()\n",
    "\n",
    "# Sample data\n",
    "data = [(\"2024-11-15\",), (\"2024-11-10\",), (\"2024-11-13\",)]\n",
    "columns = [\"TransactionDate\"]\n",
    "df = spark.createDataFrame(data, columns)\n",
    "df.show()\n",
    "\n",
    "# Calculate Start and End Day of the Week\n",
    "df = df.withColumn(\"TransactionDate\", col(\"TransactionDate\").cast(\"date\")) \\\n",
    "       .withColumn(\"DayOfWeek\", dayofweek(col(\"TransactionDate\"))) \\\n",
    "       .withColumn(\"StartOfWeek\", date_add(col(\"TransactionDate\"), - (col(\"DayOfWeek\") - 1))) \\\n",
    "       .withColumn(\"EndOfWeek\", date_add(col(\"TransactionDate\"), 7 - col(\"DayOfWeek\")))\n",
    "\n",
    "df.show()\n"
   ]
  },
  {
   "cell_type": "code",
   "execution_count": 3,
   "metadata": {},
   "outputs": [
    {
     "name": "stdout",
     "output_type": "stream",
     "text": [
      "+---------------+-----------+----------+\n",
      "|TransactionDate|StartOfWeek| EndOfWeek|\n",
      "+---------------+-----------+----------+\n",
      "|     2024-11-15| 2024-11-10|2024-11-16|\n",
      "|     2024-11-10| 2024-11-10|2024-11-16|\n",
      "|     2024-11-13| 2024-11-10|2024-11-16|\n",
      "+---------------+-----------+----------+\n",
      "\n"
     ]
    }
   ],
   "source": [
    "# Register DataFrame as a SQL temporary view\n",
    "df.createOrReplaceTempView(\"transactions\")\n",
    "\n",
    "# SQL query to calculate Start and End Day of the Week\n",
    "result = spark.sql(\"\"\"\n",
    "    SELECT \n",
    "        TransactionDate,\n",
    "        DATE_SUB(TransactionDate, DAYOFWEEK(TransactionDate) - 1) AS StartOfWeek,\n",
    "        DATE_ADD(TransactionDate, 7 - DAYOFWEEK(TransactionDate)) AS EndOfWeek\n",
    "    FROM transactions\n",
    "\"\"\")\n",
    "\n",
    "result.show()\n"
   ]
  },
  {
   "cell_type": "code",
   "execution_count": 5,
   "metadata": {},
   "outputs": [
    {
     "name": "stdout",
     "output_type": "stream",
     "text": [
      "+---------------+-----------+----------+\n",
      "|TransactionDate|StartOfWeek| EndOfWeek|\n",
      "+---------------+-----------+----------+\n",
      "|     2024-11-15| 2024-11-11|2024-11-17|\n",
      "|     2024-11-10| 2024-11-04|2024-11-10|\n",
      "|     2024-11-13| 2024-11-11|2024-11-17|\n",
      "+---------------+-----------+----------+\n",
      "\n"
     ]
    }
   ],
   "source": [
    "from pyspark.sql import SparkSession\n",
    "from pyspark.sql.functions import col, udf\n",
    "from pyspark.sql.types import DateType\n",
    "from datetime import timedelta\n",
    "\n",
    "# Initialize Spark session\n",
    "spark = SparkSession.builder.appName(\"StartEndOfWeek\").getOrCreate()\n",
    "\n",
    "# Sample data\n",
    "data = [(\"2024-11-15\",), (\"2024-11-10\",), (\"2024-11-13\",)]\n",
    "columns = [\"TransactionDate\"]\n",
    "df = spark.createDataFrame(data, columns)\n",
    "\n",
    "# Ensure the TransactionDate column is of DateType\n",
    "df = df.withColumn(\"TransactionDate\", col(\"TransactionDate\").cast(\"date\"))\n",
    "\n",
    "# UDFs to calculate start and end of the week\n",
    "def get_start_of_week(date_obj):\n",
    "    # date_obj is already a datetime.date object\n",
    "    start_of_week = date_obj - timedelta(days=date_obj.weekday())  # Monday as start\n",
    "    return start_of_week\n",
    "\n",
    "def get_end_of_week(date_obj):\n",
    "    # date_obj is already a datetime.date object\n",
    "    end_of_week = date_obj + timedelta(days=(6 - date_obj.weekday()))  # Sunday as end\n",
    "    return end_of_week\n",
    "\n",
    "start_udf = udf(get_start_of_week, DateType())\n",
    "end_udf = udf(get_end_of_week, DateType())\n",
    "\n",
    "# Apply UDFs\n",
    "df = df.withColumn(\"StartOfWeek\", start_udf(col(\"TransactionDate\"))) \\\n",
    "       .withColumn(\"EndOfWeek\", end_udf(col(\"TransactionDate\")))\n",
    "\n",
    "df.show()\n",
    "\n"
   ]
  },
  {
   "cell_type": "code",
   "execution_count": null,
   "metadata": {},
   "outputs": [],
   "source": []
  }
 ],
 "metadata": {
  "kernelspec": {
   "display_name": "Python 3",
   "language": "python",
   "name": "python3"
  },
  "language_info": {
   "codemirror_mode": {
    "name": "ipython",
    "version": 3
   },
   "file_extension": ".py",
   "mimetype": "text/x-python",
   "name": "python",
   "nbconvert_exporter": "python",
   "pygments_lexer": "ipython3",
   "version": "3.11.8"
  }
 },
 "nbformat": 4,
 "nbformat_minor": 2
}
