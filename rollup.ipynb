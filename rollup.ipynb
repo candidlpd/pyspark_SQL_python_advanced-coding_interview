{
 "cells": [
  {
   "cell_type": "code",
   "execution_count": 1,
   "metadata": {},
   "outputs": [
    {
     "name": "stdout",
     "output_type": "stream",
     "text": [
      "H:\\pyspark_advanced-coding_interview\n"
     ]
    }
   ],
   "source": [
    "import os\n",
    "os.getcwd()\n",
    "os.chdir(\"H:\\pyspark_advanced-coding_interview\")\n",
    "print(os.getcwd())\n",
    "\n",
    "from pyspark.sql import SparkSession\n",
    "\n",
    "# Create a Spark session with optimized settings\n",
    "spark = (SparkSession.builder .appName(\"OptimizedLocalSpark\") .getOrCreate())\n",
    "sc = spark.sparkContext"
   ]
  },
  {
   "cell_type": "code",
   "execution_count": 3,
   "metadata": {},
   "outputs": [
    {
     "name": "stdout",
     "output_type": "stream",
     "text": [
      "+---------------+---------+--------+---+-----+\n",
      "|TransactionDate|ProductID|Category|Qty|Price|\n",
      "+---------------+---------+--------+---+-----+\n",
      "|     2022-09-01|        1|       A| 10|  100|\n",
      "|     2022-09-01|        2|       A|  5|  200|\n",
      "|     2022-09-02|        1|       B| 20|  150|\n",
      "|     2022-09-02|        2|       B| 15|  300|\n",
      "+---------------+---------+--------+---+-----+\n",
      "\n"
     ]
    }
   ],
   "source": [
    "from pyspark.sql import SparkSession\n",
    "\n",
    "# Initialize Spark session\n",
    "spark = SparkSession.builder.appName(\"RollupSubTotalGrandTotal\").getOrCreate()\n",
    "\n",
    "# Sample data\n",
    "data = [\n",
    "    (\"2022-09-01\", 1, \"A\", 10, 100),\n",
    "    (\"2022-09-01\", 2, \"A\", 5, 200),\n",
    "    (\"2022-09-02\", 1, \"B\", 20, 150),\n",
    "    (\"2022-09-02\", 2, \"B\", 15, 300)\n",
    "]\n",
    "columns = [\"TransactionDate\", \"ProductID\", \"Category\", \"Qty\", \"Price\"]\n",
    "\n",
    "df = spark.createDataFrame(data, columns)\n",
    "\n",
    "df.show()\n"
   ]
  },
  {
   "cell_type": "code",
   "execution_count": 4,
   "metadata": {},
   "outputs": [
    {
     "name": "stdout",
     "output_type": "stream",
     "text": [
      "+--------+---------+--------+----------+---------------+--------------+\n",
      "|Category|ProductID|TotalQty|TotalPrice|IsCategoryTotal|IsProductTotal|\n",
      "+--------+---------+--------+----------+---------------+--------------+\n",
      "|    null|     null|      50|       750|              1|             1|\n",
      "|       A|     null|      15|       300|              0|             1|\n",
      "|       A|        1|      10|       100|              0|             0|\n",
      "|       A|        2|       5|       200|              0|             0|\n",
      "|       B|     null|      35|       450|              0|             1|\n",
      "|       B|        1|      20|       150|              0|             0|\n",
      "|       B|        2|      15|       300|              0|             0|\n",
      "+--------+---------+--------+----------+---------------+--------------+\n",
      "\n"
     ]
    }
   ],
   "source": [
    "# Register the DataFrame as a temporary table for SQL queries\n",
    "df.createOrReplaceTempView(\"sales\")\n",
    "\n",
    "# SQL query using ROLLUP\n",
    "result = spark.sql(\"\"\"\n",
    "    SELECT \n",
    "        Category,\n",
    "        ProductID,\n",
    "        SUM(Qty) AS TotalQty,\n",
    "        SUM(Price) AS TotalPrice,\n",
    "        GROUPING(Category) AS IsCategoryTotal,\n",
    "        GROUPING(ProductID) AS IsProductTotal\n",
    "    FROM sales\n",
    "    GROUP BY ROLLUP(Category, ProductID)\n",
    "    ORDER BY Category, ProductID\n",
    "\"\"\")\n",
    "\n",
    "result.show()"
   ]
  },
  {
   "cell_type": "code",
   "execution_count": 7,
   "metadata": {},
   "outputs": [
    {
     "name": "stdout",
     "output_type": "stream",
     "text": [
      "+---------------+---------+--------+---+-----+----------+\n",
      "|TransactionDate|ProductID|Category|Qty|Price|      Type|\n",
      "+---------------+---------+--------+---+-----+----------+\n",
      "|     2022-09-01|        1|       A| 10|  100|    Detail|\n",
      "|     2022-09-01|        2|       A|  5|  200|    Detail|\n",
      "|     2022-09-02|        1|       B| 20|  150|    Detail|\n",
      "|     2022-09-02|        2|       B| 15|  300|    Detail|\n",
      "|           null|     null|       A| 15|  300|  Subtotal|\n",
      "|           null|     null|       B| 35|  450|  Subtotal|\n",
      "|           null|     null|    null| 50|  750|GrandTotal|\n",
      "+---------------+---------+--------+---+-----+----------+\n",
      "\n"
     ]
    }
   ],
   "source": [
    "from pyspark.sql.functions import col, lit, sum as Fsum\n",
    "\n",
    "# Compute Subtotals by Category\n",
    "category_totals = df.groupBy(\"Category\") \\\n",
    "    .agg(Fsum(\"Qty\").alias(\"TotalQty\"), Fsum(\"Price\").alias(\"TotalPrice\")) \\\n",
    "    .withColumn(\"TransactionDate\", lit(None)) \\\n",
    "    .withColumn(\"ProductID\", lit(None)) \\\n",
    "    .withColumn(\"Type\", lit(\"Subtotal\"))\n",
    "\n",
    "# Compute Grand Totals\n",
    "grand_total = df.agg(Fsum(\"Qty\").alias(\"TotalQty\"), Fsum(\"Price\").alias(\"TotalPrice\")) \\\n",
    "    .withColumn(\"TransactionDate\", lit(None)) \\\n",
    "    .withColumn(\"Category\", lit(None)) \\\n",
    "    .withColumn(\"ProductID\", lit(None)) \\\n",
    "    .withColumn(\"Type\", lit(\"GrandTotal\"))\n",
    "\n",
    "# Add a column to the original DataFrame for consistency\n",
    "df_with_type = df.withColumn(\"Type\", lit(\"Detail\"))\n",
    "\n",
    "# Combine Original Data with Subtotals and Grand Totals\n",
    "result_df = df_with_type.select(\"TransactionDate\", \"ProductID\", \"Category\", \"Qty\", \"Price\", \"Type\") \\\n",
    "    .union(category_totals.select(\"TransactionDate\", \"ProductID\", \"Category\", \"TotalQty\", \"TotalPrice\", \"Type\")) \\\n",
    "    .union(grand_total.select(\"TransactionDate\", \"ProductID\", \"Category\", \"TotalQty\", \"TotalPrice\", \"Type\"))\n",
    "\n",
    "result_df.show()\n"
   ]
  },
  {
   "cell_type": "code",
   "execution_count": 6,
   "metadata": {},
   "outputs": [
    {
     "name": "stdout",
     "output_type": "stream",
     "text": [
      "Category Totals: {'A': {'Qty': 15, 'Price': 300}, 'B': {'Qty': 35, 'Price': 450}}\n",
      "Grand Total: Qty = 50 Price = 750\n"
     ]
    }
   ],
   "source": [
    "# Collect the data to Python\n",
    "data = df.collect()\n",
    "\n",
    "# Initialize dictionaries for totals\n",
    "category_totals = {}\n",
    "grand_total_qty = 0\n",
    "grand_total_price = 0\n",
    "\n",
    "# Calculate Subtotals and Grand Totals\n",
    "for row in data:\n",
    "    category = row[\"Category\"]\n",
    "    qty = row[\"Qty\"]\n",
    "    price = row[\"Price\"]\n",
    "    \n",
    "    # Update category totals\n",
    "    if category not in category_totals:\n",
    "        category_totals[category] = {\"Qty\": 0, \"Price\": 0}\n",
    "    category_totals[category][\"Qty\"] += qty\n",
    "    category_totals[category][\"Price\"] += price\n",
    "    \n",
    "    # Update grand totals\n",
    "    grand_total_qty += qty\n",
    "    grand_total_price += price\n",
    "\n",
    "# Print the results\n",
    "print(\"Category Totals:\", category_totals)\n",
    "print(\"Grand Total: Qty =\", grand_total_qty, \"Price =\", grand_total_price)\n"
   ]
  },
  {
   "cell_type": "code",
   "execution_count": null,
   "metadata": {},
   "outputs": [],
   "source": []
  }
 ],
 "metadata": {
  "kernelspec": {
   "display_name": "Python 3",
   "language": "python",
   "name": "python3"
  },
  "language_info": {
   "codemirror_mode": {
    "name": "ipython",
    "version": 3
   },
   "file_extension": ".py",
   "mimetype": "text/x-python",
   "name": "python",
   "nbconvert_exporter": "python",
   "pygments_lexer": "ipython3",
   "version": "3.11.8"
  }
 },
 "nbformat": 4,
 "nbformat_minor": 2
}
