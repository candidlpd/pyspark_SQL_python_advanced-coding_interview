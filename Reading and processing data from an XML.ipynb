{
 "cells": [
  {
   "cell_type": "code",
   "execution_count": 1,
   "metadata": {},
   "outputs": [
    {
     "name": "stdout",
     "output_type": "stream",
     "text": [
      "H:\\pyspark_advanced-coding_interview\n"
     ]
    }
   ],
   "source": [
    "import os\n",
    "os.getcwd()\n",
    "os.chdir(\"H:\\pyspark_advanced-coding_interview\")\n",
    "print(os.getcwd())\n",
    "\n",
    "from pyspark.sql import SparkSession\n",
    "\n",
    "# Create a Spark session with optimized settings\n",
    "spark = (SparkSession.builder .appName(\"OptimizedLocalSpark\") .getOrCreate())\n",
    "sc = spark.sparkContext"
   ]
  },
  {
   "cell_type": "markdown",
   "metadata": {},
   "source": [
    "# Reading and processing data from an XML"
   ]
  },
  {
   "cell_type": "code",
   "execution_count": 6,
   "metadata": {},
   "outputs": [
    {
     "ename": "SyntaxError",
     "evalue": "invalid decimal literal (1409042879.py, line 13)",
     "output_type": "error",
     "traceback": [
      "\u001b[1;36m  Cell \u001b[1;32mIn[6], line 13\u001b[1;36m\u001b[0m\n\u001b[1;33m    <weight>2kg</weight>\u001b[0m\n\u001b[1;37m            ^\u001b[0m\n\u001b[1;31mSyntaxError\u001b[0m\u001b[1;31m:\u001b[0m invalid decimal literal\n"
     ]
    }
   ],
   "source": [
    "# Assume you have a DataFrame with an XMLColumn like this:\n",
    "\n",
    "xml\n",
    "Copy code\n",
    "\n",
    "\n",
    "<product>\n",
    "    <id>101</id>\n",
    "    <name>Laptop</name>\n",
    "    <price>1200</price>\n",
    "    <attributes>\n",
    "        <color>Silver</color>\n",
    "        <weight>2kg</weight>\n",
    "    </attributes>\n",
    "</product>\n",
    "\n"
   ]
  },
  {
   "cell_type": "code",
   "execution_count": 10,
   "metadata": {},
   "outputs": [
    {
     "name": "stdout",
     "output_type": "stream",
     "text": [
      "Note: you may need to restart the kernel to use updated packages.\n"
     ]
    },
    {
     "name": "stderr",
     "output_type": "stream",
     "text": [
      "ERROR: Could not find a version that satisfies the requirement spark-xml (from versions: none)\n",
      "\n",
      "[notice] A new release of pip is available: 24.2 -> 24.3.1\n",
      "[notice] To update, run: python.exe -m pip install --upgrade pip\n",
      "ERROR: No matching distribution found for spark-xml\n"
     ]
    }
   ],
   "source": [
    "pip install spark-xml"
   ]
  },
  {
   "cell_type": "code",
   "execution_count": 7,
   "metadata": {},
   "outputs": [
    {
     "data": {
      "text/html": [
       "\n",
       "            <div>\n",
       "                <p><b>SparkSession - in-memory</b></p>\n",
       "                \n",
       "        <div>\n",
       "            <p><b>SparkContext</b></p>\n",
       "\n",
       "            <p><a href=\"http://localhost:4040\">Spark UI</a></p>\n",
       "\n",
       "            <dl>\n",
       "              <dt>Version</dt>\n",
       "                <dd><code>v3.4.3</code></dd>\n",
       "              <dt>Master</dt>\n",
       "                <dd><code>local[*]</code></dd>\n",
       "              <dt>AppName</dt>\n",
       "                <dd><code>OptimizedLocalSpark</code></dd>\n",
       "            </dl>\n",
       "        </div>\n",
       "        \n",
       "            </div>\n",
       "        "
      ],
      "text/plain": [
       "<pyspark.sql.session.SparkSession at 0x1766814b850>"
      ]
     },
     "execution_count": 7,
     "metadata": {},
     "output_type": "execute_result"
    }
   ],
   "source": [
    "SparkSession.builder \\\n",
    "    .appName(\"ReadXMLColumn\") \\\n",
    "    .config(\"spark.jars.packages\", \"org.apache.spark:spark-xml_2.12:0.15.0\") \\\n",
    "    .getOrCreate()\n"
   ]
  },
  {
   "cell_type": "code",
   "execution_count": 13,
   "metadata": {},
   "outputs": [],
   "source": [
    "from pyspark.sql import SparkSession\n",
    "from pyspark.sql.functions import col\n",
    "from pyspark.sql.types import StructType, StructField, StringType\n",
    "\n",
    "# Add the spark-xml package\n",
    "spark = SparkSession.builder \\\n",
    "    .appName(\"XMLExample\") \\\n",
    "    .config(\"spark.jars.packages\", \"org.apache.spark:spark-xml_2.12:0.15.0\") \\\n",
    "    .getOrCreate()\n",
    "\n",
    "# Rest of your PySpark code"
   ]
  },
  {
   "cell_type": "code",
   "execution_count": 15,
   "metadata": {},
   "outputs": [
    {
     "ename": "ImportError",
     "evalue": "cannot import name 'from_xml' from 'pyspark.sql.functions' (C:\\spark\\python\\pyspark\\sql\\functions.py)",
     "output_type": "error",
     "traceback": [
      "\u001b[1;31m---------------------------------------------------------------------------\u001b[0m",
      "\u001b[1;31mImportError\u001b[0m                               Traceback (most recent call last)",
      "Cell \u001b[1;32mIn[15], line 2\u001b[0m\n\u001b[0;32m      1\u001b[0m \u001b[38;5;28;01mfrom\u001b[39;00m \u001b[38;5;21;01mpyspark\u001b[39;00m\u001b[38;5;21;01m.\u001b[39;00m\u001b[38;5;21;01msql\u001b[39;00m \u001b[38;5;28;01mimport\u001b[39;00m SparkSession\n\u001b[1;32m----> 2\u001b[0m \u001b[38;5;28;01mfrom\u001b[39;00m \u001b[38;5;21;01mpyspark\u001b[39;00m\u001b[38;5;21;01m.\u001b[39;00m\u001b[38;5;21;01msql\u001b[39;00m\u001b[38;5;21;01m.\u001b[39;00m\u001b[38;5;21;01mfunctions\u001b[39;00m \u001b[38;5;28;01mimport\u001b[39;00m from_xml, col\n\u001b[0;32m      3\u001b[0m \u001b[38;5;28;01mfrom\u001b[39;00m \u001b[38;5;21;01mpyspark\u001b[39;00m\u001b[38;5;21;01m.\u001b[39;00m\u001b[38;5;21;01msql\u001b[39;00m\u001b[38;5;21;01m.\u001b[39;00m\u001b[38;5;21;01mtypes\u001b[39;00m \u001b[38;5;28;01mimport\u001b[39;00m StructType, StructField, StringType\n\u001b[0;32m      5\u001b[0m \u001b[38;5;66;03m# Initialize Spark session\u001b[39;00m\n",
      "\u001b[1;31mImportError\u001b[0m: cannot import name 'from_xml' from 'pyspark.sql.functions' (C:\\spark\\python\\pyspark\\sql\\functions.py)"
     ]
    }
   ],
   "source": [
    "from pyspark.sql import SparkSession\n",
    "from pyspark.sql.functions import from_xml, col\n",
    "from pyspark.sql.types import StructType, StructField, StringType\n",
    "\n",
    "# Initialize Spark session\n",
    "spark = SparkSession.builder \\\n",
    "    .appName(\"ReadXMLColumn\") \\\n",
    "    .config(\"spark.jars.packages\", \"org.apache.spark:spark-xml_2.12:0.15.0\") \\\n",
    "    .getOrCreate()\n",
    "\n",
    "# Sample DataFrame\n",
    "data = [\n",
    "    (\"<product><id>101</id><name>Laptop</name><price>1200</price><attributes><color>Silver</color><weight>2kg</weight></attributes></product>\",)\n",
    "]\n",
    "columns = [\"XMLColumn\"]\n",
    "df = spark.createDataFrame(data, columns)\n",
    "\n",
    "# Define schema for XML\n",
    "schema = StructType([\n",
    "    StructField(\"id\", StringType(), True),\n",
    "    StructField(\"name\", StringType(), True),\n",
    "    StructField(\"price\", StringType(), True),\n",
    "    StructField(\"attributes\", StructType([\n",
    "        StructField(\"color\", StringType(), True),\n",
    "        StructField(\"weight\", StringType(), True)\n",
    "    ]))\n",
    "])\n",
    "\n",
    "# Parse XML column\n",
    "df_parsed = df.withColumn(\"ParsedXML\", from_xml(col(\"XMLColumn\"), schema))\n",
    "\n",
    "# Select specific fields\n",
    "df_final = df_parsed.select(\n",
    "    col(\"ParsedXML.id\").alias(\"ProductID\"),\n",
    "    col(\"ParsedXML.name\").alias(\"ProductName\"),\n",
    "    col(\"ParsedXML.price\").alias(\"Price\"),\n",
    "    col(\"ParsedXML.attributes.color\").alias(\"Color\"),\n",
    "    col(\"ParsedXML.attributes.weight\").alias(\"Weight\")\n",
    ")\n",
    "\n",
    "df_final.show(truncate=False)\n"
   ]
  },
  {
   "cell_type": "code",
   "execution_count": 3,
   "metadata": {},
   "outputs": [
    {
     "ename": "NameError",
     "evalue": "name 'df' is not defined",
     "output_type": "error",
     "traceback": [
      "\u001b[1;31m---------------------------------------------------------------------------\u001b[0m",
      "\u001b[1;31mNameError\u001b[0m                                 Traceback (most recent call last)",
      "Cell \u001b[1;32mIn[3], line 2\u001b[0m\n\u001b[0;32m      1\u001b[0m \u001b[38;5;66;03m# Register DataFrame as a SQL table\u001b[39;00m\n\u001b[1;32m----> 2\u001b[0m \u001b[43mdf\u001b[49m\u001b[38;5;241m.\u001b[39mcreateOrReplaceTempView(\u001b[38;5;124m\"\u001b[39m\u001b[38;5;124mXMLTable\u001b[39m\u001b[38;5;124m\"\u001b[39m)\n\u001b[0;32m      4\u001b[0m \u001b[38;5;66;03m# Query the XML column using Spark SQL\u001b[39;00m\n\u001b[0;32m      5\u001b[0m result \u001b[38;5;241m=\u001b[39m spark\u001b[38;5;241m.\u001b[39msql(\u001b[38;5;124m\"\"\"\u001b[39m\n\u001b[0;32m      6\u001b[0m \u001b[38;5;124m    SELECT \u001b[39m\n\u001b[0;32m      7\u001b[0m \u001b[38;5;124m        xpath_string(XMLColumn, \u001b[39m\u001b[38;5;124m'\u001b[39m\u001b[38;5;124mproduct/id\u001b[39m\u001b[38;5;124m'\u001b[39m\u001b[38;5;124m) AS ProductID,\u001b[39m\n\u001b[1;32m   (...)\u001b[0m\n\u001b[0;32m     12\u001b[0m \u001b[38;5;124m    FROM XMLTable\u001b[39m\n\u001b[0;32m     13\u001b[0m \u001b[38;5;124m\"\"\"\u001b[39m)\n",
      "\u001b[1;31mNameError\u001b[0m: name 'df' is not defined"
     ]
    }
   ],
   "source": [
    "# Register DataFrame as a SQL table\n",
    "df.createOrReplaceTempView(\"XMLTable\")\n",
    "\n",
    "# Query the XML column using Spark SQL\n",
    "result = spark.sql(\"\"\"\n",
    "    SELECT \n",
    "        xpath_string(XMLColumn, 'product/id') AS ProductID,\n",
    "        xpath_string(XMLColumn, 'product/name') AS ProductName,\n",
    "        xpath_string(XMLColumn, 'product/price') AS Price,\n",
    "        xpath_string(XMLColumn, 'product/attributes/color') AS Color,\n",
    "        xpath_string(XMLColumn, 'product/attributes/weight') AS Weight\n",
    "    FROM XMLTable\n",
    "\"\"\")\n",
    "\n",
    "result.show(truncate=False)\n"
   ]
  },
  {
   "cell_type": "code",
   "execution_count": 4,
   "metadata": {},
   "outputs": [
    {
     "name": "stdout",
     "output_type": "stream",
     "text": [
      "{'ProductID': '101', 'ProductName': 'Laptop', 'Price': '1200', 'Color': 'Silver', 'Weight': '2kg'}\n"
     ]
    }
   ],
   "source": [
    "import xml.etree.ElementTree as ET\n",
    "\n",
    "# Function to parse XML\n",
    "def parse_xml(xml_string):\n",
    "    root = ET.fromstring(xml_string)\n",
    "    return {\n",
    "        \"ProductID\": root.find(\"id\").text,\n",
    "        \"ProductName\": root.find(\"name\").text,\n",
    "        \"Price\": root.find(\"price\").text,\n",
    "        \"Color\": root.find(\"./attributes/color\").text,\n",
    "        \"Weight\": root.find(\"./attributes/weight\").text\n",
    "    }\n",
    "\n",
    "# Example row\n",
    "xml_data = \"<product><id>101</id><name>Laptop</name><price>1200</price><attributes><color>Silver</color><weight>2kg</weight></attributes></product>\"\n",
    "\n",
    "parsed_data = parse_xml(xml_data)\n",
    "print(parsed_data)\n"
   ]
  },
  {
   "cell_type": "code",
   "execution_count": 5,
   "metadata": {},
   "outputs": [
    {
     "name": "stdout",
     "output_type": "stream",
     "text": [
      "{'ProductID': '101', 'ProductName': 'Laptop', 'Price': '1200', 'Color': 'Silver', 'Weight': '2kg'}\n"
     ]
    }
   ],
   "source": [
    "from lxml import etree\n",
    "\n",
    "# Function to parse XML with XPath\n",
    "def parse_xml_with_xpath(xml_string):\n",
    "    root = etree.fromstring(xml_string)\n",
    "    return {\n",
    "        \"ProductID\": root.xpath(\"id/text()\")[0],\n",
    "        \"ProductName\": root.xpath(\"name/text()\")[0],\n",
    "        \"Price\": root.xpath(\"price/text()\")[0],\n",
    "        \"Color\": root.xpath(\"attributes/color/text()\")[0],\n",
    "        \"Weight\": root.xpath(\"attributes/weight/text()\")[0]\n",
    "    }\n",
    "\n",
    "# Example row\n",
    "xml_data = \"<product><id>101</id><name>Laptop</name><price>1200</price><attributes><color>Silver</color><weight>2kg</weight></attributes></product>\"\n",
    "\n",
    "parsed_data = parse_xml_with_xpath(xml_data)\n",
    "print(parsed_data)\n"
   ]
  },
  {
   "cell_type": "code",
   "execution_count": 14,
   "metadata": {},
   "outputs": [
    {
     "name": "stdout",
     "output_type": "stream",
     "text": [
      "+---------------------------------------------------------------------+---------+\n",
      "|XMLColumn                                                            |ProductID|\n",
      "+---------------------------------------------------------------------+---------+\n",
      "|<product><id>101</id><name>Laptop</name><price>1200</price></product>|101      |\n",
      "+---------------------------------------------------------------------+---------+\n",
      "\n"
     ]
    }
   ],
   "source": [
    "import xml.etree.ElementTree as ET\n",
    "from pyspark.sql import SparkSession\n",
    "from pyspark.sql.functions import udf\n",
    "from pyspark.sql.types import StringType\n",
    "\n",
    "# Initialize Spark session\n",
    "spark = SparkSession.builder.appName(\"XMLProcessing\").getOrCreate()\n",
    "\n",
    "# Sample DataFrame\n",
    "data = [\n",
    "    (\"<product><id>101</id><name>Laptop</name><price>1200</price></product>\",),\n",
    "]\n",
    "columns = [\"XMLColumn\"]\n",
    "df = spark.createDataFrame(data, columns)\n",
    "\n",
    "# Define UDF for parsing XML\n",
    "def parse_xml(xml_string):\n",
    "    root = ET.fromstring(xml_string)\n",
    "    return root.find(\"id\").text\n",
    "\n",
    "# Register UDF\n",
    "parse_xml_udf = udf(parse_xml, StringType())\n",
    "\n",
    "# Apply UDF to extract data from XML\n",
    "df_parsed = df.withColumn(\"ProductID\", parse_xml_udf(col(\"XMLColumn\")))\n",
    "\n",
    "df_parsed.show(truncate=False)\n"
   ]
  },
  {
   "cell_type": "code",
   "execution_count": null,
   "metadata": {},
   "outputs": [],
   "source": []
  }
 ],
 "metadata": {
  "kernelspec": {
   "display_name": "Python 3",
   "language": "python",
   "name": "python3"
  },
  "language_info": {
   "codemirror_mode": {
    "name": "ipython",
    "version": 3
   },
   "file_extension": ".py",
   "mimetype": "text/x-python",
   "name": "python",
   "nbconvert_exporter": "python",
   "pygments_lexer": "ipython3",
   "version": "3.11.8"
  }
 },
 "nbformat": 4,
 "nbformat_minor": 2
}
