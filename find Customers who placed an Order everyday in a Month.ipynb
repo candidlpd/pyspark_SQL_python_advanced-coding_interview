{
 "cells": [
  {
   "cell_type": "code",
   "execution_count": 1,
   "metadata": {},
   "outputs": [
    {
     "name": "stdout",
     "output_type": "stream",
     "text": [
      "H:\\pyspark_advanced-coding_interview\n"
     ]
    }
   ],
   "source": [
    "import os\n",
    "os.getcwd()\n",
    "os.chdir(\"H:\\pyspark_advanced-coding_interview\")\n",
    "print(os.getcwd())\n",
    "\n",
    "from pyspark.sql import SparkSession\n",
    "\n",
    "# Create a Spark session with optimized settings\n",
    "spark = (SparkSession.builder .appName(\"OptimizedLocalSpark\") .getOrCreate())\n",
    "sc = spark.sparkContext"
   ]
  },
  {
   "cell_type": "code",
   "execution_count": 1,
   "metadata": {},
   "outputs": [
    {
     "name": "stdout",
     "output_type": "stream",
     "text": [
      "+----------+----------+\n",
      "|CustomerID| OrderDate|\n",
      "+----------+----------+\n",
      "|         1|2024-11-01|\n",
      "|         1|2024-11-02|\n",
      "|         1|2024-11-03|\n",
      "|         1|2024-11-04|\n",
      "|         2|2024-11-01|\n",
      "|         2|2024-11-02|\n",
      "|         2|2024-11-04|\n",
      "|         2|2024-11-05|\n",
      "|         3|2024-11-01|\n",
      "|         3|2024-11-02|\n",
      "|         3|2024-11-03|\n",
      "|         3|2024-11-04|\n",
      "+----------+----------+\n",
      "\n"
     ]
    }
   ],
   "source": [
    "from pyspark.sql import SparkSession\n",
    "\n",
    "# Initialize Spark session\n",
    "spark = SparkSession.builder.appName(\"CustomerOrders\").getOrCreate()\n",
    "\n",
    "# Sample data\n",
    "data = [\n",
    "    (1, \"2024-11-01\"), (1, \"2024-11-02\"), (1, \"2024-11-03\"), (1, \"2024-11-04\"),\n",
    "    (2, \"2024-11-01\"), (2, \"2024-11-02\"), (2, \"2024-11-04\"), (2, \"2024-11-05\"),\n",
    "    (3, \"2024-11-01\"), (3, \"2024-11-02\"), (3, \"2024-11-03\"), (3, \"2024-11-04\"),\n",
    "]\n",
    "columns = [\"CustomerID\", \"OrderDate\"]\n",
    "\n",
    "df = spark.createDataFrame(data, columns)\n",
    "df.show()\n",
    "\n",
    "\n"
   ]
  },
  {
   "cell_type": "code",
   "execution_count": 2,
   "metadata": {},
   "outputs": [
    {
     "name": "stdout",
     "output_type": "stream",
     "text": [
      "+----------+\n",
      "|CustomerID|\n",
      "+----------+\n",
      "+----------+\n",
      "\n"
     ]
    }
   ],
   "source": [
    "# Register the DataFrame as a SQL view\n",
    "df.createOrReplaceTempView(\"orders\")\n",
    "\n",
    "# SQL Query\n",
    "result_sql = spark.sql(\"\"\"\n",
    "    WITH DailyOrders AS (\n",
    "        SELECT \n",
    "            CustomerID, \n",
    "            COUNT(DISTINCT OrderDate) AS OrderDays\n",
    "        FROM orders\n",
    "        WHERE MONTH(OrderDate) = 11 AND YEAR(OrderDate) = 2024\n",
    "        GROUP BY CustomerID\n",
    "    ),\n",
    "    TotalDays AS (\n",
    "        SELECT COUNT(DISTINCT OrderDate) AS TotalDays\n",
    "        FROM orders\n",
    "        WHERE MONTH(OrderDate) = 11 AND YEAR(OrderDate) = 2024\n",
    "    )\n",
    "    SELECT \n",
    "        d.CustomerID\n",
    "    FROM DailyOrders d\n",
    "    CROSS JOIN TotalDays t\n",
    "    WHERE d.OrderDays = t.TotalDays\n",
    "\"\"\")\n",
    "\n",
    "result_sql.show()"
   ]
  },
  {
   "cell_type": "code",
   "execution_count": 3,
   "metadata": {},
   "outputs": [
    {
     "name": "stdout",
     "output_type": "stream",
     "text": [
      "+----------+---------+\n",
      "|CustomerID|OrderDays|\n",
      "+----------+---------+\n",
      "+----------+---------+\n",
      "\n"
     ]
    }
   ],
   "source": [
    "from pyspark.sql.functions import col, countDistinct, lit\n",
    "\n",
    "# Extract month and year for filtering\n",
    "filtered_df = df.filter((col(\"OrderDate\").substr(1, 7) == lit(\"2024-11\")))\n",
    "\n",
    "# Count unique dates for each customer\n",
    "customer_days = filtered_df.groupBy(\"CustomerID\").agg(countDistinct(\"OrderDate\").alias(\"OrderDays\"))\n",
    "\n",
    "# Count total unique days in the month\n",
    "total_days = filtered_df.select(countDistinct(\"OrderDate\").alias(\"TotalDays\")).collect()[0][\"TotalDays\"]\n",
    "\n",
    "# Filter customers who ordered on all days\n",
    "result_df = customer_days.filter(col(\"OrderDays\") == total_days)\n",
    "\n",
    "result_df.show()\n"
   ]
  },
  {
   "cell_type": "code",
   "execution_count": 4,
   "metadata": {},
   "outputs": [
    {
     "name": "stdout",
     "output_type": "stream",
     "text": [
      "[]\n"
     ]
    }
   ],
   "source": [
    "# Collect data\n",
    "data = filtered_df.collect()\n",
    "\n",
    "# Get unique days in the month\n",
    "unique_days = set([row[\"OrderDate\"] for row in data])\n",
    "\n",
    "# Group orders by CustomerID\n",
    "from collections import defaultdict\n",
    "\n",
    "customer_orders = defaultdict(set)\n",
    "for row in data:\n",
    "    customer_orders[row[\"CustomerID\"]].add(row[\"OrderDate\"])\n",
    "\n",
    "# Find customers who ordered every day\n",
    "customers_everyday = [\n",
    "    customer for customer, days in customer_orders.items()\n",
    "    if days == unique_days\n",
    "]\n",
    "\n",
    "print(customers_everyday)\n"
   ]
  },
  {
   "cell_type": "code",
   "execution_count": 5,
   "metadata": {},
   "outputs": [
    {
     "ename": "AnalysisException",
     "evalue": "Distinct window functions are not supported: count(distinct OrderDate#1) windowspecdefinition(CustomerID#0L, specifiedwindowframe(RowFrame, unboundedpreceding$(), unboundedfollowing$())).;\nProject [CustomerID#0L, OrderDate#1, OrderDays#71L]\n+- Project [CustomerID#0L, OrderDate#1, OrderDays#71L, OrderDays#71L]\n   +- Window [count(distinct OrderDate#1) windowspecdefinition(CustomerID#0L, specifiedwindowframe(RowFrame, unboundedpreceding$(), unboundedfollowing$())) AS OrderDays#71L], [CustomerID#0L]\n      +- Project [CustomerID#0L, OrderDate#1]\n         +- Filter (substring(OrderDate#1, 1, 7) = 2024-11)\n            +- LogicalRDD [CustomerID#0L, OrderDate#1], false\n",
     "output_type": "error",
     "traceback": [
      "\u001b[1;31m---------------------------------------------------------------------------\u001b[0m",
      "\u001b[1;31mAnalysisException\u001b[0m                         Traceback (most recent call last)",
      "Cell \u001b[1;32mIn[5], line 8\u001b[0m\n\u001b[0;32m      5\u001b[0m windowSpec \u001b[38;5;241m=\u001b[39m Window\u001b[38;5;241m.\u001b[39mpartitionBy(\u001b[38;5;124m\"\u001b[39m\u001b[38;5;124mCustomerID\u001b[39m\u001b[38;5;124m\"\u001b[39m)\n\u001b[0;32m      7\u001b[0m \u001b[38;5;66;03m# Count distinct days for each customer\u001b[39;00m\n\u001b[1;32m----> 8\u001b[0m df_with_days \u001b[38;5;241m=\u001b[39m \u001b[43mfiltered_df\u001b[49m\u001b[38;5;241;43m.\u001b[39;49m\u001b[43mwithColumn\u001b[49m\u001b[43m(\u001b[49m\u001b[38;5;124;43m\"\u001b[39;49m\u001b[38;5;124;43mOrderDays\u001b[39;49m\u001b[38;5;124;43m\"\u001b[39;49m\u001b[43m,\u001b[49m\u001b[43m \u001b[49m\u001b[43mcountDistinct\u001b[49m\u001b[43m(\u001b[49m\u001b[38;5;124;43m\"\u001b[39;49m\u001b[38;5;124;43mOrderDate\u001b[39;49m\u001b[38;5;124;43m\"\u001b[39;49m\u001b[43m)\u001b[49m\u001b[38;5;241;43m.\u001b[39;49m\u001b[43mover\u001b[49m\u001b[43m(\u001b[49m\u001b[43mwindowSpec\u001b[49m\u001b[43m)\u001b[49m\u001b[43m)\u001b[49m\n\u001b[0;32m     10\u001b[0m \u001b[38;5;66;03m# Count total days in the month\u001b[39;00m\n\u001b[0;32m     11\u001b[0m total_days \u001b[38;5;241m=\u001b[39m filtered_df\u001b[38;5;241m.\u001b[39mselect(countDistinct(\u001b[38;5;124m\"\u001b[39m\u001b[38;5;124mOrderDate\u001b[39m\u001b[38;5;124m\"\u001b[39m)\u001b[38;5;241m.\u001b[39malias(\u001b[38;5;124m\"\u001b[39m\u001b[38;5;124mTotalDays\u001b[39m\u001b[38;5;124m\"\u001b[39m))\u001b[38;5;241m.\u001b[39mcollect()[\u001b[38;5;241m0\u001b[39m][\u001b[38;5;124m\"\u001b[39m\u001b[38;5;124mTotalDays\u001b[39m\u001b[38;5;124m\"\u001b[39m]\n",
      "File \u001b[1;32mC:\\spark\\python\\pyspark\\sql\\dataframe.py:4791\u001b[0m, in \u001b[0;36mDataFrame.withColumn\u001b[1;34m(self, colName, col)\u001b[0m\n\u001b[0;32m   4786\u001b[0m \u001b[38;5;28;01mif\u001b[39;00m \u001b[38;5;129;01mnot\u001b[39;00m \u001b[38;5;28misinstance\u001b[39m(col, Column):\n\u001b[0;32m   4787\u001b[0m     \u001b[38;5;28;01mraise\u001b[39;00m PySparkTypeError(\n\u001b[0;32m   4788\u001b[0m         error_class\u001b[38;5;241m=\u001b[39m\u001b[38;5;124m\"\u001b[39m\u001b[38;5;124mNOT_COLUMN\u001b[39m\u001b[38;5;124m\"\u001b[39m,\n\u001b[0;32m   4789\u001b[0m         message_parameters\u001b[38;5;241m=\u001b[39m{\u001b[38;5;124m\"\u001b[39m\u001b[38;5;124marg_name\u001b[39m\u001b[38;5;124m\"\u001b[39m: \u001b[38;5;124m\"\u001b[39m\u001b[38;5;124mcol\u001b[39m\u001b[38;5;124m\"\u001b[39m, \u001b[38;5;124m\"\u001b[39m\u001b[38;5;124marg_type\u001b[39m\u001b[38;5;124m\"\u001b[39m: \u001b[38;5;28mtype\u001b[39m(col)\u001b[38;5;241m.\u001b[39m\u001b[38;5;18m__name__\u001b[39m},\n\u001b[0;32m   4790\u001b[0m     )\n\u001b[1;32m-> 4791\u001b[0m \u001b[38;5;28;01mreturn\u001b[39;00m DataFrame(\u001b[38;5;28;43mself\u001b[39;49m\u001b[38;5;241;43m.\u001b[39;49m\u001b[43m_jdf\u001b[49m\u001b[38;5;241;43m.\u001b[39;49m\u001b[43mwithColumn\u001b[49m\u001b[43m(\u001b[49m\u001b[43mcolName\u001b[49m\u001b[43m,\u001b[49m\u001b[43m \u001b[49m\u001b[43mcol\u001b[49m\u001b[38;5;241;43m.\u001b[39;49m\u001b[43m_jc\u001b[49m\u001b[43m)\u001b[49m, \u001b[38;5;28mself\u001b[39m\u001b[38;5;241m.\u001b[39msparkSession)\n",
      "File \u001b[1;32mc:\\Users\\lpdda\\AppData\\Local\\Programs\\Python\\Python311\\Lib\\site-packages\\py4j\\java_gateway.py:1322\u001b[0m, in \u001b[0;36mJavaMember.__call__\u001b[1;34m(self, *args)\u001b[0m\n\u001b[0;32m   1316\u001b[0m command \u001b[38;5;241m=\u001b[39m proto\u001b[38;5;241m.\u001b[39mCALL_COMMAND_NAME \u001b[38;5;241m+\u001b[39m\\\n\u001b[0;32m   1317\u001b[0m     \u001b[38;5;28mself\u001b[39m\u001b[38;5;241m.\u001b[39mcommand_header \u001b[38;5;241m+\u001b[39m\\\n\u001b[0;32m   1318\u001b[0m     args_command \u001b[38;5;241m+\u001b[39m\\\n\u001b[0;32m   1319\u001b[0m     proto\u001b[38;5;241m.\u001b[39mEND_COMMAND_PART\n\u001b[0;32m   1321\u001b[0m answer \u001b[38;5;241m=\u001b[39m \u001b[38;5;28mself\u001b[39m\u001b[38;5;241m.\u001b[39mgateway_client\u001b[38;5;241m.\u001b[39msend_command(command)\n\u001b[1;32m-> 1322\u001b[0m return_value \u001b[38;5;241m=\u001b[39m \u001b[43mget_return_value\u001b[49m\u001b[43m(\u001b[49m\n\u001b[0;32m   1323\u001b[0m \u001b[43m    \u001b[49m\u001b[43manswer\u001b[49m\u001b[43m,\u001b[49m\u001b[43m \u001b[49m\u001b[38;5;28;43mself\u001b[39;49m\u001b[38;5;241;43m.\u001b[39;49m\u001b[43mgateway_client\u001b[49m\u001b[43m,\u001b[49m\u001b[43m \u001b[49m\u001b[38;5;28;43mself\u001b[39;49m\u001b[38;5;241;43m.\u001b[39;49m\u001b[43mtarget_id\u001b[49m\u001b[43m,\u001b[49m\u001b[43m \u001b[49m\u001b[38;5;28;43mself\u001b[39;49m\u001b[38;5;241;43m.\u001b[39;49m\u001b[43mname\u001b[49m\u001b[43m)\u001b[49m\n\u001b[0;32m   1325\u001b[0m \u001b[38;5;28;01mfor\u001b[39;00m temp_arg \u001b[38;5;129;01min\u001b[39;00m temp_args:\n\u001b[0;32m   1326\u001b[0m     \u001b[38;5;28;01mif\u001b[39;00m \u001b[38;5;28mhasattr\u001b[39m(temp_arg, \u001b[38;5;124m\"\u001b[39m\u001b[38;5;124m_detach\u001b[39m\u001b[38;5;124m\"\u001b[39m):\n",
      "File \u001b[1;32mC:\\spark\\python\\pyspark\\errors\\exceptions\\captured.py:175\u001b[0m, in \u001b[0;36mcapture_sql_exception.<locals>.deco\u001b[1;34m(*a, **kw)\u001b[0m\n\u001b[0;32m    171\u001b[0m converted \u001b[38;5;241m=\u001b[39m convert_exception(e\u001b[38;5;241m.\u001b[39mjava_exception)\n\u001b[0;32m    172\u001b[0m \u001b[38;5;28;01mif\u001b[39;00m \u001b[38;5;129;01mnot\u001b[39;00m \u001b[38;5;28misinstance\u001b[39m(converted, UnknownException):\n\u001b[0;32m    173\u001b[0m     \u001b[38;5;66;03m# Hide where the exception came from that shows a non-Pythonic\u001b[39;00m\n\u001b[0;32m    174\u001b[0m     \u001b[38;5;66;03m# JVM exception message.\u001b[39;00m\n\u001b[1;32m--> 175\u001b[0m     \u001b[38;5;28;01mraise\u001b[39;00m converted \u001b[38;5;28;01mfrom\u001b[39;00m \u001b[38;5;28;01mNone\u001b[39;00m\n\u001b[0;32m    176\u001b[0m \u001b[38;5;28;01melse\u001b[39;00m:\n\u001b[0;32m    177\u001b[0m     \u001b[38;5;28;01mraise\u001b[39;00m\n",
      "\u001b[1;31mAnalysisException\u001b[0m: Distinct window functions are not supported: count(distinct OrderDate#1) windowspecdefinition(CustomerID#0L, specifiedwindowframe(RowFrame, unboundedpreceding$(), unboundedfollowing$())).;\nProject [CustomerID#0L, OrderDate#1, OrderDays#71L]\n+- Project [CustomerID#0L, OrderDate#1, OrderDays#71L, OrderDays#71L]\n   +- Window [count(distinct OrderDate#1) windowspecdefinition(CustomerID#0L, specifiedwindowframe(RowFrame, unboundedpreceding$(), unboundedfollowing$())) AS OrderDays#71L], [CustomerID#0L]\n      +- Project [CustomerID#0L, OrderDate#1]\n         +- Filter (substring(OrderDate#1, 1, 7) = 2024-11)\n            +- LogicalRDD [CustomerID#0L, OrderDate#1], false\n"
     ]
    }
   ],
   "source": [
    "from pyspark.sql.window import Window\n",
    "from pyspark.sql.functions import countDistinct\n",
    "\n",
    "# Define a window over CustomerID\n",
    "windowSpec = Window.partitionBy(\"CustomerID\")\n",
    "\n",
    "# Count distinct days for each customer\n",
    "df_with_days = filtered_df.withColumn(\"OrderDays\", countDistinct(\"OrderDate\").over(windowSpec))\n",
    "\n",
    "# Count total days in the month\n",
    "total_days = filtered_df.select(countDistinct(\"OrderDate\").alias(\"TotalDays\")).collect()[0][\"TotalDays\"]\n",
    "\n",
    "# Filter customers\n",
    "result_df = df_with_days.filter(col(\"OrderDays\") == total_days).select(\"CustomerID\").distinct()\n",
    "\n",
    "result_df.show()\n"
   ]
  },
  {
   "cell_type": "code",
   "execution_count": null,
   "metadata": {},
   "outputs": [],
   "source": []
  }
 ],
 "metadata": {
  "kernelspec": {
   "display_name": "Python 3",
   "language": "python",
   "name": "python3"
  },
  "language_info": {
   "codemirror_mode": {
    "name": "ipython",
    "version": 3
   },
   "file_extension": ".py",
   "mimetype": "text/x-python",
   "name": "python",
   "nbconvert_exporter": "python",
   "pygments_lexer": "ipython3",
   "version": "3.11.8"
  }
 },
 "nbformat": 4,
 "nbformat_minor": 2
}
