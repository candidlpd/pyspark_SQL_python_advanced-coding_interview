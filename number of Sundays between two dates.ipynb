{
 "cells": [
  {
   "cell_type": "code",
   "execution_count": 2,
   "metadata": {},
   "outputs": [
    {
     "name": "stdout",
     "output_type": "stream",
     "text": [
      "H:\\pyspark_advanced-coding_interview\n"
     ]
    }
   ],
   "source": [
    "import os\n",
    "os.getcwd()\n",
    "os.chdir(\"H:\\pyspark_advanced-coding_interview\")\n",
    "print(os.getcwd())\n",
    "\n",
    "from pyspark.sql import SparkSession\n",
    "\n",
    "# Create a Spark session with optimized settings\n",
    "spark = (SparkSession.builder .appName(\"OptimizedLocalSpark\") .getOrCreate())\n",
    "sc = spark.sparkContext"
   ]
  },
  {
   "cell_type": "code",
   "execution_count": 3,
   "metadata": {},
   "outputs": [
    {
     "name": "stdout",
     "output_type": "stream",
     "text": [
      "+----------+----------+\n",
      "| StartDate|   EndDate|\n",
      "+----------+----------+\n",
      "|2023-01-01|2023-01-15|\n",
      "|2023-02-01|2023-02-28|\n",
      "|2023-03-01|2023-03-15|\n",
      "+----------+----------+\n",
      "\n"
     ]
    }
   ],
   "source": [
    "from pyspark.sql import SparkSession\n",
    "from pyspark.sql.functions import col, udf\n",
    "from pyspark.sql.types import IntegerType\n",
    "from datetime import datetime, timedelta\n",
    "\n",
    "# Initialize Spark session\n",
    "spark = SparkSession.builder.appName(\"FindSundays\").getOrCreate()\n",
    "\n",
    "# Sample data\n",
    "data = [(\"2023-01-01\", \"2023-01-15\"), (\"2023-02-01\", \"2023-02-28\"), (\"2023-03-01\", \"2023-03-15\")]\n",
    "columns = [\"StartDate\", \"EndDate\"]\n",
    "\n",
    "# Create DataFrame\n",
    "df = spark.createDataFrame(data, columns)\n",
    "\n",
    "df.show()\n",
    "\n",
    "\n",
    "\n"
   ]
  },
  {
   "cell_type": "code",
   "execution_count": 4,
   "metadata": {},
   "outputs": [
    {
     "name": "stdout",
     "output_type": "stream",
     "text": [
      "+----------+----------+---------------+\n",
      "| StartDate|   EndDate|NumberOfSundays|\n",
      "+----------+----------+---------------+\n",
      "|2023-01-01|2023-01-15|              3|\n",
      "|2023-02-01|2023-02-28|              4|\n",
      "|2023-03-01|2023-03-15|              2|\n",
      "+----------+----------+---------------+\n",
      "\n"
     ]
    }
   ],
   "source": [
    "\n",
    "# Define UDF to calculate number of Sundays\n",
    "def count_sundays(start_date, end_date):\n",
    "    start = datetime.strptime(start_date, \"%Y-%m-%d\")\n",
    "    end = datetime.strptime(end_date, \"%Y-%m-%d\")\n",
    "    count = 0\n",
    "    while start <= end:\n",
    "        if start.weekday() == 6:  # Sunday is represented by 6\n",
    "            count += 1\n",
    "        start += timedelta(days=1)\n",
    "    return count\n",
    "\n",
    "count_sundays_udf = udf(count_sundays, IntegerType())\n",
    "\n",
    "# Apply UDF to DataFrame\n",
    "df = df.withColumn(\"NumberOfSundays\", count_sundays_udf(col(\"StartDate\"), col(\"EndDate\")))\n",
    "df.show()"
   ]
  },
  {
   "cell_type": "code",
   "execution_count": 5,
   "metadata": {},
   "outputs": [
    {
     "name": "stdout",
     "output_type": "stream",
     "text": [
      "+----------+----------+---------+---------------+\n",
      "| StartDate|   EndDate|TotalDays|NumberOfSundays|\n",
      "+----------+----------+---------+---------------+\n",
      "|2023-01-01|2023-01-15|       14|              2|\n",
      "|2023-02-01|2023-02-28|       27|              4|\n",
      "|2023-03-01|2023-03-15|       14|              2|\n",
      "+----------+----------+---------+---------------+\n",
      "\n"
     ]
    }
   ],
   "source": [
    "from pyspark.sql.functions import expr\n",
    "\n",
    "# Add real-time data to DataFrame\n",
    "df.createOrReplaceTempView(\"date_range\")\n",
    "\n",
    "# Use Spark SQL to calculate number of Sundays\n",
    "result = spark.sql(\"\"\"\n",
    "    SELECT \n",
    "        StartDate, \n",
    "        EndDate,\n",
    "        DATEDIFF(EndDate, StartDate) AS TotalDays,\n",
    "        FLOOR((DATEDIFF(EndDate, StartDate) + 1) / 7) AS NumberOfSundays\n",
    "    FROM date_range\n",
    "\"\"\")\n",
    "\n",
    "result.show()\n"
   ]
  },
  {
   "cell_type": "code",
   "execution_count": 6,
   "metadata": {},
   "outputs": [
    {
     "name": "stdout",
     "output_type": "stream",
     "text": [
      "+----------+----------+---------------+\n",
      "| StartDate|   EndDate|NumberOfSundays|\n",
      "+----------+----------+---------------+\n",
      "|2023-01-01|2023-01-15|              3|\n",
      "|2023-02-01|2023-02-28|              4|\n",
      "|2023-03-01|2023-03-15|              2|\n",
      "+----------+----------+---------------+\n",
      "\n"
     ]
    }
   ],
   "source": [
    "from pyspark.sql.functions import col, explode, sequence, lit, dayofweek\n",
    "\n",
    "# Create DataFrame with date range\n",
    "df = df.withColumn(\n",
    "    \"DateRange\",\n",
    "    sequence(col(\"StartDate\").cast(\"date\"), col(\"EndDate\").cast(\"date\"))\n",
    ")\n",
    "\n",
    "# Explode date range into individual dates\n",
    "df = df.withColumn(\"IndividualDate\", explode(col(\"DateRange\")))\n",
    "\n",
    "# Filter Sundays and count them\n",
    "df_sundays = df.filter(dayofweek(col(\"IndividualDate\")) == 1)  # Sunday is 1 in Spark SQL\n",
    "result = df_sundays.groupBy(\"StartDate\", \"EndDate\").count().withColumnRenamed(\"count\", \"NumberOfSundays\")\n",
    "\n",
    "result.show()\n"
   ]
  },
  {
   "cell_type": "code",
   "execution_count": 7,
   "metadata": {},
   "outputs": [
    {
     "name": "stdout",
     "output_type": "stream",
     "text": [
      "Number of Sundays: 3\n"
     ]
    }
   ],
   "source": [
    "from datetime import datetime, timedelta\n",
    "\n",
    "def count_sundays(start_date, end_date):\n",
    "    start = datetime.strptime(start_date, \"%Y-%m-%d\")\n",
    "    end = datetime.strptime(end_date, \"%Y-%m-%d\")\n",
    "    count = 0\n",
    "    while start <= end:\n",
    "        if start.weekday() == 6:  # Sunday is represented by 6\n",
    "            count += 1\n",
    "        start += timedelta(days=1)\n",
    "    return count\n",
    "\n",
    "# Example usage\n",
    "start_date = \"2023-01-01\"\n",
    "end_date = \"2023-01-15\"\n",
    "print(\"Number of Sundays:\", count_sundays(start_date, end_date))\n"
   ]
  },
  {
   "cell_type": "code",
   "execution_count": null,
   "metadata": {},
   "outputs": [],
   "source": []
  }
 ],
 "metadata": {
  "kernelspec": {
   "display_name": "Python 3",
   "language": "python",
   "name": "python3"
  },
  "language_info": {
   "codemirror_mode": {
    "name": "ipython",
    "version": 3
   },
   "file_extension": ".py",
   "mimetype": "text/x-python",
   "name": "python",
   "nbconvert_exporter": "python",
   "pygments_lexer": "ipython3",
   "version": "3.11.8"
  }
 },
 "nbformat": 4,
 "nbformat_minor": 2
}
