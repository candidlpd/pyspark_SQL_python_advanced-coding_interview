{
 "cells": [
  {
   "cell_type": "code",
   "execution_count": 2,
   "metadata": {},
   "outputs": [
    {
     "name": "stdout",
     "output_type": "stream",
     "text": [
      "pip 24.3.1 from c:\\Users\\lpdda\\AppData\\Local\\Programs\\Python\\Python311\\Lib\\site-packages\\pip (python 3.11)\n",
      "\n",
      "Note: you may need to restart the kernel to use updated packages.\n"
     ]
    }
   ],
   "source": [
    "pip --version"
   ]
  },
  {
   "cell_type": "code",
   "execution_count": 5,
   "metadata": {},
   "outputs": [
    {
     "name": "stdout",
     "output_type": "stream",
     "text": [
      "python version: 3.11.8 (tags/v3.11.8:db85d51, Feb  6 2024, 22:03:32) [MSC v.1937 64 bit (AMD64)]\n"
     ]
    }
   ],
   "source": [
    "import sys   \n",
    "print('python version:', sys.version)"
   ]
  },
  {
   "cell_type": "code",
   "execution_count": 13,
   "metadata": {},
   "outputs": [
    {
     "name": "stdout",
     "output_type": "stream",
     "text": [
      "c:\\Users\\lpdda\\AppData\\Local\\Programs\\Python\\Python311\\python.exe\n"
     ]
    }
   ],
   "source": [
    "print(sys.executable)"
   ]
  },
  {
   "cell_type": "code",
   "execution_count": 6,
   "metadata": {},
   "outputs": [
    {
     "name": "stdout",
     "output_type": "stream",
     "text": [
      "Python 3.11.8\n"
     ]
    }
   ],
   "source": [
    "!python --version"
   ]
  },
  {
   "cell_type": "code",
   "execution_count": 8,
   "metadata": {},
   "outputs": [
    {
     "name": "stdout",
     "output_type": "stream",
     "text": [
      "c:\\Users\\lpdda\\AppData\\Local\\Programs\\Python\\Python311\\python.exe\n"
     ]
    }
   ],
   "source": [
    "!where python"
   ]
  },
  {
   "cell_type": "code",
   "execution_count": 9,
   "metadata": {},
   "outputs": [
    {
     "name": "stdout",
     "output_type": "stream",
     "text": [
      "openjdk 11.0.0.1 2023-05-09\n",
      "OpenJDK Runtime Environment 18.9 (build 11.0.0.1+3-5)\n",
      "OpenJDK 64-Bit Server VM 18.9 (build 11.0.0.1+3-5, mixed mode)\n"
     ]
    }
   ],
   "source": [
    "!java --version"
   ]
  },
  {
   "cell_type": "code",
   "execution_count": 10,
   "metadata": {},
   "outputs": [
    {
     "name": "stdout",
     "output_type": "stream",
     "text": [
      "C:\\Program Files\\Java\\jdk-11.0.0.1\\bin\\java.exe\n"
     ]
    }
   ],
   "source": [
    "!where java"
   ]
  },
  {
   "cell_type": "code",
   "execution_count": 14,
   "metadata": {},
   "outputs": [
    {
     "data": {
      "text/plain": [
       "'C:\\\\Program Files\\\\Java\\\\jdk-11.0.0.1'"
      ]
     },
     "execution_count": 14,
     "metadata": {},
     "output_type": "execute_result"
    }
   ],
   "source": [
    "os.environ.get(\"JAVA_HOME\")"
   ]
  },
  {
   "cell_type": "code",
   "execution_count": 15,
   "metadata": {},
   "outputs": [
    {
     "name": "stdout",
     "output_type": "stream",
     "text": [
      "3.4.3\n"
     ]
    }
   ],
   "source": [
    "from pyspark.sql import SparkSession \n",
    "spark = SparkSession.builder.master(\"local\").appName(\"test2\").getOrCreate()\n",
    "\n",
    "print(spark.version)"
   ]
  },
  {
   "cell_type": "code",
   "execution_count": 16,
   "metadata": {},
   "outputs": [
    {
     "name": "stdout",
     "output_type": "stream",
     "text": [
      "C:\\spark\n"
     ]
    }
   ],
   "source": [
    "print(os.environ.get(\"SPARK_HOME\"))"
   ]
  },
  {
   "cell_type": "code",
   "execution_count": 18,
   "metadata": {},
   "outputs": [
    {
     "name": "stdout",
     "output_type": "stream",
     "text": [
      "3.4.3\n"
     ]
    }
   ],
   "source": [
    "import pyspark \n",
    "\n",
    "print(pyspark.__version__)"
   ]
  },
  {
   "cell_type": "code",
   "execution_count": 21,
   "metadata": {},
   "outputs": [
    {
     "name": "stdout",
     "output_type": "stream",
     "text": [
      "C:\\hadoop\n"
     ]
    }
   ],
   "source": [
    "print(os.environ.get(\"HADOOP_HOME\"))"
   ]
  },
  {
   "cell_type": "code",
   "execution_count": 23,
   "metadata": {},
   "outputs": [
    {
     "name": "stdout",
     "output_type": "stream",
     "text": [
      "h:\\pyspark_SQL_python_advanced-coding_interview\n"
     ]
    },
    {
     "ename": "FileNotFoundError",
     "evalue": "[WinError 2] The system cannot find the file specified: 'H://pyspark_SQL_python_advanced-coding_interview//CTE'",
     "output_type": "error",
     "traceback": [
      "\u001b[1;31m---------------------------------------------------------------------------\u001b[0m",
      "\u001b[1;31mFileNotFoundError\u001b[0m                         Traceback (most recent call last)",
      "Cell \u001b[1;32mIn[23], line 3\u001b[0m\n\u001b[0;32m      1\u001b[0m \u001b[38;5;28;01mimport\u001b[39;00m \u001b[38;5;21;01mos\u001b[39;00m \n\u001b[0;32m      2\u001b[0m \u001b[38;5;28mprint\u001b[39m(os\u001b[38;5;241m.\u001b[39mgetcwd())\n\u001b[1;32m----> 3\u001b[0m \u001b[38;5;28mprint\u001b[39m(\u001b[43mos\u001b[49m\u001b[38;5;241;43m.\u001b[39;49m\u001b[43mchdir\u001b[49m\u001b[43m(\u001b[49m\u001b[38;5;124;43m\"\u001b[39;49m\u001b[38;5;124;43mH://pyspark_SQL_python_advanced-coding_interview//CTE\u001b[39;49m\u001b[38;5;124;43m\"\u001b[39;49m\u001b[43m)\u001b[49m)\n",
      "\u001b[1;31mFileNotFoundError\u001b[0m: [WinError 2] The system cannot find the file specified: 'H://pyspark_SQL_python_advanced-coding_interview//CTE'"
     ]
    }
   ],
   "source": [
    "import os \n",
    "print(os.getcwd())\n",
    "print(os.chdir(\"H://pyspark_SQL_python_advanced-coding_interview//CTE\"))"
   ]
  },
  {
   "cell_type": "code",
   "execution_count": 24,
   "metadata": {},
   "outputs": [
    {
     "name": "stdout",
     "output_type": "stream",
     "text": [
      "ALLUSERSPROFILE: C:\\ProgramData\n",
      "APPDATA: C:\\Users\\lpdda\\AppData\\Roaming\n",
      "ASL.LOG: Destination=file\n",
      "BUILDLAB: 22621.ni_release.220506-1250\n",
      "BUILDLABEX: 22621.1.amd64fre.ni_release.220506-1250\n",
      "CHROME_CRASHPAD_PIPE_NAME: \\\\.\\pipe\\crashpad_43824_QXVMDCPOYAEEEKOB\n",
      "COMMONPROGRAMFILES: C:\\Program Files\\Common Files\n",
      "COMMONPROGRAMFILES(X86): C:\\Program Files (x86)\\Common Files\n",
      "COMMONPROGRAMW6432: C:\\Program Files\\Common Files\n",
      "COMPUTERNAME: LPD\n",
      "COMSPEC: C:\\WINDOWS\\system32\\cmd.exe\n",
      "DRIVERDATA: C:\\Windows\\System32\\Drivers\\DriverData\n",
      "EFC_28880: 1\n",
      "ELECTRON_RUN_AS_NODE: 1\n",
      "HADOOP_HOME: C:\\hadoop\n",
      "HOMEDRIVE: C:\n",
      "HOMEPATH: \\Users\\lpdda\n",
      "IGCCSVC_DB: AQAAANCMnd8BFdERjHoAwE/Cl+sBAAAAkNN56wqBEUu1iUwfTLPrKAQAAAACAAAAAAAQZgAAAAEAACAAAAAZEy8u84SIEIrk9I4aapvw9YtSqO4T/MuwRrL6pI3iXQAAAAAOgAAAAAIAACAAAACHoXvKyrso+Lplweo1maxzmi77IWPQkccMmLDj4l63lGAAAAAk9TavDGelPz6Pxu7caaK5cD4umIS90c6FiztyRiHIJDUvANHRAUNQVc9n1WqHtLs1T8RK3Kqq9Xe/JTMGhb9oI0DNKU7N8DoQW87ZvMH8S5mNr9EPLsxahzJ+o4D1u8FAAAAAmqPIifdpnOiq+uLOSPylqdBEMrVcCkp37bfj5eccigLxN3raNVDyFawkbLbIVJwFM0xQjmquGQJOwcGsbC9vUQ==\n",
      "JAVA_HOME: C:\\Program Files\\Java\\jdk-11.0.0.1\n",
      "JPY_INTERRUPT_EVENT: 1444\n",
      "LOCALAPPDATA: C:\\Users\\lpdda\\AppData\\Local\n",
      "LOGONSERVER: \\\\LPD\n",
      "NUMBER_OF_PROCESSORS: 20\n",
      "ONEDRIVE: C:\\Users\\lpdda\\OneDrive\n",
      "ONEDRIVECONSUMER: C:\\Users\\lpdda\\OneDrive\n",
      "ONLINESERVICES: Online Services\n",
      "ORIGINAL_XDG_CURRENT_DESKTOP: undefined\n",
      "OS: Windows_NT\n",
      "PATH: c:\\Users\\lpdda\\AppData\\Local\\Programs\\Python\\Python311;c:\\Users\\lpdda\\AppData\\Roaming\\Python\\Python311\\Scripts;C:\\Program Files\\Common Files\\Oracle\\Java\\javapath;C:\\Program Files\\Microsoft SDKs\\Azure\\CLI2\\wbin;C:\\WINDOWS\\system32;C:\\WINDOWS;C:\\WINDOWS\\System32\\Wbem;C:\\WINDOWS\\System32\\WindowsPowerShell\\v1.0\\;C:\\WINDOWS\\System32\\OpenSSH\\;C:\\Program Files\\Microsoft SQL Server\\150\\Tools\\Binn\\;C:\\Program Files\\Microsoft SQL Server\\Client SDK\\ODBC\\170\\Tools\\Binn\\;C:\\Program Files\\dotnet\\;C:\\Program Files\\Git\\cmd\\;C:\\Program Files\\Git\\bin\\;C:\\Program Files\\HP\\HP One Agent;C:\\Program Files\\Java\\jdk-11.0.0.1\\bin;C:\\Program Files (x86)\\sbt\\bin;C:\\Program Files (x86)\\scala\\bin;C:\\Program Files (x86)\\scala\\bin;C:\\Program Files (x86)\\Microsoft SQL Server\\160\\Tools\\Binn\\;C:\\Program Files\\Microsoft SQL Server\\160\\Tools\\Binn\\;C:\\Program Files\\Microsoft SQL Server\\160\\DTS\\Binn\\;C:\\Program Files\\d;C:\\Users\\lpdda\\AppData\\Local\\Programs\\Python\\Python311\\;C:\\Users\\lpdda\\AppData\\Local\\Programs\\Python\\Python311\\Scripts\\;C:\\Users\\lpdda\\AppData\\Local\\Programs\\Microsoft VS Code\\bin;C:\\Program Files\\Java\\jdk-11.0.0.1\\bin;C:\\Program Files (x86)\\Microsoft SQL Server\\160\\DTS\\Binn\\;C:\\spark\\bin;C:\\hadoop\\bin;C:\\Program Files\\Java\\jdk-11.0.0.1\\bin;C:\\Users\\lpdda\\AppData\\Local\\Programs\\Python\\Python311\\Scripts\\;C:\\Users\\lpdda\\AppData\\Local\\Programs\\Python\\Python311\\;C:\\Program Files\\Common Files\\Oracle\\Java\\javapath;C:\\Program Files\\Microsoft SDKs\\Azure\\CLI2\\wbin;C:\\WINDOWS\\system32;C:\\WINDOWS;C:\\WINDOWS\\System32\\Wbem;C:\\WINDOWS\\System32\\WindowsPowerShell\\v1.0\\;C:\\WINDOWS\\System32\\OpenSSH\\;C:\\Program Files\\Microsoft SQL Server\\150\\Tools\\Binn\\;C:\\Program Files\\Microsoft SQL Server\\Client SDK\\ODBC\\170\\Tools\\Binn\\;C:\\Program Files\\dotnet\\;C:\\Program Files\\Git\\cmd\\;C:\\Program Files\\Git\\bin\\;C:\\Program Files\\HP\\HP One Agent;C:\\spark-3.5.1-bin-hadoop3\\bin;C:\\Winutils\\bin;C:\\Program Files\\Java\\jdk-11.0.0.1\\bin;C:\\hadoop-3.3.6\\bin;C:\\Program Files (x86)\\sbt\\bin;C:\\Program Files (x86)\\scala\\bin;C:\\Program Files (x86)\\scala\\bin;C:\\Program Files\\Common Files\\Oracle\\Java\\javapath;C:\\Program Files\\Microsoft SDKs\\Azure\\CLI2\\wbin;C:\\WINDOWS\\system32;C:\\WINDOWS;C:\\WINDOWS\\System32\\Wbem;C:\\WINDOWS\\System32\\WindowsPowerShell\\v1.0\\;C:\\WINDOWS\\System32\\OpenSSH\\;C:\\Program Files\\Microsoft SQL Server\\150\\Tools\\Binn\\;C:\\Program Files\\Microsoft SQL Server\\Client SDK\\ODBC\\170\\Tools\\Binn\\;C:\\Program Files\\d;C:\\Users\\lpdda\\AppData\\Local\\Programs\\Microsoft VS Code\\bin;C:\\Program Files\\Java\\jdk-11.0.0.1\\bin;C:\\hadoop\\bin;C:\\Users\\lpdda\\AppData\\Local\\Programs\\Python\\Python313\\python.exe;;C:\\Program Files\\Common Files\\Oracle\\Java\\javapath;C:\\Program Files\\Microsoft SDKs\\Azure\\CLI2\\wbin;C:\\WINDOWS\\system32;C:\\WINDOWS;C:\\WINDOWS\\System32\\Wbem;C:\\WINDOWS\\System32\\WindowsPowerShell\\v1.0\\;C:\\WINDOWS\\System32\\OpenSSH\\;C:\\Program Files\\Microsoft SQL Server\\150\\Tools\\Binn\\;C:\\Program Files\\Microsoft SQL Server\\Client SDK\\ODBC\\170\\Tools\\Binn\\;C:\\Program Files\\dotnet\\;C:\\Program Files\\Git\\cmd\\;C:\\Program Files\\Git\\bin\\;C:\\Program Files\\HP\\HP One Agent;C:\\Program Files\\Java\\jdk-11.0.0.1\\bin;C:\\Program Files (x86)\\sbt\\bin;C:\\Program Files (x86)\\scala\\bin;C:\\Program Files (x86)\\scala\\bin;C:\\Program Files (x86)\\Microsoft SQL Server\\160\\Tools\\Binn\\;C:\\Program Files\\Microsoft SQL Server\\160\\Tools\\Binn\\;C:\\Program Files\\Microsoft SQL Server\\160\\DTS\\Binn\\;C:\\Program Files\\d;C:\\Users\\lpdda\\AppData\\Local\\Programs\\Python\\Python311\\;C:\\Users\\lpdda\\AppData\\Local\\Programs\\Python\\Python311\\Scripts\\;C:\\Users\\lpdda\\AppData\\Local\\Programs\\Microsoft VS Code\\bin;C:\\Program Files\\Java\\jdk-11.0.0.1\\bin;C:\\Program Files (x86)\\Microsoft SQL Server\\160\\DTS\\Binn\\;C:\\spark\\bin;C:\\hadoop\\bin;C:\\Program Files\\Java\\jdk-11.0.0.1\\bin;C:\\Users\\lpdda\\AppData\\Local\\Programs\\Python\\Python311\\Scripts\\;C:\\Users\\lpdda\\AppData\\Local\\Programs\\Python\\Python311\\;C:\\Program Files\\Common Files\\Oracle\\Java\\javapath;C:\\Program Files\\Microsoft SDKs\\Azure\\CLI2\\wbin;C:\\WINDOWS\\system32;C:\\WINDOWS;C:\\WINDOWS\\System32\\Wbem;C:\\WINDOWS\\System32\\WindowsPowerShell\\v1.0\\;C:\\WINDOWS\\System32\\OpenSSH\\;C:\\Program Files\\Microsoft SQL Server\\150\\Tools\\Binn\\;C:\\Program Files\\Microsoft SQL Server\\Client SDK\\ODBC\\170\\Tools\\Binn\\;C:\\Program Files\\dotnet\\;C:\\Program Files\\Git\\cmd\\;C:\\Program Files\\Git\\bin\\;C:\\Program Files\\HP\\HP One Agent;C:\\spark-3.5.1-bin-hadoop3\\bin;C:\\Winutils\\bin;C:\\Program Files\\Java\\jdk-11.0.0.1\\bin;C:\\hadoop-3.3.6\\bin;C:\\Program Files (x86)\\sbt\\bin;C:\\Program Files (x86)\\scala\\bin;C:\\Program Files (x86)\\scala\\bin;C:\\Program Files\\Common Files\\Oracle\\Java\\javapath;C:\\Program Files\\Microsoft SDKs\\Azure\\CLI2\\wbin;C:\\WINDOWS\\system32;C:\\WINDOWS;C:\\WINDOWS\\System32\\Wbem;C:\\WINDOWS\\System32\\WindowsPowerShell\\v1.0\\;C:\\WINDOWS\\System32\\OpenSSH\\;C:\\Program Files\\Microsoft SQL Server\\150\\Tools\\Binn\\;C:\\Program Files\\Microsoft SQL Server\\Client SDK\\ODBC\\170\\Tools\\Binn\\;C:\\Program Files\\d;C:\\Users\\lpdda\\AppData\\Local\\Programs\\Microsoft VS Code\\bin;C:\\Program Files\\Java\\jdk-11.0.0.1\\bin;C:\\hadoop\\bin;C:\\Users\\lpdda\\AppData\\Local\\Programs\\Python\\Python313\\python.exe;;C:\\spark\\python\n",
      "PATHEXT: .COM;.EXE;.BAT;.CMD;.VBS;.VBE;.JS;.JSE;.WSF;.WSH;.MSC;.PY;.PYW\n",
      "PLATFORMCODE: M8\n",
      "PROCESSOR_ARCHITECTURE: AMD64\n",
      "PROCESSOR_IDENTIFIER: Intel64 Family 6 Model 154 Stepping 3, GenuineIntel\n",
      "PROCESSOR_LEVEL: 6\n",
      "PROCESSOR_REVISION: 9a03\n",
      "PROGRAMDATA: C:\\ProgramData\n",
      "PROGRAMFILES: C:\\Program Files\n",
      "PROGRAMFILES(X86): C:\\Program Files (x86)\n",
      "PROGRAMW6432: C:\\Program Files\n",
      "PSMODULEPATH: C:\\Program Files\\WindowsPowerShell\\Modules;C:\\WINDOWS\\system32\\WindowsPowerShell\\v1.0\\Modules;C:\\Program Files (x86)\\Microsoft SQL Server\\160\\Tools\\PowerShell\\Modules\\\n",
      "PUBLIC: C:\\Users\\Public\n",
      "PYDEVD_IPYTHON_COMPATIBLE_DEBUGGING: 1\n",
      "PYSPARK_PYTHON: C:\\Users\\lpdda\\AppData\\Local\\Programs\\Python\\Python311\\python.exe\n",
      "PYTHONIOENCODING: utf-8\n",
      "PYTHONPATH: C:\\spark\\python;C:\\spark\\python\n",
      "PYTHONUNBUFFERED: 1\n",
      "PYTHON_FROZEN_MODULES: on\n",
      "REGIONCODE: NA\n",
      "SBT_HOME: C:\\Program Files (x86)\\sbt\\\n",
      "SCALA_HOME: C:\\Program Files (x86)\\scala\n",
      "SESSIONNAME: Console\n",
      "SPARK_HOME: C:\\spark\n",
      "SPARK_LOCAL_HOSTNAME: localhost\n",
      "SYSTEMDRIVE: C:\n",
      "SYSTEMROOT: C:\\WINDOWS\n",
      "TEMP: C:\\Users\\lpdda\\AppData\\Local\\Temp\n",
      "TMP: C:\\Users\\lpdda\\AppData\\Local\\Temp\n",
      "USERDOMAIN: LPD\n",
      "USERDOMAIN_ROAMINGPROFILE: LPD\n",
      "USERNAME: lpdda\n",
      "USERPROFILE: C:\\Users\\lpdda\n",
      "VSCODE_CODE_CACHE_PATH: C:\\Users\\lpdda\\AppData\\Roaming\\Code\\CachedData\\fabdb6a30b49f79a7aba0f2ad9df9b399473380f\n",
      "VSCODE_CRASH_REPORTER_PROCESS_TYPE: extensionHost\n",
      "VSCODE_CWD: C:\\Users\\lpdda\\AppData\\Local\\Programs\\Microsoft VS Code\n",
      "VSCODE_ESM_ENTRYPOINT: vs/workbench/api/node/extensionHostProcess\n",
      "VSCODE_HANDLES_UNCAUGHT_ERRORS: true\n",
      "VSCODE_IPC_HOOK: \\\\.\\pipe\\bcb98706-1.96.2-main-sock\n",
      "VSCODE_NLS_CONFIG: {\"userLocale\":\"en-us\",\"osLocale\":\"en-us\",\"resolvedLanguage\":\"en\",\"defaultMessagesFile\":\"C:\\\\Users\\\\lpdda\\\\AppData\\\\Local\\\\Programs\\\\Microsoft VS Code\\\\resources\\\\app\\\\out\\\\nls.messages.json\",\"locale\":\"en-us\",\"availableLanguages\":{}}\n",
      "VSCODE_PID: 43824\n",
      "WINDIR: C:\\WINDOWS\n",
      "ZES_ENABLE_SYSMAN: 1\n",
      "__COMPAT_LAYER: DetectorsAppHealth\n",
      "PYDEVD_USE_FRAME_EVAL: NO\n",
      "TERM: xterm-color\n",
      "CLICOLOR: 1\n",
      "FORCE_COLOR: 1\n",
      "CLICOLOR_FORCE: 1\n",
      "PAGER: cat\n",
      "GIT_PAGER: cat\n",
      "MPLBACKEND: module://matplotlib_inline.backend_inline\n",
      "SPARK_AUTH_SOCKET_TIMEOUT: 15\n",
      "SPARK_BUFFER_SIZE: 65536\n"
     ]
    }
   ],
   "source": [
    "for k,v in os.environ.items():\n",
    "    print(f\"{k}: {v}\")"
   ]
  },
  {
   "cell_type": "code",
   "execution_count": 25,
   "metadata": {},
   "outputs": [
    {
     "name": "stdout",
     "output_type": "stream",
     "text": [
      "c:\\Users\\lpdda\\AppData\\Local\\Programs\\Python\\Python311;c:\\Users\\lpdda\\AppData\\Roaming\\Python\\Python311\\Scripts;C:\\Program Files\\Common Files\\Oracle\\Java\\javapath;C:\\Program Files\\Microsoft SDKs\\Azure\\CLI2\\wbin;C:\\WINDOWS\\system32;C:\\WINDOWS;C:\\WINDOWS\\System32\\Wbem;C:\\WINDOWS\\System32\\WindowsPowerShell\\v1.0\\;C:\\WINDOWS\\System32\\OpenSSH\\;C:\\Program Files\\Microsoft SQL Server\\150\\Tools\\Binn\\;C:\\Program Files\\Microsoft SQL Server\\Client SDK\\ODBC\\170\\Tools\\Binn\\;C:\\Program Files\\dotnet\\;C:\\Program Files\\Git\\cmd\\;C:\\Program Files\\Git\\bin\\;C:\\Program Files\\HP\\HP One Agent;C:\\Program Files\\Java\\jdk-11.0.0.1\\bin;C:\\Program Files (x86)\\sbt\\bin;C:\\Program Files (x86)\\scala\\bin;C:\\Program Files (x86)\\scala\\bin;C:\\Program Files (x86)\\Microsoft SQL Server\\160\\Tools\\Binn\\;C:\\Program Files\\Microsoft SQL Server\\160\\Tools\\Binn\\;C:\\Program Files\\Microsoft SQL Server\\160\\DTS\\Binn\\;C:\\Program Files\\d;C:\\Users\\lpdda\\AppData\\Local\\Programs\\Python\\Python311\\;C:\\Users\\lpdda\\AppData\\Local\\Programs\\Python\\Python311\\Scripts\\;C:\\Users\\lpdda\\AppData\\Local\\Programs\\Microsoft VS Code\\bin;C:\\Program Files\\Java\\jdk-11.0.0.1\\bin;C:\\Program Files (x86)\\Microsoft SQL Server\\160\\DTS\\Binn\\;C:\\spark\\bin;C:\\hadoop\\bin;C:\\Program Files\\Java\\jdk-11.0.0.1\\bin;C:\\Users\\lpdda\\AppData\\Local\\Programs\\Python\\Python311\\Scripts\\;C:\\Users\\lpdda\\AppData\\Local\\Programs\\Python\\Python311\\;C:\\Program Files\\Common Files\\Oracle\\Java\\javapath;C:\\Program Files\\Microsoft SDKs\\Azure\\CLI2\\wbin;C:\\WINDOWS\\system32;C:\\WINDOWS;C:\\WINDOWS\\System32\\Wbem;C:\\WINDOWS\\System32\\WindowsPowerShell\\v1.0\\;C:\\WINDOWS\\System32\\OpenSSH\\;C:\\Program Files\\Microsoft SQL Server\\150\\Tools\\Binn\\;C:\\Program Files\\Microsoft SQL Server\\Client SDK\\ODBC\\170\\Tools\\Binn\\;C:\\Program Files\\dotnet\\;C:\\Program Files\\Git\\cmd\\;C:\\Program Files\\Git\\bin\\;C:\\Program Files\\HP\\HP One Agent;C:\\spark-3.5.1-bin-hadoop3\\bin;C:\\Winutils\\bin;C:\\Program Files\\Java\\jdk-11.0.0.1\\bin;C:\\hadoop-3.3.6\\bin;C:\\Program Files (x86)\\sbt\\bin;C:\\Program Files (x86)\\scala\\bin;C:\\Program Files (x86)\\scala\\bin;C:\\Program Files\\Common Files\\Oracle\\Java\\javapath;C:\\Program Files\\Microsoft SDKs\\Azure\\CLI2\\wbin;C:\\WINDOWS\\system32;C:\\WINDOWS;C:\\WINDOWS\\System32\\Wbem;C:\\WINDOWS\\System32\\WindowsPowerShell\\v1.0\\;C:\\WINDOWS\\System32\\OpenSSH\\;C:\\Program Files\\Microsoft SQL Server\\150\\Tools\\Binn\\;C:\\Program Files\\Microsoft SQL Server\\Client SDK\\ODBC\\170\\Tools\\Binn\\;C:\\Program Files\\d;C:\\Users\\lpdda\\AppData\\Local\\Programs\\Microsoft VS Code\\bin;C:\\Program Files\\Java\\jdk-11.0.0.1\\bin;C:\\hadoop\\bin;C:\\Users\\lpdda\\AppData\\Local\\Programs\\Python\\Python313\\python.exe;;C:\\Program Files\\Common Files\\Oracle\\Java\\javapath;C:\\Program Files\\Microsoft SDKs\\Azure\\CLI2\\wbin;C:\\WINDOWS\\system32;C:\\WINDOWS;C:\\WINDOWS\\System32\\Wbem;C:\\WINDOWS\\System32\\WindowsPowerShell\\v1.0\\;C:\\WINDOWS\\System32\\OpenSSH\\;C:\\Program Files\\Microsoft SQL Server\\150\\Tools\\Binn\\;C:\\Program Files\\Microsoft SQL Server\\Client SDK\\ODBC\\170\\Tools\\Binn\\;C:\\Program Files\\dotnet\\;C:\\Program Files\\Git\\cmd\\;C:\\Program Files\\Git\\bin\\;C:\\Program Files\\HP\\HP One Agent;C:\\Program Files\\Java\\jdk-11.0.0.1\\bin;C:\\Program Files (x86)\\sbt\\bin;C:\\Program Files (x86)\\scala\\bin;C:\\Program Files (x86)\\scala\\bin;C:\\Program Files (x86)\\Microsoft SQL Server\\160\\Tools\\Binn\\;C:\\Program Files\\Microsoft SQL Server\\160\\Tools\\Binn\\;C:\\Program Files\\Microsoft SQL Server\\160\\DTS\\Binn\\;C:\\Program Files\\d;C:\\Users\\lpdda\\AppData\\Local\\Programs\\Python\\Python311\\;C:\\Users\\lpdda\\AppData\\Local\\Programs\\Python\\Python311\\Scripts\\;C:\\Users\\lpdda\\AppData\\Local\\Programs\\Microsoft VS Code\\bin;C:\\Program Files\\Java\\jdk-11.0.0.1\\bin;C:\\Program Files (x86)\\Microsoft SQL Server\\160\\DTS\\Binn\\;C:\\spark\\bin;C:\\hadoop\\bin;C:\\Program Files\\Java\\jdk-11.0.0.1\\bin;C:\\Users\\lpdda\\AppData\\Local\\Programs\\Python\\Python311\\Scripts\\;C:\\Users\\lpdda\\AppData\\Local\\Programs\\Python\\Python311\\;C:\\Program Files\\Common Files\\Oracle\\Java\\javapath;C:\\Program Files\\Microsoft SDKs\\Azure\\CLI2\\wbin;C:\\WINDOWS\\system32;C:\\WINDOWS;C:\\WINDOWS\\System32\\Wbem;C:\\WINDOWS\\System32\\WindowsPowerShell\\v1.0\\;C:\\WINDOWS\\System32\\OpenSSH\\;C:\\Program Files\\Microsoft SQL Server\\150\\Tools\\Binn\\;C:\\Program Files\\Microsoft SQL Server\\Client SDK\\ODBC\\170\\Tools\\Binn\\;C:\\Program Files\\dotnet\\;C:\\Program Files\\Git\\cmd\\;C:\\Program Files\\Git\\bin\\;C:\\Program Files\\HP\\HP One Agent;C:\\spark-3.5.1-bin-hadoop3\\bin;C:\\Winutils\\bin;C:\\Program Files\\Java\\jdk-11.0.0.1\\bin;C:\\hadoop-3.3.6\\bin;C:\\Program Files (x86)\\sbt\\bin;C:\\Program Files (x86)\\scala\\bin;C:\\Program Files (x86)\\scala\\bin;C:\\Program Files\\Common Files\\Oracle\\Java\\javapath;C:\\Program Files\\Microsoft SDKs\\Azure\\CLI2\\wbin;C:\\WINDOWS\\system32;C:\\WINDOWS;C:\\WINDOWS\\System32\\Wbem;C:\\WINDOWS\\System32\\WindowsPowerShell\\v1.0\\;C:\\WINDOWS\\System32\\OpenSSH\\;C:\\Program Files\\Microsoft SQL Server\\150\\Tools\\Binn\\;C:\\Program Files\\Microsoft SQL Server\\Client SDK\\ODBC\\170\\Tools\\Binn\\;C:\\Program Files\\d;C:\\Users\\lpdda\\AppData\\Local\\Programs\\Microsoft VS Code\\bin;C:\\Program Files\\Java\\jdk-11.0.0.1\\bin;C:\\hadoop\\bin;C:\\Users\\lpdda\\AppData\\Local\\Programs\\Python\\Python313\\python.exe;;C:\\spark\\python\n"
     ]
    }
   ],
   "source": [
    "print(os.environ.get(\"PATH\"))"
   ]
  },
  {
   "cell_type": "code",
   "execution_count": 26,
   "metadata": {},
   "outputs": [
    {
     "name": "stdout",
     "output_type": "stream",
     "text": [
      "Package                                  Version\n",
      "---------------------------------------- --------------\n",
      "aiohappyeyeballs                         2.4.3\n",
      "aiohttp                                  3.9.5\n",
      "aiosignal                                1.3.1\n",
      "alembic                                  1.13.3\n",
      "annotated-types                          0.7.0\n",
      "anyio                                    4.6.2.post1\n",
      "apache-airflow                           2.10.2\n",
      "apache-airflow-providers-common-compat   1.2.1\n",
      "apache-airflow-providers-common-io       1.4.2\n",
      "apache-airflow-providers-common-sql      1.18.0\n",
      "apache-airflow-providers-fab             1.4.1\n",
      "apache-airflow-providers-ftp             3.11.1\n",
      "apache-airflow-providers-http            4.13.1\n",
      "apache-airflow-providers-imap            3.7.0\n",
      "apache-airflow-providers-smtp            1.8.0\n",
      "apache-airflow-providers-sqlite          3.9.0\n",
      "apispec                                  6.7.0\n",
      "argcomplete                              3.5.1\n",
      "argon2-cffi                              23.1.0\n",
      "argon2-cffi-bindings                     21.2.0\n",
      "arrow                                    1.3.0\n",
      "asgiref                                  3.8.1\n",
      "asttokens                                2.4.1\n",
      "async-lru                                2.0.4\n",
      "attrs                                    24.2.0\n",
      "babel                                    2.16.0\n",
      "beautifulsoup4                           4.12.3\n",
      "bleach                                   6.1.0\n",
      "blinker                                  1.8.2\n",
      "blis                                     1.0.1\n",
      "boto3                                    1.35.77\n",
      "botocore                                 1.35.77\n",
      "cachelib                                 0.9.0\n",
      "catalogue                                2.0.10\n",
      "certifi                                  2024.8.30\n",
      "cffi                                     1.17.1\n",
      "charset-normalizer                       3.4.0\n",
      "click                                    8.1.7\n",
      "clickclick                               20.10.2\n",
      "cloudpathlib                             0.20.0\n",
      "colorama                                 0.4.6\n",
      "colorlog                                 6.9.0\n",
      "comm                                     0.2.2\n",
      "comtypes                                 1.4.8\n",
      "confection                               0.1.5\n",
      "ConfigUpdater                            3.2\n",
      "connexion                                2.14.2\n",
      "contourpy                                1.3.0\n",
      "cron-descriptor                          1.4.5\n",
      "croniter                                 5.0.1\n",
      "cryptography                             43.0.3\n",
      "cycler                                   0.12.1\n",
      "cymem                                    2.0.10\n",
      "dataclasses-json                         0.6.7\n",
      "debugpy                                  1.8.7\n",
      "decorator                                5.1.1\n",
      "deeplake                                 3.9.18\n",
      "defusedxml                               0.7.1\n",
      "Deprecated                               1.2.14\n",
      "dill                                     0.3.9\n",
      "dirtyjson                                1.0.8\n",
      "distlib                                  0.3.9\n",
      "distro                                   1.9.0\n",
      "dnspython                                2.7.0\n",
      "email_validator                          2.2.0\n",
      "en_core_web_sm                           3.8.0\n",
      "executing                                2.1.0\n",
      "faiss-cpu                                1.9.0\n",
      "fastapi                                  0.115.6\n",
      "fastjsonschema                           2.20.0\n",
      "filelock                                 3.16.1\n",
      "Flask                                    2.2.5\n",
      "Flask-AppBuilder                         4.5.0\n",
      "Flask-Babel                              2.0.0\n",
      "Flask-Caching                            2.3.0\n",
      "Flask-JWT-Extended                       4.6.0\n",
      "Flask-Limiter                            3.8.0\n",
      "Flask-Login                              0.6.3\n",
      "Flask-Session                            0.5.0\n",
      "Flask-SQLAlchemy                         2.5.1\n",
      "Flask-WTF                                1.2.2\n",
      "fonttools                                4.54.1\n",
      "fqdn                                     1.5.1\n",
      "frozenlist                               1.5.0\n",
      "fsspec                                   2024.10.0\n",
      "gitdb                                    4.0.11\n",
      "GitPython                                3.1.43\n",
      "google-re2                               1.1.20240702\n",
      "googleapis-common-protos                 1.65.0\n",
      "greenlet                                 3.1.1\n",
      "gritql                                   0.1.5\n",
      "grpcio                                   1.67.1\n",
      "gunicorn                                 23.0.0\n",
      "h11                                      0.14.0\n",
      "httpcore                                 1.0.6\n",
      "httpx                                    0.27.2\n",
      "httpx-sse                                0.4.0\n",
      "huggingface-hub                          0.26.5\n",
      "humbug                                   0.3.2\n",
      "idna                                     3.10\n",
      "importlib_metadata                       8.4.0\n",
      "importlib_resources                      6.4.5\n",
      "inflection                               0.5.1\n",
      "ipykernel                                6.29.5\n",
      "ipython                                  8.28.0\n",
      "ipywidgets                               8.1.5\n",
      "isoduration                              20.11.0\n",
      "itsdangerous                             2.2.0\n",
      "jedi                                     0.19.1\n",
      "Jinja2                                   3.1.4\n",
      "jiter                                    0.6.1\n",
      "jmespath                                 1.0.1\n",
      "joblib                                   1.4.2\n",
      "json5                                    0.9.25\n",
      "jsonpatch                                1.33\n",
      "jsonpointer                              3.0.0\n",
      "jsonschema                               4.23.0\n",
      "jsonschema-specifications                2024.10.1\n",
      "jupyter                                  1.1.1\n",
      "jupyter_client                           8.6.3\n",
      "jupyter-console                          6.6.3\n",
      "jupyter_core                             5.7.2\n",
      "jupyter-events                           0.10.0\n",
      "jupyter-lsp                              2.2.5\n",
      "jupyter_server                           2.14.2\n",
      "jupyter_server_terminals                 0.5.3\n",
      "jupyterlab                               4.2.5\n",
      "jupyterlab_pygments                      0.3.0\n",
      "jupyterlab_server                        2.27.3\n",
      "jupyterlab_widgets                       3.0.13\n",
      "kagglehub                                0.3.6\n",
      "kiwisolver                               1.4.7\n",
      "langchain                                0.3.12\n",
      "langchain-cli                            0.0.35\n",
      "langchain-community                      0.3.12\n",
      "langchain-core                           0.3.25\n",
      "langchain-openai                         0.2.12\n",
      "langchain-pinecone                       0.2.0\n",
      "langchain-text-splitters                 0.3.3\n",
      "langcodes                                3.5.0\n",
      "langserve                                0.3.0\n",
      "langsmith                                0.1.137\n",
      "language_data                            1.3.0\n",
      "lazy-object-proxy                        1.10.0\n",
      "limits                                   3.13.0\n",
      "linkify-it-py                            2.0.3\n",
      "llama-cloud                              0.1.6\n",
      "llama-index                              0.10.64\n",
      "llama-index-agent-openai                 0.2.9\n",
      "llama-index-cli                          0.1.13\n",
      "llama-index-core                         0.10.68.post1\n",
      "llama-index-embeddings-openai            0.1.11\n",
      "llama-index-indices-managed-llama-cloud  0.2.7\n",
      "llama-index-legacy                       0.9.48.post4\n",
      "llama-index-llms-openai                  0.1.29\n",
      "llama-index-multi-modal-llms-openai      0.1.9\n",
      "llama-index-program-openai               0.1.7\n",
      "llama-index-question-gen-openai          0.1.3\n",
      "llama-index-readers-file                 0.1.33\n",
      "llama-index-readers-llama-parse          0.1.6\n",
      "llama-index-vector-stores-deeplake       0.1.6\n",
      "llama-parse                              0.4.9\n",
      "lockfile                                 0.12.2\n",
      "lxml                                     5.3.0\n",
      "lz4                                      4.3.3\n",
      "Mako                                     1.3.6\n",
      "marisa-trie                              1.2.1\n",
      "Markdown                                 3.7\n",
      "markdown-it-py                           3.0.0\n",
      "MarkupSafe                               3.0.2\n",
      "marshmallow                              3.23.0\n",
      "marshmallow-oneofschema                  3.1.1\n",
      "marshmallow-sqlalchemy                   0.28.2\n",
      "matplotlib                               3.9.2\n",
      "matplotlib-inline                        0.1.7\n",
      "mdit-py-plugins                          0.4.2\n",
      "mdurl                                    0.1.2\n",
      "methodtools                              0.4.7\n",
      "mistune                                  3.0.2\n",
      "more-itertools                           10.5.0\n",
      "mpmath                                   1.3.0\n",
      "multidict                                6.1.0\n",
      "multiprocess                             0.70.17\n",
      "murmurhash                               1.0.11\n",
      "mypy-extensions                          1.0.0\n",
      "nbclient                                 0.10.0\n",
      "nbconvert                                7.16.4\n",
      "nbformat                                 5.10.4\n",
      "nest-asyncio                             1.6.0\n",
      "networkx                                 3.4.2\n",
      "nltk                                     3.9.1\n",
      "notebook                                 7.2.2\n",
      "notebook_shim                            0.2.4\n",
      "numpy                                    1.23.5\n",
      "openai                                   1.57.4\n",
      "opencv-python                            4.10.0.84\n",
      "opentelemetry-api                        1.27.0\n",
      "opentelemetry-exporter-otlp              1.27.0\n",
      "opentelemetry-exporter-otlp-proto-common 1.27.0\n",
      "opentelemetry-exporter-otlp-proto-grpc   1.27.0\n",
      "opentelemetry-exporter-otlp-proto-http   1.27.0\n",
      "opentelemetry-proto                      1.27.0\n",
      "opentelemetry-sdk                        1.27.0\n",
      "opentelemetry-semantic-conventions       0.48b0\n",
      "ordered-set                              4.1.0\n",
      "orjson                                   3.10.10\n",
      "overrides                                7.7.0\n",
      "packaging                                24.1\n",
      "pandas                                   2.2.3\n",
      "pandasql                                 0.7.3\n",
      "pandocfilters                            1.5.1\n",
      "parso                                    0.8.4\n",
      "pathos                                   0.3.3\n",
      "pathspec                                 0.12.1\n",
      "pdfminer.six                             20231228\n",
      "pdfplumber                               0.11.4\n",
      "pendulum                                 3.0.0\n",
      "pillow                                   10.2.0\n",
      "pinecone-client                          5.0.1\n",
      "pinecone-plugin-inference                1.1.0\n",
      "pinecone-plugin-interface                0.0.7\n",
      "pip                                      24.3.1\n",
      "platformdirs                             4.3.6\n",
      "pluggy                                   1.5.0\n",
      "pox                                      0.3.5\n",
      "ppft                                     1.7.6.9\n",
      "preshed                                  3.0.9\n",
      "prison                                   0.2.1\n",
      "prometheus_client                        0.21.0\n",
      "prompt_toolkit                           3.0.48\n",
      "propcache                                0.2.0\n",
      "protobuf                                 4.25.5\n",
      "psutil                                   6.1.0\n",
      "pure_eval                                0.2.3\n",
      "py4j                                     0.10.9.7\n",
      "pycparser                                2.22\n",
      "pydantic                                 2.9.2\n",
      "pydantic_core                            2.23.4\n",
      "pydantic-settings                        2.6.0\n",
      "Pygments                                 2.18.0\n",
      "PyJWT                                    2.9.0\n",
      "pyparsing                                3.2.0\n",
      "pypdf                                    4.3.1\n",
      "PyPDF2                                   3.0.1\n",
      "pypdfium2                                4.30.0\n",
      "pypiwin32                                223\n",
      "pyspark                                  3.4.3\n",
      "python-daemon                            3.1.0\n",
      "python-dateutil                          2.9.0.post0\n",
      "python-docx                              1.1.2\n",
      "python-dotenv                            1.0.1\n",
      "python-json-logger                       2.0.7\n",
      "python-nvd3                              0.16.0\n",
      "python-slugify                           8.0.4\n",
      "pyttsx3                                  2.98\n",
      "pytz                                     2024.2\n",
      "pywin32                                  308\n",
      "pywinpty                                 2.0.14\n",
      "PyYAML                                   6.0.2\n",
      "pyzmq                                    26.2.0\n",
      "referencing                              0.35.1\n",
      "regex                                    2024.9.11\n",
      "requests                                 2.31.0\n",
      "requests-toolbelt                        1.0.0\n",
      "rfc3339-validator                        0.1.4\n",
      "rfc3986-validator                        0.1.1\n",
      "rich                                     13.9.3\n",
      "rich-argparse                            1.5.2\n",
      "rpds-py                                  0.20.0\n",
      "s3transfer                               0.10.4\n",
      "safetensors                              0.4.5\n",
      "schedule                                 1.2.2\n",
      "scikit-learn                             1.2.2\n",
      "scipy                                    1.9.3\n",
      "seaborn                                  0.13.2\n",
      "Send2Trash                               1.8.3\n",
      "sentence-transformers                    3.0.1\n",
      "setproctitle                             1.3.3\n",
      "setuptools                               65.5.0\n",
      "shellingham                              1.5.4\n",
      "six                                      1.16.0\n",
      "smart-open                               7.0.5\n",
      "smmap                                    5.0.1\n",
      "sniffio                                  1.3.1\n",
      "soupsieve                                2.6\n",
      "spacy                                    3.8.2\n",
      "spacy-legacy                             3.0.12\n",
      "spacy-loggers                            1.0.5\n",
      "SQLAlchemy                               1.4.54\n",
      "SQLAlchemy-JSONField                     1.0.2\n",
      "SQLAlchemy-Utils                         0.41.2\n",
      "sqlparse                                 0.5.1\n",
      "srsly                                    2.4.8\n",
      "sse-starlette                            1.8.2\n",
      "stack-data                               0.6.3\n",
      "starlette                                0.41.3\n",
      "striprtf                                 0.0.26\n",
      "sympy                                    1.13.1\n",
      "tabulate                                 0.9.0\n",
      "tenacity                                 8.5.0\n",
      "termcolor                                2.5.0\n",
      "terminado                                0.18.1\n",
      "text-unidecode                           1.3\n",
      "thinc                                    8.3.2\n",
      "threadpoolctl                            3.5.0\n",
      "tiktoken                                 0.8.0\n",
      "time-machine                             2.16.0\n",
      "tinycss2                                 1.3.0\n",
      "tokenizers                               0.21.0\n",
      "tomlkit                                  0.13.2\n",
      "torch                                    2.5.1\n",
      "tornado                                  6.4.1\n",
      "tqdm                                     4.66.5\n",
      "traitlets                                5.14.3\n",
      "transformers                             4.47.0\n",
      "typer                                    0.9.4\n",
      "types-python-dateutil                    2.9.0.20241003\n",
      "typing_extensions                        4.12.2\n",
      "typing-inspect                           0.9.0\n",
      "tzdata                                   2024.2\n",
      "uc-micro-py                              1.0.3\n",
      "unicodecsv                               0.14.1\n",
      "universal_pathlib                        0.2.5\n",
      "uri-template                             1.3.0\n",
      "urllib3                                  2.2.3\n",
      "uvicorn                                  0.33.0\n",
      "virtualenv                               20.28.0\n",
      "wasabi                                   1.1.3\n",
      "wcwidth                                  0.2.13\n",
      "weasel                                   0.4.1\n",
      "webcolors                                24.8.0\n",
      "webencodings                             0.5.1\n",
      "websocket-client                         1.8.0\n",
      "Werkzeug                                 2.2.3\n",
      "widgetsnbextension                       4.0.13\n",
      "wirerope                                 0.4.7\n",
      "wrapt                                    1.16.0\n",
      "WTForms                                  3.2.1\n",
      "yarl                                     1.16.0\n",
      "zipp                                     3.20.2\n"
     ]
    },
    {
     "name": "stderr",
     "output_type": "stream",
     "text": [
      "WARNING: Ignoring invalid distribution ~ (C:\\Users\\lpdda\\AppData\\Local\\Programs\\Python\\Python311\\Lib\\site-packages)\n",
      "WARNING: Ignoring invalid distribution ~ip (C:\\Users\\lpdda\\AppData\\Local\\Programs\\Python\\Python311\\Lib\\site-packages)\n",
      "WARNING: Ignoring invalid distribution ~~p (C:\\Users\\lpdda\\AppData\\Local\\Programs\\Python\\Python311\\Lib\\site-packages)\n"
     ]
    }
   ],
   "source": [
    "!pip list"
   ]
  },
  {
   "cell_type": "code",
   "execution_count": 29,
   "metadata": {},
   "outputs": [
    {
     "name": "stdout",
     "output_type": "stream",
     "text": [
      "test2\n",
      "local\n"
     ]
    }
   ],
   "source": [
    "print(spark.sparkContext.appName)\n",
    "print(spark.sparkContext.master)"
   ]
  },
  {
   "cell_type": "code",
   "execution_count": null,
   "metadata": {},
   "outputs": [],
   "source": []
  }
 ],
 "metadata": {
  "kernelspec": {
   "display_name": "Python 3",
   "language": "python",
   "name": "python3"
  },
  "language_info": {
   "codemirror_mode": {
    "name": "ipython",
    "version": 3
   },
   "file_extension": ".py",
   "mimetype": "text/x-python",
   "name": "python",
   "nbconvert_exporter": "python",
   "pygments_lexer": "ipython3",
   "version": "3.11.8"
  }
 },
 "nbformat": 4,
 "nbformat_minor": 2
}
