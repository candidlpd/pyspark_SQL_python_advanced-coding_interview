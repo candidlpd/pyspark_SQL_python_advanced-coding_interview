{
 "cells": [
  {
   "cell_type": "code",
   "execution_count": 1,
   "metadata": {},
   "outputs": [
    {
     "name": "stdout",
     "output_type": "stream",
     "text": [
      "H:\\pyspark_advanced-coding_interview\n"
     ]
    }
   ],
   "source": [
    "import os\n",
    "os.getcwd()\n",
    "os.chdir(\"H:\\pyspark_advanced-coding_interview\")\n",
    "print(os.getcwd())\n",
    "\n",
    "\n",
    "from pyspark.sql import SparkSession\n",
    "\n",
    "# Create a Spark session with optimized settings\n",
    "spark = (\n",
    "    SparkSession.builder \n",
    "    .appName(\"OptimizedLocalSpark\") \n",
    "    .config(\"spark.driver.memory\", \"8g\")        \n",
    "    .config(\"spark.executor.memory\", \"8g\")    \n",
    "    .config(\"spark.executor.cores\", \"4\")       \n",
    "    .config(\"spark.cores.max\", \"12\")           \n",
    "    .config(\"spark.sql.shuffle.partitions\", \"28\")  \n",
    "    .config(\"spark.serializer\", \"org.apache.spark.serializer.KryoSerializer\") \n",
    "    .getOrCreate()\n",
    ")\n",
    "sc = spark.sparkContext"
   ]
  },
  {
   "cell_type": "code",
   "execution_count": 3,
   "metadata": {},
   "outputs": [
    {
     "name": "stdout",
     "output_type": "stream",
     "text": [
      "+-----------+----------+\n",
      "|employee_id| logindate|\n",
      "+-----------+----------+\n",
      "|          1|2024-10-02|\n",
      "|          1|2024-10-03|\n",
      "|          1|2024-10-04|\n",
      "|          1|2024-10-07|\n",
      "|          1|2024-10-08|\n",
      "|          2|2024-10-01|\n",
      "|          2|2024-10-03|\n",
      "|          2|2024-10-04|\n",
      "|          2|2024-10-07|\n",
      "|          2|2024-10-08|\n",
      "+-----------+----------+\n",
      "\n"
     ]
    }
   ],
   "source": [
    "from pyspark.sql import SparkSession\n",
    "from pyspark.sql import functions as F\n",
    "from pyspark.sql.window import Window\n",
    "\n",
    "# Initialize Spark session\n",
    "spark = SparkSession.builder.appName(\"ConsecutiveWorkingDays\").getOrCreate()\n",
    "\n",
    "# Sample data\n",
    "data = [\n",
    "    (1, '2024-10-02'), (1, '2024-10-03'), (1, '2024-10-04'), # Consecutive (Tue, Wed, Thu)\n",
    "    (1, '2024-10-07'), (1, '2024-10-08'), # Consecutive (Mon, Tue)\n",
    "    (2, '2024-10-01'), (2, '2024-10-03'), # Non-consecutive for employee 2\n",
    "    (2, '2024-10-04'), (2, '2024-10-07'), (2, '2024-10-08') # Consecutive (Mon, Tue)\n",
    "]\n",
    "\n",
    "columns = [\"employee_id\", \"logindate\"]\n",
    "df = spark.createDataFrame(data, columns)\n",
    "\n",
    "# Convert `logindate` to date format\n",
    "df = df.withColumn(\"logindate\", F.to_date(\"logindate\", \"yyyy-MM-dd\"))\n",
    "\n",
    "# Create a temporary table for Spark SQL\n",
    "df.createOrReplaceTempView(\"employee_logins\")\n",
    "df.show()\n"
   ]
  },
  {
   "cell_type": "markdown",
   "metadata": {},
   "source": [
    "# Find 'n' Consecutive Days Excluding Weekends Using Spark SQL"
   ]
  },
  {
   "cell_type": "code",
   "execution_count": 6,
   "metadata": {},
   "outputs": [
    {
     "name": "stdout",
     "output_type": "stream",
     "text": [
      "+-----------+----------+----------+----------------+\n",
      "|employee_id|start_date|  end_date|consecutive_days|\n",
      "+-----------+----------+----------+----------------+\n",
      "|          1|2024-10-02|2024-10-04|               3|\n",
      "+-----------+----------+----------+----------------+\n",
      "\n"
     ]
    }
   ],
   "source": [
    "res_sql = spark.sql(\"\"\"\n",
    "SELECT employee_id, \n",
    "       MIN(logindate) AS start_date, \n",
    "       MAX(logindate) AS end_date, \n",
    "       COUNT(logindate) AS consecutive_days\n",
    "FROM (\n",
    "    SELECT employee_id,\n",
    "           logindate,\n",
    "           ROW_NUMBER() OVER (PARTITION BY employee_id ORDER BY logindate) -\n",
    "           DATEDIFF(logindate, '2024-01-01') AS streak_id\n",
    "    FROM employee_logins\n",
    "    WHERE DAYOFWEEK(logindate) NOT IN (1, 7) -- Exclude weekends\n",
    ") AS streak_table\n",
    "GROUP BY employee_id, streak_id\n",
    "HAVING COUNT(logindate) >= 3 -- Only include streaks with 3 or more consecutive days\n",
    "ORDER BY employee_id, start_date\n",
    "\"\"\")\n",
    "\n",
    "res_sql.show()\n"
   ]
  },
  {
   "cell_type": "code",
   "execution_count": 5,
   "metadata": {},
   "outputs": [
    {
     "name": "stdout",
     "output_type": "stream",
     "text": [
      "+-----------+---------+----------------+----------+----------+\n",
      "|employee_id|streak_id|consecutive_days|start_date|  end_date|\n",
      "+-----------+---------+----------------+----------+----------+\n",
      "|          1|        1|               3|2024-10-02|2024-10-04|\n",
      "+-----------+---------+----------------+----------+----------+\n",
      "\n"
     ]
    }
   ],
   "source": [
    "# Define a window ordered by employee_id and logindate\n",
    "window_spec = Window.partitionBy(\"employee_id\").orderBy(\"logindate\")\n",
    "\n",
    "# Calculate the previous logindate and day difference\n",
    "df = df.withColumn(\"prev_logindate\", F.lag(\"logindate\").over(window_spec))\n",
    "df = df.withColumn(\"day_diff\", F.datediff(\"logindate\", \"prev_logindate\"))\n",
    "\n",
    "# Filter out weekends\n",
    "df = df.filter(F.dayofweek(\"logindate\").isin([2, 3, 4, 5, 6]))  # Exclude Saturday and Sunday (Sunday=1, Saturday=7)\n",
    "\n",
    "# Generate a streak ID based on day difference\n",
    "df = df.withColumn(\"streak_id\", F.sum(F.when((F.col(\"day_diff\") == 1), 0).otherwise(1)).over(window_spec))\n",
    "\n",
    "# Group by streak ID and count consecutive days\n",
    "df_streaks = df.groupBy(\"employee_id\", \"streak_id\").agg(\n",
    "    F.count(\"logindate\").alias(\"consecutive_days\"),\n",
    "    F.min(\"logindate\").alias(\"start_date\"),\n",
    "    F.max(\"logindate\").alias(\"end_date\")\n",
    ").filter(\"consecutive_days >= 3\")\n",
    "\n",
    "df_streaks.show()\n"
   ]
  },
  {
   "cell_type": "code",
   "execution_count": null,
   "metadata": {},
   "outputs": [],
   "source": []
  }
 ],
 "metadata": {
  "kernelspec": {
   "display_name": "Python 3",
   "language": "python",
   "name": "python3"
  },
  "language_info": {
   "codemirror_mode": {
    "name": "ipython",
    "version": 3
   },
   "file_extension": ".py",
   "mimetype": "text/x-python",
   "name": "python",
   "nbconvert_exporter": "python",
   "pygments_lexer": "ipython3",
   "version": "3.11.8"
  }
 },
 "nbformat": 4,
 "nbformat_minor": 2
}
