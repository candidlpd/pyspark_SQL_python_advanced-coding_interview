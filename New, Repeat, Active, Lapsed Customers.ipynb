{
 "cells": [
  {
   "cell_type": "code",
   "execution_count": 1,
   "metadata": {},
   "outputs": [
    {
     "name": "stdout",
     "output_type": "stream",
     "text": [
      "H:\\pyspark_advanced-coding_interview\n"
     ]
    }
   ],
   "source": [
    "import os\n",
    "os.getcwd()\n",
    "os.chdir(\"H:\\pyspark_advanced-coding_interview\")\n",
    "print(os.getcwd())\n",
    "\n",
    "\n",
    "from pyspark.sql import SparkSession\n",
    "\n",
    "# Create a Spark session with optimized settings\n",
    "spark = (\n",
    "    SparkSession.builder \n",
    "    .appName(\"OptimizedLocalSpark\") \n",
    "    .config(\"spark.driver.memory\", \"8g\")        \n",
    "    .config(\"spark.executor.memory\", \"8g\")    \n",
    "    .config(\"spark.executor.cores\", \"4\")       \n",
    "    .config(\"spark.cores.max\", \"12\")           \n",
    "    .config(\"spark.sql.shuffle.partitions\", \"28\")  \n",
    "    .config(\"spark.serializer\", \"org.apache.spark.serializer.KryoSerializer\") \n",
    "    .getOrCreate()\n",
    ")\n",
    "sc = spark.sparkContext"
   ]
  },
  {
   "cell_type": "markdown",
   "metadata": {},
   "source": [
    "# New, Repeat, Active, Lapsed Customers\n",
    "\n",
    "### New Customer: First-time buyers within a period.\n",
    "### Repeat Customer: Customers who have placed more than one order.\n",
    "### Active Customer: Customers with orders within a recent period (e.g., last 30 days).\n",
    "### Lapsed Customer: Customers who have not placed orders within a specified timeframe (e.g., more than 30 days ago).\n"
   ]
  },
  {
   "cell_type": "code",
   "execution_count": 7,
   "metadata": {},
   "outputs": [
    {
     "name": "stdout",
     "output_type": "stream",
     "text": [
      "+----------+--------+----------+\n",
      "| orderDate|OrderKey|customerID|\n",
      "+----------+--------+----------+\n",
      "|2023-10-01|       1|      C001|\n",
      "|2023-10-10|       2|      C002|\n",
      "|2023-10-15|       3|      C001|\n",
      "|2023-10-20|       4|      C003|\n",
      "|2023-10-25|       5|      C001|\n",
      "|2023-10-30|       6|      C004|\n",
      "|2023-09-01|       7|      C002|\n",
      "|2023-08-15|       8|      C003|\n",
      "|2023-07-10|       9|      C001|\n",
      "|2023-06-05|      10|      C002|\n",
      "+----------+--------+----------+\n",
      "\n"
     ]
    }
   ],
   "source": [
    "from pyspark.sql import SparkSession\n",
    "from pyspark.sql.functions import col, count, min, max, datediff, current_date\n",
    "\n",
    "# Initialize Spark session\n",
    "spark = SparkSession.builder.appName(\"CustomerAnalysis\").getOrCreate()\n",
    "\n",
    "# Sample data\n",
    "data = [\n",
    "    (\"2023-10-01\", 1, \"C001\"),\n",
    "    (\"2023-10-10\", 2, \"C002\"),\n",
    "    (\"2023-10-15\", 3, \"C001\"),\n",
    "    (\"2023-10-20\", 4, \"C003\"),\n",
    "    (\"2023-10-25\", 5, \"C001\"),\n",
    "    (\"2023-10-30\", 6, \"C004\"),\n",
    "    (\"2023-09-01\", 7, \"C002\"),\n",
    "    (\"2023-08-15\", 8, \"C003\"),\n",
    "    (\"2023-07-10\", 9, \"C001\"),\n",
    "    (\"2023-06-05\", 10, \"C002\")\n",
    "]\n",
    "\n",
    "# Create DataFrame\n",
    "columns = [\"orderDate\", \"OrderKey\", \"customerID\"]\n",
    "df = spark.createDataFrame(data, columns)\n",
    "df = df.withColumn(\"orderDate\", col(\"orderDate\").cast(\"date\"))\n",
    "df.createOrReplaceTempView(\"orders\")\n",
    "\n",
    "df.show()\n"
   ]
  },
  {
   "cell_type": "markdown",
   "metadata": {},
   "source": [
    "##### First, identify New and Repeat customers by counting the number of unique orders per customer"
   ]
  },
  {
   "cell_type": "code",
   "execution_count": 5,
   "metadata": {},
   "outputs": [],
   "source": [
    "from pyspark.sql.window import Window\n",
    "from pyspark.sql.functions import when, lit\n",
    "\n",
    "# Calculate order count per customer and minimum order date\n",
    "customer_orders = df.groupBy(\"customerID\").agg(\n",
    "    count(\"OrderKey\").alias(\"order_count\"),\n",
    "    min(\"orderDate\").alias(\"first_order_date\")\n",
    ")\n",
    "\n",
    "# Label New and Repeat customers\n",
    "customer_orders = customer_orders.withColumn(\n",
    "    \"customer_type\",\n",
    "    when(col(\"order_count\") == 1, \"New\").otherwise(\"Repeat\")\n",
    ")\n"
   ]
  },
  {
   "cell_type": "markdown",
   "metadata": {},
   "source": [
    "##### Define customers as Active or Lapsed based on recent activity. Let's assume a customer is considered active if they placed an order within the last 30 days."
   ]
  },
  {
   "cell_type": "code",
   "execution_count": 6,
   "metadata": {},
   "outputs": [
    {
     "name": "stdout",
     "output_type": "stream",
     "text": [
      "+----------+-----------+----------------+-------------+---------------+---------------+\n",
      "|customerID|order_count|first_order_date|customer_type|last_order_date|customer_status|\n",
      "+----------+-----------+----------------+-------------+---------------+---------------+\n",
      "|      C001|          4|      2023-07-10|       Repeat|     2023-10-25|         Lapsed|\n",
      "|      C002|          3|      2023-06-05|       Repeat|     2023-10-10|         Lapsed|\n",
      "|      C003|          2|      2023-08-15|       Repeat|     2023-10-20|         Lapsed|\n",
      "|      C004|          1|      2023-10-30|          New|     2023-10-30|         Lapsed|\n",
      "+----------+-----------+----------------+-------------+---------------+---------------+\n",
      "\n"
     ]
    }
   ],
   "source": [
    "# Find the most recent order date per customer\n",
    "recent_orders = df.groupBy(\"customerID\").agg(\n",
    "    max(\"orderDate\").alias(\"last_order_date\")\n",
    ")\n",
    "\n",
    "# Calculate days since last order and categorize as Active or Lapsed\n",
    "recent_orders = recent_orders.withColumn(\n",
    "    \"customer_status\",\n",
    "    when(datediff(current_date(), col(\"last_order_date\")) <= 30, \"Active\").otherwise(\"Lapsed\")\n",
    ")\n",
    "\n",
    "# Join to get all customer information\n",
    "final_df = customer_orders.join(recent_orders, on=\"customerID\", how=\"inner\")\n",
    "final_df.show()\n"
   ]
  },
  {
   "cell_type": "markdown",
   "metadata": {},
   "source": []
  },
  {
   "cell_type": "code",
   "execution_count": 8,
   "metadata": {},
   "outputs": [
    {
     "name": "stdout",
     "output_type": "stream",
     "text": [
      "+----------+-------------+---------------+\n",
      "|customerID|customer_type|customer_status|\n",
      "+----------+-------------+---------------+\n",
      "|      C001|       Repeat|         Lapsed|\n",
      "|      C002|       Repeat|         Lapsed|\n",
      "|      C003|       Repeat|         Lapsed|\n",
      "|      C004|          New|         Lapsed|\n",
      "+----------+-------------+---------------+\n",
      "\n"
     ]
    }
   ],
   "source": [
    "##### customer_orders CTE: Calculates the number of orders (order_count), the date of the first order (first_order_date), and the most recent order (last_order_date) for each customerID.\n",
    "\n",
    "###### Main Query:\n",
    "\n",
    "# customer_type: Categorizes each customer as New (only 1 order) or Repeat (more than 1 order).\n",
    "#customer_status: Categorizes each customer as Active (order within last 30 days) or Lapsed (no order in the last 30 days).\n",
    "\n",
    "\n",
    "res = spark.sql(\"\"\"\n",
    "WITH customer_orders AS (\n",
    "    SELECT customerID,\n",
    "           COUNT(OrderKey) AS order_count,\n",
    "           MIN(orderDate) AS first_order_date,\n",
    "           MAX(orderDate) AS last_order_date\n",
    "    FROM orders\n",
    "    GROUP BY customerID\n",
    ")\n",
    "\n",
    "SELECT customerID,\n",
    "       CASE WHEN order_count = 1 THEN 'New' ELSE 'Repeat' END AS customer_type,\n",
    "       CASE WHEN DATEDIFF(current_date(), last_order_date) <= 30 THEN 'Active' ELSE 'Lapsed' END AS customer_status\n",
    "FROM customer_orders\n",
    "\"\"\")\n",
    "\n",
    "res.show()\n"
   ]
  },
  {
   "cell_type": "code",
   "execution_count": null,
   "metadata": {},
   "outputs": [],
   "source": []
  }
 ],
 "metadata": {
  "kernelspec": {
   "display_name": "Python 3",
   "language": "python",
   "name": "python3"
  },
  "language_info": {
   "codemirror_mode": {
    "name": "ipython",
    "version": 3
   },
   "file_extension": ".py",
   "mimetype": "text/x-python",
   "name": "python",
   "nbconvert_exporter": "python",
   "pygments_lexer": "ipython3",
   "version": "3.11.8"
  }
 },
 "nbformat": 4,
 "nbformat_minor": 2
}
