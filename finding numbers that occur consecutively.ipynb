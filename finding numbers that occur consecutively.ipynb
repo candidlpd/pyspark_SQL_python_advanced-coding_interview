{
 "cells": [
  {
   "cell_type": "code",
   "execution_count": 1,
   "metadata": {},
   "outputs": [
    {
     "name": "stdout",
     "output_type": "stream",
     "text": [
      "H:\\pyspark_advanced-coding_interview\n"
     ]
    }
   ],
   "source": [
    "import os\n",
    "os.getcwd()\n",
    "os.chdir(\"H:\\pyspark_advanced-coding_interview\")\n",
    "print(os.getcwd())\n",
    "\n",
    "\n",
    "from pyspark.sql import SparkSession\n",
    "\n",
    "# Create a Spark session with optimized settings\n",
    "spark = (\n",
    "    SparkSession.builder \n",
    "    .appName(\"OptimizedLocalSpark\") \n",
    "    .config(\"spark.driver.memory\", \"8g\")        \n",
    "    .config(\"spark.executor.memory\", \"8g\")    \n",
    "    .config(\"spark.executor.cores\", \"4\")       \n",
    "    .config(\"spark.cores.max\", \"12\")           \n",
    "    .config(\"spark.sql.shuffle.partitions\", \"28\")  \n",
    "    .config(\"spark.serializer\", \"org.apache.spark.serializer.KryoSerializer\") \n",
    "    .getOrCreate()\n",
    ")\n",
    "sc = spark.sparkContext"
   ]
  },
  {
   "cell_type": "markdown",
   "metadata": {},
   "source": [
    "# finding numbers that occur consecutively"
   ]
  },
  {
   "cell_type": "code",
   "execution_count": 1,
   "metadata": {},
   "outputs": [
    {
     "name": "stdout",
     "output_type": "stream",
     "text": [
      "+---+------+\n",
      "| id|number|\n",
      "+---+------+\n",
      "|  1|     1|\n",
      "|  2|     1|\n",
      "|  3|     1|\n",
      "|  4|     2|\n",
      "|  5|     2|\n",
      "|  6|     2|\n",
      "|  7|     3|\n",
      "|  8|     3|\n",
      "|  9|     4|\n",
      "| 10|     5|\n",
      "| 11|     5|\n",
      "| 12|     5|\n",
      "| 13|     5|\n",
      "| 14|     6|\n",
      "+---+------+\n",
      "\n"
     ]
    }
   ],
   "source": [
    "from pyspark.sql import SparkSession\n",
    "from pyspark.sql import functions as F\n",
    "from pyspark.sql.window import Window\n",
    "\n",
    "# Initialize Spark session\n",
    "spark = SparkSession.builder.appName(\"ConsecutiveOccurrences\").getOrCreate()\n",
    "\n",
    "# Sample data with consecutive occurrences\n",
    "data = [\n",
    "    (1, 1),\n",
    "    (2, 1),\n",
    "    (3, 1),\n",
    "    (4, 2),\n",
    "    (5, 2),\n",
    "    (6, 2),\n",
    "    (7, 3),\n",
    "    (8, 3),\n",
    "    (9, 4),\n",
    "    (10, 5),\n",
    "    (11, 5),\n",
    "    (12, 5),\n",
    "    (13, 5),\n",
    "    (14, 6)\n",
    "]\n",
    "\n",
    "columns = [\"id\", \"number\"]\n",
    "df = spark.createDataFrame(data, columns)\n",
    "\n",
    "# Create a temporary table for Spark SQL\n",
    "df.createOrReplaceTempView(\"number_table\")\n",
    "df.show()\n"
   ]
  },
  {
   "cell_type": "code",
   "execution_count": 2,
   "metadata": {},
   "outputs": [
    {
     "name": "stdout",
     "output_type": "stream",
     "text": [
      "+------+\n",
      "|number|\n",
      "+------+\n",
      "|     1|\n",
      "|     2|\n",
      "|     5|\n",
      "+------+\n",
      "\n"
     ]
    }
   ],
   "source": [
    "result_sql = spark.sql(\"\"\"\n",
    "    SELECT number\n",
    "    FROM (\n",
    "        SELECT number,\n",
    "               LAG(number) OVER (ORDER BY id) AS prev_num,\n",
    "               LEAD(number) OVER (ORDER BY id) AS next_num\n",
    "        FROM number_table\n",
    "    ) AS t\n",
    "    WHERE number = prev_num AND number = next_num\n",
    "    GROUP BY number\n",
    "\"\"\")\n",
    "result_sql.show()\n"
   ]
  },
  {
   "cell_type": "code",
   "execution_count": 3,
   "metadata": {},
   "outputs": [
    {
     "name": "stdout",
     "output_type": "stream",
     "text": [
      "+------+\n",
      "|number|\n",
      "+------+\n",
      "|     1|\n",
      "|     2|\n",
      "|     5|\n",
      "+------+\n",
      "\n"
     ]
    }
   ],
   "source": [
    "# Create a window to identify changes in consecutive numbers\n",
    "window = Window.orderBy(\"id\")\n",
    "\n",
    "# Identify groups based on change in numbers\n",
    "df_with_lag = df.withColumn(\"prev_num\", F.lag(\"number\").over(window))\n",
    "df_with_group = df_with_lag.withColumn(\"group\", F.when(F.col(\"number\") == F.col(\"prev_num\"), 0).otherwise(1))\n",
    "df_with_group = df_with_group.withColumn(\"group_id\", F.sum(\"group\").over(window.rowsBetween(Window.unboundedPreceding, 0)))\n",
    "\n",
    "# Count occurrences within each group and filter for counts >= 3\n",
    "df_group_count = df_with_group.groupBy(\"number\", \"group_id\").count()\n",
    "df_consecutive = df_group_count.filter(F.col(\"count\") >= 3).select(\"number\").distinct()\n",
    "df_consecutive.show()\n"
   ]
  },
  {
   "cell_type": "code",
   "execution_count": 4,
   "metadata": {},
   "outputs": [
    {
     "name": "stdout",
     "output_type": "stream",
     "text": [
      "+------+\n",
      "|number|\n",
      "+------+\n",
      "|     1|\n",
      "|     2|\n",
      "|     5|\n",
      "+------+\n",
      "\n"
     ]
    }
   ],
   "source": [
    "# Create a window partitioned by 'number' to assign row numbers\n",
    "window_row = Window.orderBy(\"id\")\n",
    "df = df.withColumn(\"row_num\", F.row_number().over(window_row))\n",
    "\n",
    "# Calculate the difference between row number and current position\n",
    "df = df.withColumn(\"group\", F.col(\"row_num\") - F.monotonically_increasing_id())\n",
    "\n",
    "# Group by number and group, count occurrences, and filter for counts >= 3\n",
    "df_grouped = df.groupBy(\"number\", \"group\").count()\n",
    "df_result = df_grouped.filter(F.col(\"count\") >= 3).select(\"number\").distinct()\n",
    "df_result.show()\n"
   ]
  },
  {
   "cell_type": "code",
   "execution_count": null,
   "metadata": {},
   "outputs": [],
   "source": []
  }
 ],
 "metadata": {
  "kernelspec": {
   "display_name": "Python 3",
   "language": "python",
   "name": "python3"
  },
  "language_info": {
   "codemirror_mode": {
    "name": "ipython",
    "version": 3
   },
   "file_extension": ".py",
   "mimetype": "text/x-python",
   "name": "python",
   "nbconvert_exporter": "python",
   "pygments_lexer": "ipython3",
   "version": "3.11.8"
  }
 },
 "nbformat": 4,
 "nbformat_minor": 2
}
