{
 "cells": [
  {
   "cell_type": "code",
   "execution_count": 1,
   "metadata": {},
   "outputs": [
    {
     "name": "stdout",
     "output_type": "stream",
     "text": [
      "H:\\pyspark_advanced-coding_interview\n"
     ]
    }
   ],
   "source": [
    "import os\n",
    "os.getcwd()\n",
    "os.chdir(\"H:\\pyspark_advanced-coding_interview\")\n",
    "print(os.getcwd())\n",
    "\n",
    "\n",
    "from pyspark.sql import SparkSession\n",
    "\n",
    "# Create a Spark session with optimized settings\n",
    "spark = (\n",
    "    SparkSession.builder \n",
    "    .appName(\"OptimizedLocalSpark\") \n",
    "    .config(\"spark.driver.memory\", \"8g\")        \n",
    "    .config(\"spark.executor.memory\", \"8g\")    \n",
    "    .config(\"spark.executor.cores\", \"4\")       \n",
    "    .config(\"spark.cores.max\", \"12\")           \n",
    "    .config(\"spark.sql.shuffle.partitions\", \"28\")  \n",
    "    .config(\"spark.serializer\", \"org.apache.spark.serializer.KryoSerializer\") \n",
    "    .getOrCreate()\n",
    ")\n",
    "sc = spark.sparkContext"
   ]
  },
  {
   "cell_type": "markdown",
   "metadata": {},
   "source": [
    "# create a Christmas Tree"
   ]
  },
  {
   "cell_type": "code",
   "execution_count": null,
   "metadata": {},
   "outputs": [],
   "source": [
    "from pyspark.sql import SparkSession\n",
    "from pyspark.sql.functions import col, lit, expr\n",
    "\n",
    "# Initialize SparkSession\n",
    "spark = SparkSession.builder.appName(\"ChristmasTree\").getOrCreate()\n",
    "\n",
    "# Create a base DataFrame for the tree trunk\n",
    "df = spark.createDataFrame([(1, \"*\")], [\"level\", \"pattern\"])\n",
    "\n",
    "# Generate the tree pattern recursively\n",
    "for i in range(2, 11):  # Adjust range for desired tree height\n",
    "    new_row = df.withColumn(\"level\", lit(i)).withColumn(\"pattern\", expr(\"repeat('*', level)\"))\n",
    "    df = df.union(new_row)\n",
    "\n",
    "# Show the tree\n",
    "df.orderBy(\"level\").show(truncate=False)\n"
   ]
  },
  {
   "cell_type": "code",
   "execution_count": null,
   "metadata": {},
   "outputs": [],
   "source": [
    "# Create a base DataFrame and register as a temporary table\n",
    "base_df = spark.sql(\"SELECT 1 AS level, '*' AS pattern\")\n",
    "base_df.createOrReplaceTempView(\"tree_base\")\n",
    "\n",
    "# Use Spark SQL to create the recursive CTE\n",
    "tree_sql = \"\"\"\n",
    "WITH RECURSIVE tree_cte(level, pattern) AS (\n",
    "    SELECT level, pattern FROM tree_base\n",
    "    UNION ALL\n",
    "    SELECT level + 1, repeat('*', level + 1)\n",
    "    FROM tree_cte\n",
    "    WHERE level < 10  -- Adjust the value for tree height\n",
    ")\n",
    "SELECT * FROM tree_cte ORDER BY level\n",
    "\"\"\"\n",
    "\n",
    "# Run the query and show the result\n",
    "tree_df = spark.sql(tree_sql)\n",
    "tree_df.show(truncate=False)\n"
   ]
  },
  {
   "cell_type": "code",
   "execution_count": null,
   "metadata": {},
   "outputs": [],
   "source": [
    "from pyspark.sql import Row\n",
    "\n",
    "# Generate rows for the Christmas tree\n",
    "tree_rows = [Row(level=i, pattern='*' * i) for i in range(1, 11)]  # Adjust range for tree height\n",
    "\n",
    "# Create DataFrame from rows\n",
    "tree_df = spark.createDataFrame(tree_rows)\n",
    "\n",
    "# Show the DataFrame\n",
    "tree_df.orderBy(\"level\").show(truncate=False)\n"
   ]
  },
  {
   "cell_type": "markdown",
   "metadata": {},
   "source": []
  }
 ],
 "metadata": {
  "kernelspec": {
   "display_name": "Python 3",
   "language": "python",
   "name": "python3"
  },
  "language_info": {
   "codemirror_mode": {
    "name": "ipython",
    "version": 3
   },
   "file_extension": ".py",
   "mimetype": "text/x-python",
   "name": "python",
   "nbconvert_exporter": "python",
   "pygments_lexer": "ipython3",
   "version": "3.11.8"
  }
 },
 "nbformat": 4,
 "nbformat_minor": 2
}
