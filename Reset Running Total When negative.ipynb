{
 "cells": [
  {
   "cell_type": "code",
   "execution_count": 1,
   "metadata": {},
   "outputs": [
    {
     "name": "stdout",
     "output_type": "stream",
     "text": [
      "H:\\pyspark_advanced-coding_interview\n"
     ]
    }
   ],
   "source": [
    "import os\n",
    "os.getcwd()\n",
    "os.chdir(\"H:\\pyspark_advanced-coding_interview\")\n",
    "print(os.getcwd())\n",
    "\n",
    "\n",
    "from pyspark.sql import SparkSession\n",
    "\n",
    "# Create a Spark session with optimized settings\n",
    "spark = (\n",
    "    SparkSession.builder \n",
    "    .appName(\"OptimizedLocalSpark\") \n",
    "    .config(\"spark.driver.memory\", \"8g\")        \n",
    "    .config(\"spark.executor.memory\", \"8g\")    \n",
    "    .config(\"spark.executor.cores\", \"4\")       \n",
    "    .config(\"spark.cores.max\", \"12\")           \n",
    "    .config(\"spark.sql.shuffle.partitions\", \"28\")  \n",
    "    .config(\"spark.serializer\", \"org.apache.spark.serializer.KryoSerializer\") \n",
    "    .getOrCreate()\n",
    ")\n",
    "sc = spark.sparkContext"
   ]
  },
  {
   "cell_type": "markdown",
   "metadata": {},
   "source": [
    "# Reset Running Total When negative"
   ]
  },
  {
   "cell_type": "code",
   "execution_count": 3,
   "metadata": {},
   "outputs": [
    {
     "name": "stdout",
     "output_type": "stream",
     "text": [
      "+--------------+------+-----+\n",
      "|transaction_id|amount|reset|\n",
      "+--------------+------+-----+\n",
      "|             1|   100|    0|\n",
      "|             2|    50|    0|\n",
      "|             3|   -30|    0|\n",
      "|             4|    20|    0|\n",
      "|             5|    30|    1|\n",
      "|             6|    10|    0|\n",
      "|             7|   -10|    0|\n",
      "|             8|    40|    0|\n",
      "+--------------+------+-----+\n",
      "\n"
     ]
    }
   ],
   "source": [
    "from pyspark.sql import SparkSession\n",
    "from pyspark.sql import functions as F\n",
    "from pyspark.sql.window import Window\n",
    "\n",
    "# Initialize Spark session\n",
    "spark = SparkSession.builder.appName(\"RunningTotalReset\").getOrCreate()\n",
    "\n",
    "# Sample data with a reset condition\n",
    "data = [\n",
    "    (1, 100, 0),\n",
    "    (2, 50, 0),\n",
    "    (3, -30, 0),\n",
    "    (4, 20, 0),\n",
    "    (5, 30, 1),    # Reset trigger\n",
    "    (6, 10, 0),\n",
    "    (7, -10, 0),\n",
    "    (8, 40, 0)\n",
    "]\n",
    "columns = [\"transaction_id\", \"amount\", \"reset\"]\n",
    "\n",
    "# Create DataFrame\n",
    "df = spark.createDataFrame(data, columns)\n",
    "df.createOrReplaceTempView(\"transaction_table\")\n",
    "df.show()\n"
   ]
  },
  {
   "cell_type": "code",
   "execution_count": 4,
   "metadata": {},
   "outputs": [
    {
     "name": "stdout",
     "output_type": "stream",
     "text": [
      "+--------------+------+-----+----------------+\n",
      "|transaction_id|amount|reset|cumulative_total|\n",
      "+--------------+------+-----+----------------+\n",
      "|             1|   100|    0|             100|\n",
      "|             2|    50|    0|             150|\n",
      "|             3|   -30|    0|             120|\n",
      "|             4|    20|    0|             140|\n",
      "|             5|    30|    1|              30|\n",
      "|             6|    10|    0|              40|\n",
      "|             7|   -10|    0|              30|\n",
      "|             8|    40|    0|              70|\n",
      "+--------------+------+-----+----------------+\n",
      "\n"
     ]
    }
   ],
   "source": [
    "res = spark.sql(\"\"\"\n",
    "    WITH RunningTotal AS (\n",
    "        SELECT \n",
    "            transaction_id,\n",
    "            amount,\n",
    "            reset,\n",
    "            SUM(amount) OVER (ORDER BY transaction_id ROWS BETWEEN UNBOUNDED PRECEDING AND CURRENT ROW) AS running_total\n",
    "        FROM transaction_table\n",
    "    ),\n",
    "    ResetFlag AS (\n",
    "        SELECT \n",
    "            transaction_id,\n",
    "            amount,\n",
    "            reset,\n",
    "            running_total,\n",
    "            CASE \n",
    "                WHEN reset = 1 OR running_total < 0 THEN 1 \n",
    "                ELSE 0 \n",
    "            END AS reset_flag\n",
    "        FROM RunningTotal\n",
    "    ),\n",
    "    CumulativeTotal AS (\n",
    "        SELECT \n",
    "            transaction_id,\n",
    "            amount,\n",
    "            reset,\n",
    "            SUM(CASE WHEN reset_flag = 1 THEN 1 ELSE 0 END) OVER (ORDER BY transaction_id) AS reset_group\n",
    "        FROM ResetFlag\n",
    "    )\n",
    "    SELECT \n",
    "        transaction_id,\n",
    "        amount,\n",
    "        reset,\n",
    "        SUM(amount) OVER (PARTITION BY reset_group ORDER BY transaction_id) AS cumulative_total\n",
    "    FROM CumulativeTotal\n",
    "\"\"\")\n",
    "\n",
    "res.show()\n"
   ]
  },
  {
   "cell_type": "code",
   "execution_count": 5,
   "metadata": {},
   "outputs": [
    {
     "name": "stdout",
     "output_type": "stream",
     "text": [
      "+--------------+------+-----+----------------+\n",
      "|transaction_id|amount|reset|cumulative_total|\n",
      "+--------------+------+-----+----------------+\n",
      "|             1|   100|    0|             100|\n",
      "|             2|    50|    0|             150|\n",
      "|             3|   -30|    0|             120|\n",
      "|             4|    20|    0|             140|\n",
      "|             5|    30|    1|              30|\n",
      "|             6|    10|    0|              40|\n",
      "|             7|   -10|    0|              30|\n",
      "|             8|    40|    0|              70|\n",
      "+--------------+------+-----+----------------+\n",
      "\n"
     ]
    }
   ],
   "source": [
    "# Define the window for cumulative total\n",
    "window_spec = Window.orderBy(\"transaction_id\").rowsBetween(Window.unboundedPreceding, Window.currentRow)\n",
    "\n",
    "# Calculate running total and reset flag\n",
    "df_with_running_total = df.withColumn(\"running_total\", F.sum(\"amount\").over(window_spec)) \\\n",
    "                          .withColumn(\"reset_flag\", F.when((F.col(\"reset\") == 1) | (F.col(\"running_total\") < 0), 1).otherwise(0))\n",
    "\n",
    "# Define window for reset grouping\n",
    "window_reset_group = Window.orderBy(\"transaction_id\").rowsBetween(Window.unboundedPreceding, 0)\n",
    "\n",
    "# Create cumulative reset group\n",
    "df_with_reset_group = df_with_running_total.withColumn(\"reset_group\", F.sum(\"reset_flag\").over(window_reset_group))\n",
    "\n",
    "# Define window for cumulative total within each reset group\n",
    "window_cumulative_total = Window.partitionBy(\"reset_group\").orderBy(\"transaction_id\")\n",
    "\n",
    "# Calculate cumulative total with reset\n",
    "df_result = df_with_reset_group.withColumn(\"cumulative_total\", F.sum(\"amount\").over(window_cumulative_total))\n",
    "\n",
    "df_result.select(\"transaction_id\", \"amount\", \"reset\", \"cumulative_total\").show()\n"
   ]
  },
  {
   "cell_type": "code",
   "execution_count": null,
   "metadata": {},
   "outputs": [],
   "source": []
  }
 ],
 "metadata": {
  "kernelspec": {
   "display_name": "Python 3",
   "language": "python",
   "name": "python3"
  },
  "language_info": {
   "codemirror_mode": {
    "name": "ipython",
    "version": 3
   },
   "file_extension": ".py",
   "mimetype": "text/x-python",
   "name": "python",
   "nbconvert_exporter": "python",
   "pygments_lexer": "ipython3",
   "version": "3.11.8"
  }
 },
 "nbformat": 4,
 "nbformat_minor": 2
}
