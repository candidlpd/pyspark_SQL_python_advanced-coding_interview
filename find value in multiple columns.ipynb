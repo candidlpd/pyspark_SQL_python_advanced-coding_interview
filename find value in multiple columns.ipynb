{
 "cells": [
  {
   "cell_type": "code",
   "execution_count": 1,
   "metadata": {},
   "outputs": [
    {
     "name": "stdout",
     "output_type": "stream",
     "text": [
      "H:\\pyspark_advanced-coding_interview\n"
     ]
    }
   ],
   "source": [
    "import os\n",
    "os.getcwd()\n",
    "os.chdir(\"H:\\pyspark_advanced-coding_interview\")\n",
    "print(os.getcwd())\n",
    "\n",
    "\n",
    "from pyspark.sql import SparkSession\n",
    "\n",
    "# Create a Spark session with optimized settings\n",
    "spark = (\n",
    "    SparkSession.builder \n",
    "    .appName(\"OptimizedLocalSpark\") \n",
    "    .config(\"spark.driver.memory\", \"8g\")        \n",
    "    .config(\"spark.executor.memory\", \"8g\")    \n",
    "    .config(\"spark.executor.cores\", \"4\")       \n",
    "    .config(\"spark.cores.max\", \"12\")           \n",
    "    .config(\"spark.sql.shuffle.partitions\", \"28\")  \n",
    "    .config(\"spark.serializer\", \"org.apache.spark.serializer.KryoSerializer\") \n",
    "    .getOrCreate()\n",
    ")\n",
    "sc = spark.sparkContext"
   ]
  },
  {
   "cell_type": "markdown",
   "metadata": {},
   "source": [
    "# find value in multiple columns"
   ]
  },
  {
   "cell_type": "code",
   "execution_count": 2,
   "metadata": {},
   "outputs": [
    {
     "name": "stdout",
     "output_type": "stream",
     "text": [
      "+---+-------+---+---------+\n",
      "| ID|   Name|Age|      Job|\n",
      "+---+-------+---+---------+\n",
      "|  1|  Alice| 30|Developer|\n",
      "|  2|    Bob| 25|  Analyst|\n",
      "|  3|Charlie| 35|Developer|\n",
      "|  4|  David| 28|  Manager|\n",
      "|  5|    Eve| 40|Developer|\n",
      "+---+-------+---+---------+\n",
      "\n"
     ]
    }
   ],
   "source": [
    "from pyspark.sql import SparkSession\n",
    "from pyspark.sql.functions import col\n",
    "\n",
    "# Create a Spark session\n",
    "spark = SparkSession.builder.appName(\"FindValueInColumns\").getOrCreate()\n",
    "\n",
    "# Sample data\n",
    "data = [\n",
    "    (1, \"Alice\", 30, \"Developer\"),\n",
    "    (2, \"Bob\", 25, \"Analyst\"),\n",
    "    (3, \"Charlie\", 35, \"Developer\"),\n",
    "    (4, \"David\", 28, \"Manager\"),\n",
    "    (5, \"Eve\", 40, \"Developer\")\n",
    "]\n",
    "\n",
    "# Column names\n",
    "columns = [\"ID\", \"Name\", \"Age\", \"Job\"]\n",
    "\n",
    "# Create a DataFrame\n",
    "df = spark.createDataFrame(data, columns)\n",
    "\n",
    "# Show the DataFrame\n",
    "df.show()\n",
    "\n",
    "# Register the DataFrame as a temporary SQL table\n",
    "df.createOrReplaceTempView(\"employee_table\")\n"
   ]
  },
  {
   "cell_type": "code",
   "execution_count": 3,
   "metadata": {},
   "outputs": [
    {
     "name": "stdout",
     "output_type": "stream",
     "text": [
      "+---+-------+---+---------+\n",
      "| ID|   Name|Age|      Job|\n",
      "+---+-------+---+---------+\n",
      "|  1|  Alice| 30|Developer|\n",
      "|  3|Charlie| 35|Developer|\n",
      "|  5|    Eve| 40|Developer|\n",
      "+---+-------+---+---------+\n",
      "\n"
     ]
    }
   ],
   "source": [
    "# Using PySpark `filter` to find rows where any column matches a specific value\n",
    "value_to_find = \"Developer\"\n",
    "filtered_df = df.filter((col(\"Name\") == value_to_find) | \n",
    "                        (col(\"Age\").cast(\"string\") == value_to_find) | \n",
    "                        (col(\"Job\") == value_to_find))\n",
    "\n",
    "filtered_df.show()\n"
   ]
  },
  {
   "cell_type": "code",
   "execution_count": 4,
   "metadata": {},
   "outputs": [
    {
     "name": "stdout",
     "output_type": "stream",
     "text": [
      "+---+-------+---+---------+\n",
      "| ID|   Name|Age|      Job|\n",
      "+---+-------+---+---------+\n",
      "|  1|  Alice| 30|Developer|\n",
      "|  3|Charlie| 35|Developer|\n",
      "|  5|    Eve| 40|Developer|\n",
      "+---+-------+---+---------+\n",
      "\n"
     ]
    }
   ],
   "source": [
    "# Using Spark SQL to find rows where any column matches a specific value\n",
    "value_to_find = \"Developer\"\n",
    "query = f\"\"\"\n",
    "SELECT *\n",
    "FROM employee_table\n",
    "WHERE Name = '{value_to_find}' OR\n",
    "      CAST(Age AS STRING) = '{value_to_find}' OR\n",
    "      Job = '{value_to_find}'\n",
    "\"\"\"\n",
    "\n",
    "res = spark.sql(query)\n",
    "res.show()\n"
   ]
  },
  {
   "cell_type": "code",
   "execution_count": 5,
   "metadata": {},
   "outputs": [
    {
     "name": "stdout",
     "output_type": "stream",
     "text": [
      "+---+-------+---+---------+-----+\n",
      "| ID|   Name|Age|      Job|Match|\n",
      "+---+-------+---+---------+-----+\n",
      "|  1|  Alice| 30|Developer|  Yes|\n",
      "|  3|Charlie| 35|Developer|  Yes|\n",
      "|  5|    Eve| 40|Developer|  Yes|\n",
      "+---+-------+---+---------+-----+\n",
      "\n"
     ]
    }
   ],
   "source": [
    "from pyspark.sql.functions import when\n",
    "\n",
    "# Using `withColumn` to create a new column indicating if the value exists in any column\n",
    "value_to_find = \"Developer\"\n",
    "df_with_flag = df.withColumn(\"Match\", when(\n",
    "    (col(\"Name\") == value_to_find) |\n",
    "    (col(\"Age\").cast(\"string\") == value_to_find) |\n",
    "    (col(\"Job\") == value_to_find), \"Yes\").otherwise(\"No\"))\n",
    "\n",
    "df_with_flag.filter(col(\"Match\") == \"Yes\").show()\n"
   ]
  },
  {
   "cell_type": "code",
   "execution_count": 6,
   "metadata": {},
   "outputs": [
    {
     "name": "stdout",
     "output_type": "stream",
     "text": [
      "+------------------+--------------+------------------+---------+------------+\n",
      "|col1              |col2          |col3              |col4     |col5        |\n",
      "+------------------+--------------+------------------+---------+------------+\n",
      "|Demo scheduled    |Completed demo|Training postponed|Cancelled|Demo planned|\n",
      "|Completed training|Completed demo|Demo postponed    |Free day |Cancelled   |\n",
      "+------------------+--------------+------------------+---------+------------+\n",
      "\n"
     ]
    }
   ],
   "source": [
    "from pyspark.sql import SparkSession\n",
    "\n",
    "# Initialize Spark session\n",
    "spark = SparkSession.builder.appName(\"FindValueInColumns\").getOrCreate()\n",
    "\n",
    "# Sample data from the image\n",
    "data = [\n",
    "    (\"Demo scheduled\", \"Completed demo\", \"Training postponed\", \"Cancelled\", \"Demo planned\"),\n",
    "    (\"Completed training\", \"Completed demo\", \"Demo postponed\", \"Free day\", \"Cancelled\")\n",
    "]\n",
    "columns = [\"col1\", \"col2\", \"col3\", \"col4\", \"col5\"]\n",
    "\n",
    "# Create DataFrame\n",
    "df1 = spark.createDataFrame(data, columns)\n",
    "\n",
    "# Show the DataFrame\n",
    "df1.show(truncate=False)\n"
   ]
  },
  {
   "cell_type": "code",
   "execution_count": 8,
   "metadata": {},
   "outputs": [
    {
     "name": "stdout",
     "output_type": "stream",
     "text": [
      "+------------------+--------------+------------------+---------+------------+\n",
      "|col1              |col2          |col3              |col4     |col5        |\n",
      "+------------------+--------------+------------------+---------+------------+\n",
      "|Demo scheduled    |Completed demo|Training postponed|Cancelled|Demo planned|\n",
      "|Completed training|Completed demo|Demo postponed    |Free day |Cancelled   |\n",
      "+------------------+--------------+------------------+---------+------------+\n",
      "\n"
     ]
    }
   ],
   "source": [
    "# Register the DataFrame as a temporary SQL table\n",
    "df1.createOrReplaceTempView(\"events_table\")\n",
    "\n",
    "# Use Spark SQL to find rows where any column contains the value 'Cancelled'\n",
    "result_sql = spark.sql(\"\"\"\n",
    "SELECT *\n",
    "FROM events_table\n",
    "WHERE col1 = 'Cancelled'\n",
    "   OR col2 = 'Cancelled'\n",
    "   OR col3 = 'Cancelled'\n",
    "   OR col4 = 'Cancelled'\n",
    "   OR col5 = 'Cancelled'\n",
    "\"\"\")\n",
    "\n",
    "# Show the results\n",
    "result_sql.show(truncate=False)\n"
   ]
  },
  {
   "cell_type": "code",
   "execution_count": 10,
   "metadata": {},
   "outputs": [
    {
     "name": "stdout",
     "output_type": "stream",
     "text": [
      "+------------------+--------------+------------------+---------+------------+\n",
      "|col1              |col2          |col3              |col4     |col5        |\n",
      "+------------------+--------------+------------------+---------+------------+\n",
      "|Demo scheduled    |Completed demo|Training postponed|Cancelled|Demo planned|\n",
      "|Completed training|Completed demo|Demo postponed    |Free day |Cancelled   |\n",
      "+------------------+--------------+------------------+---------+------------+\n",
      "\n"
     ]
    }
   ],
   "source": [
    "from pyspark.sql.functions import col\n",
    "\n",
    "# Use PySpark DataFrame API to find rows where any column contains the value 'Cancelled'\n",
    "result_df = df1.filter(\n",
    "    (col(\"col1\") == \"Cancelled\") |\n",
    "    (col(\"col2\") == \"Cancelled\") |\n",
    "    (col(\"col3\") == \"Cancelled\") |\n",
    "    (col(\"col4\") == \"Cancelled\") |\n",
    "    (col(\"col5\") == \"Cancelled\")\n",
    ")\n",
    "\n",
    "# Show the results\n",
    "result_df.show(truncate=False)\n"
   ]
  },
  {
   "cell_type": "code",
   "execution_count": null,
   "metadata": {},
   "outputs": [],
   "source": []
  }
 ],
 "metadata": {
  "kernelspec": {
   "display_name": "Python 3",
   "language": "python",
   "name": "python3"
  },
  "language_info": {
   "codemirror_mode": {
    "name": "ipython",
    "version": 3
   },
   "file_extension": ".py",
   "mimetype": "text/x-python",
   "name": "python",
   "nbconvert_exporter": "python",
   "pygments_lexer": "ipython3",
   "version": "3.11.8"
  }
 },
 "nbformat": 4,
 "nbformat_minor": 2
}
