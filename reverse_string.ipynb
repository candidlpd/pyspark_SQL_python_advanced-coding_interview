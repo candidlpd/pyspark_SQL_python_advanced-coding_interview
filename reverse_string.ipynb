{
 "cells": [
  {
   "cell_type": "code",
   "execution_count": 1,
   "metadata": {},
   "outputs": [
    {
     "name": "stdout",
     "output_type": "stream",
     "text": [
      "H:\\python_advanced_interview\n"
     ]
    }
   ],
   "source": [
    "import os\n",
    "os.getcwd()\n",
    "os.chdir(\"H:\\python_advanced_interview\")\n",
    "print(os.getcwd())"
   ]
  },
  {
   "cell_type": "markdown",
   "metadata": {},
   "source": [
    "# reverse string"
   ]
  },
  {
   "cell_type": "code",
   "execution_count": 2,
   "metadata": {},
   "outputs": [
    {
     "name": "stdout",
     "output_type": "stream",
     "text": [
      "agrud\n"
     ]
    }
   ],
   "source": [
    "s = 'durga'\n",
    "# ouput = 'agrud'    \n",
    "def reverse_string(str1):\n",
    "    output = str1[::-1]\n",
    "    return output\n",
    "\n",
    "print(reverse_string(s))\n",
    "\n",
    "    \n",
    "    \n",
    "    "
   ]
  },
  {
   "cell_type": "code",
   "execution_count": 13,
   "metadata": {},
   "outputs": [
    {
     "name": "stdout",
     "output_type": "stream",
     "text": [
      "<class 'reversed'>\n",
      "agrud\n"
     ]
    }
   ],
   "source": [
    "\n",
    "s = 'durga'\n",
    "\n",
    "def reverse_string1(str1):\n",
    "    # Use reversed to create a reverse iterator\n",
    "    r = reversed(str1)\n",
    "    print(type(r))  # This will print <class 'reversed'>\n",
    "\n",
    "    # Join the reversed iterator to form the output string\n",
    "    output = ''.join(r)\n",
    "    return output\n",
    "\n",
    "# Testing the function\n",
    "print(reverse_string1(s))  # Output should be 'agrud'\n",
    "\n",
    "\n"
   ]
  },
  {
   "cell_type": "code",
   "execution_count": 14,
   "metadata": {},
   "outputs": [
    {
     "name": "stdout",
     "output_type": "stream",
     "text": [
      " agrud\n"
     ]
    }
   ],
   "source": [
    "str1 = 'durga'\n",
    "# ouput = 'agrud'    \n",
    "def reverse_string2(str1):\n",
    "    output = ' '\n",
    "    i = len(str1) - 1\n",
    "    while i >= 0:\n",
    "        output = output + str1[i]\n",
    "        i = i-1\n",
    "    return output\n",
    "  \n",
    "\n",
    "print(reverse_string2(str1))\n"
   ]
  },
  {
   "cell_type": "code",
   "execution_count": null,
   "metadata": {},
   "outputs": [],
   "source": []
  }
 ],
 "metadata": {
  "kernelspec": {
   "display_name": "Python 3",
   "language": "python",
   "name": "python3"
  },
  "language_info": {
   "codemirror_mode": {
    "name": "ipython",
    "version": 3
   },
   "file_extension": ".py",
   "mimetype": "text/x-python",
   "name": "python",
   "nbconvert_exporter": "python",
   "pygments_lexer": "ipython3",
   "version": "3.11.8"
  }
 },
 "nbformat": 4,
 "nbformat_minor": 2
}
