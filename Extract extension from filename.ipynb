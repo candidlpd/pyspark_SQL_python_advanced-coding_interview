{
 "cells": [
  {
   "cell_type": "code",
   "execution_count": 1,
   "metadata": {},
   "outputs": [
    {
     "name": "stdout",
     "output_type": "stream",
     "text": [
      "H:\\pyspark_advanced-coding_interview\n"
     ]
    }
   ],
   "source": [
    "import os\n",
    "os.getcwd()\n",
    "os.chdir(\"H:\\pyspark_advanced-coding_interview\")\n",
    "print(os.getcwd())\n",
    "\n",
    "\n",
    "from pyspark.sql import SparkSession\n",
    "\n",
    "# Create a Spark session with optimized settings\n",
    "spark = (\n",
    "    SparkSession.builder \n",
    "    .appName(\"OptimizedLocalSpark\") \n",
    "    .config(\"spark.driver.memory\", \"8g\")        \n",
    "    .config(\"spark.executor.memory\", \"8g\")    \n",
    "    .config(\"spark.executor.cores\", \"4\")       \n",
    "    .config(\"spark.cores.max\", \"12\")           \n",
    "    .config(\"spark.sql.shuffle.partitions\", \"28\")  \n",
    "    .config(\"spark.serializer\", \"org.apache.spark.serializer.KryoSerializer\") \n",
    "    .getOrCreate()\n",
    ")\n",
    "sc = spark.sparkContext"
   ]
  },
  {
   "cell_type": "code",
   "execution_count": 1,
   "metadata": {},
   "outputs": [
    {
     "name": "stdout",
     "output_type": "stream",
     "text": [
      "+----------+--------+----------+------------------+\n",
      "| orderDate|OrderKey|customerID|          filename|\n",
      "+----------+--------+----------+------------------+\n",
      "|2024-10-30|  ORD001|   CUST123|invoice_report.pdf|\n",
      "|2024-10-31|  ORD002|   CUST456| order_summary.csv|\n",
      "|2024-11-01|  ORD003|   CUST789|  client_data.xlsx|\n",
      "+----------+--------+----------+------------------+\n",
      "\n"
     ]
    },
    {
     "name": "stderr",
     "output_type": "stream",
     "text": [
      "----------------------------------------\n",
      "Exception occurred during processing of request from ('127.0.0.1', 52516)\n",
      "Traceback (most recent call last):\n",
      "  File \"c:\\Users\\lpdda\\AppData\\Local\\Programs\\Python\\Python311\\Lib\\socketserver.py\", line 317, in _handle_request_noblock\n",
      "    self.process_request(request, client_address)\n",
      "  File \"c:\\Users\\lpdda\\AppData\\Local\\Programs\\Python\\Python311\\Lib\\socketserver.py\", line 348, in process_request\n",
      "    self.finish_request(request, client_address)\n",
      "  File \"c:\\Users\\lpdda\\AppData\\Local\\Programs\\Python\\Python311\\Lib\\socketserver.py\", line 361, in finish_request\n",
      "    self.RequestHandlerClass(request, client_address, self)\n",
      "  File \"c:\\Users\\lpdda\\AppData\\Local\\Programs\\Python\\Python311\\Lib\\socketserver.py\", line 755, in __init__\n",
      "    self.handle()\n",
      "  File \"C:\\spark\\python\\pyspark\\accumulators.py\", line 281, in handle\n",
      "    poll(accum_updates)\n",
      "  File \"C:\\spark\\python\\pyspark\\accumulators.py\", line 253, in poll\n",
      "    if func():\n",
      "       ^^^^^^\n",
      "  File \"C:\\spark\\python\\pyspark\\accumulators.py\", line 257, in accum_updates\n",
      "    num_updates = read_int(self.rfile)\n",
      "                  ^^^^^^^^^^^^^^^^^^^^\n",
      "  File \"C:\\spark\\python\\pyspark\\serializers.py\", line 594, in read_int\n",
      "    length = stream.read(4)\n",
      "             ^^^^^^^^^^^^^^\n",
      "  File \"c:\\Users\\lpdda\\AppData\\Local\\Programs\\Python\\Python311\\Lib\\socket.py\", line 706, in readinto\n",
      "    return self._sock.recv_into(b)\n",
      "           ^^^^^^^^^^^^^^^^^^^^^^^\n",
      "ConnectionResetError: [WinError 10054] An existing connection was forcibly closed by the remote host\n",
      "----------------------------------------\n"
     ]
    }
   ],
   "source": [
    "from pyspark.sql import SparkSession\n",
    "from pyspark.sql.functions import col, reverse, substring_index, expr\n",
    "\n",
    "# Initialize SparkSession\n",
    "spark = SparkSession.builder.appName(\"SparkSQL Example\").getOrCreate()\n",
    "\n",
    "# Sample data\n",
    "data = [\n",
    "    (\"2024-10-30\", \"ORD001\", \"CUST123\", \"invoice_report.pdf\"),\n",
    "    (\"2024-10-31\", \"ORD002\", \"CUST456\", \"order_summary.csv\"),\n",
    "    (\"2024-11-01\", \"ORD003\", \"CUST789\", \"client_data.xlsx\")\n",
    "]\n",
    "\n",
    "# Creating the DataFrame\n",
    "columns = [\"orderDate\", \"OrderKey\", \"customerID\", \"filename\"]\n",
    "df = spark.createDataFrame(data, columns)\n",
    "\n",
    "# Show initial DataFrame\n",
    "df.show()\n"
   ]
  },
  {
   "cell_type": "markdown",
   "metadata": {},
   "source": [
    "# Extracting File Extension"
   ]
  },
  {
   "cell_type": "code",
   "execution_count": 2,
   "metadata": {},
   "outputs": [
    {
     "name": "stdout",
     "output_type": "stream",
     "text": [
      "+----------+--------+----------+------------------+---------+\n",
      "| orderDate|OrderKey|customerID|          filename|extension|\n",
      "+----------+--------+----------+------------------+---------+\n",
      "|2024-10-30|  ORD001|   CUST123|invoice_report.pdf|      pdf|\n",
      "|2024-10-31|  ORD002|   CUST456| order_summary.csv|      csv|\n",
      "|2024-11-01|  ORD003|   CUST789|  client_data.xlsx|     xlsx|\n",
      "+----------+--------+----------+------------------+---------+\n",
      "\n"
     ]
    }
   ],
   "source": [
    "from pyspark.sql.functions import split\n",
    "\n",
    "# Extracting file extension using split\n",
    "df_with_ext = df.withColumn(\"extension\", split(col(\"filename\"), \"\\\\.\").getItem(1))\n",
    "df_with_ext.show()\n"
   ]
  },
  {
   "cell_type": "code",
   "execution_count": 3,
   "metadata": {},
   "outputs": [
    {
     "name": "stdout",
     "output_type": "stream",
     "text": [
      "+----------+--------+----------+------------------+---------+\n",
      "| orderDate|OrderKey|customerID|          filename|extension|\n",
      "+----------+--------+----------+------------------+---------+\n",
      "|2024-10-30|  ORD001|   CUST123|invoice_report.pdf|      pdf|\n",
      "|2024-10-31|  ORD002|   CUST456| order_summary.csv|      csv|\n",
      "|2024-11-01|  ORD003|   CUST789|  client_data.xlsx|     xlsx|\n",
      "+----------+--------+----------+------------------+---------+\n",
      "\n"
     ]
    }
   ],
   "source": [
    "# Create a temporary table\n",
    "df.createOrReplaceTempView(\"orders\")\n",
    "\n",
    "# Extracting file extension using Spark SQL\n",
    "df_with_ext_sql = spark.sql(\"\"\"\n",
    "SELECT *, \n",
    "       SUBSTRING_INDEX(filename, '.', -1) AS extension\n",
    "FROM orders\n",
    "\"\"\")\n",
    "df_with_ext_sql.show()\n"
   ]
  },
  {
   "cell_type": "markdown",
   "metadata": {},
   "source": [
    "# Extracting Last Occurrence of Substring"
   ]
  },
  {
   "cell_type": "code",
   "execution_count": 4,
   "metadata": {},
   "outputs": [
    {
     "name": "stdout",
     "output_type": "stream",
     "text": [
      "+----------+--------+----------+------------------+---------------+\n",
      "| orderDate|OrderKey|customerID|          filename|last_occurrence|\n",
      "+----------+--------+----------+------------------+---------------+\n",
      "|2024-10-30|  ORD001|   CUST123|invoice_report.pdf|     report.pdf|\n",
      "|2024-10-31|  ORD002|   CUST456| order_summary.csv|    summary.csv|\n",
      "|2024-11-01|  ORD003|   CUST789|  client_data.xlsx|      data.xlsx|\n",
      "+----------+--------+----------+------------------+---------------+\n",
      "\n"
     ]
    }
   ],
   "source": [
    "# Extracting the last occurrence of substring (e.g., last underscore)\n",
    "df_with_last_occurrence = df.withColumn(\"last_occurrence\", expr(\"substring_index(filename, '_', -1)\"))\n",
    "df_with_last_occurrence.show()\n"
   ]
  },
  {
   "cell_type": "code",
   "execution_count": 5,
   "metadata": {},
   "outputs": [
    {
     "name": "stdout",
     "output_type": "stream",
     "text": [
      "+----------+--------+----------+------------------+---------------+\n",
      "| orderDate|OrderKey|customerID|          filename|last_occurrence|\n",
      "+----------+--------+----------+------------------+---------------+\n",
      "|2024-10-30|  ORD001|   CUST123|invoice_report.pdf|     report.pdf|\n",
      "|2024-10-31|  ORD002|   CUST456| order_summary.csv|    summary.csv|\n",
      "|2024-11-01|  ORD003|   CUST789|  client_data.xlsx|      data.xlsx|\n",
      "+----------+--------+----------+------------------+---------------+\n",
      "\n"
     ]
    }
   ],
   "source": [
    "# Using Spark SQL to extract the last occurrence of substring\n",
    "df_with_last_occurrence_sql = spark.sql(\"\"\"\n",
    "SELECT *,\n",
    "       SUBSTRING_INDEX(filename, '_', -1) AS last_occurrence\n",
    "FROM orders\n",
    "\"\"\")\n",
    "df_with_last_occurrence_sql.show()\n"
   ]
  },
  {
   "cell_type": "markdown",
   "metadata": {},
   "source": [
    "# # Reversing the filename column using reverse\n",
    "\n"
   ]
  },
  {
   "cell_type": "code",
   "execution_count": 6,
   "metadata": {},
   "outputs": [
    {
     "name": "stdout",
     "output_type": "stream",
     "text": [
      "+----------+--------+----------+------------------+------------------+\n",
      "| orderDate|OrderKey|customerID|          filename| reversed_filename|\n",
      "+----------+--------+----------+------------------+------------------+\n",
      "|2024-10-30|  ORD001|   CUST123|invoice_report.pdf|fdp.troper_eciovni|\n",
      "|2024-10-31|  ORD002|   CUST456| order_summary.csv| vsc.yrammus_redro|\n",
      "|2024-11-01|  ORD003|   CUST789|  client_data.xlsx|  xslx.atad_tneilc|\n",
      "+----------+--------+----------+------------------+------------------+\n",
      "\n"
     ]
    }
   ],
   "source": [
    "# Reversing the filename column using reverse\n",
    "df_with_reversed = df.withColumn(\"reversed_filename\", reverse(col(\"filename\")))\n",
    "df_with_reversed.show()\n"
   ]
  },
  {
   "cell_type": "code",
   "execution_count": 7,
   "metadata": {},
   "outputs": [
    {
     "name": "stdout",
     "output_type": "stream",
     "text": [
      "+----------+--------+----------+------------------+------------------+\n",
      "| orderDate|OrderKey|customerID|          filename| reversed_filename|\n",
      "+----------+--------+----------+------------------+------------------+\n",
      "|2024-10-30|  ORD001|   CUST123|invoice_report.pdf|fdp.troper_eciovni|\n",
      "|2024-10-31|  ORD002|   CUST456| order_summary.csv| vsc.yrammus_redro|\n",
      "|2024-11-01|  ORD003|   CUST789|  client_data.xlsx|  xslx.atad_tneilc|\n",
      "+----------+--------+----------+------------------+------------------+\n",
      "\n"
     ]
    }
   ],
   "source": [
    "# Using Spark SQL to reverse the string\n",
    "df_with_reversed_sql = spark.sql(\"\"\"\n",
    "SELECT *,\n",
    "       REVERSE(filename) AS reversed_filename\n",
    "FROM orders\n",
    "\"\"\")\n",
    "df_with_reversed_sql.show()\n"
   ]
  },
  {
   "cell_type": "code",
   "execution_count": null,
   "metadata": {},
   "outputs": [],
   "source": []
  }
 ],
 "metadata": {
  "kernelspec": {
   "display_name": "Python 3",
   "language": "python",
   "name": "python3"
  },
  "language_info": {
   "codemirror_mode": {
    "name": "ipython",
    "version": 3
   },
   "file_extension": ".py",
   "mimetype": "text/x-python",
   "name": "python",
   "nbconvert_exporter": "python",
   "pygments_lexer": "ipython3",
   "version": "3.11.8"
  }
 },
 "nbformat": 4,
 "nbformat_minor": 2
}
