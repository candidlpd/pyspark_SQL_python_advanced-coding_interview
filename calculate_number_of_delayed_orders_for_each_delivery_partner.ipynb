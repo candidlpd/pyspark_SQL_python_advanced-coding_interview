{
 "cells": [
  {
   "cell_type": "code",
   "execution_count": 1,
   "metadata": {},
   "outputs": [
    {
     "name": "stdout",
     "output_type": "stream",
     "text": [
      "h:\\pyspark_SQL_python_advanced-coding_interview\n"
     ]
    }
   ],
   "source": [
    "import os \n",
    "print(os.getcwd())\n",
    "\n"
   ]
  },
  {
   "cell_type": "markdown",
   "metadata": {},
   "source": [
    "##  calculates the number of delayed orders for each delivery partner. An order is considered delayed if the actual delivery time exceeds the predicted delivery time. "
   ]
  },
  {
   "cell_type": "markdown",
   "metadata": {},
   "source": [
    "# Pyspark"
   ]
  },
  {
   "cell_type": "code",
   "execution_count": 7,
   "metadata": {},
   "outputs": [
    {
     "name": "stdout",
     "output_type": "stream",
     "text": [
      "+-------+------+---------+-----------+-------------------+-------------------+--------------+\n",
      "|orderid|custid|     city|del_partner|         order_time|       deliver_time|predicted_time|\n",
      "+-------+------+---------+-----------+-------------------+-------------------+--------------+\n",
      "|      1|   101|   Mumbai|  Partner A|2024-12-18 10:00:00|2024-12-18 11:30:00|            60|\n",
      "|      2|   102|    Delhi|  Partner A|2024-12-18 09:00:00|2024-12-18 10:00:00|            45|\n",
      "|      3|   103|     Pune|  Partner A|2024-12-18 15:00:00|2024-12-18 15:30:00|            30|\n",
      "|      4|   104|   Mumbai|  Partner A|2024-12-18 14:00:00|2024-12-18 14:50:00|            45|\n",
      "|      5|   105|Bangalore|  Partner B|2024-12-18 08:00:00|2024-12-18 08:29:00|            30|\n",
      "|      6|   106|Hyderabad|  Partner B|2024-12-13 10:00:00|2024-12-18 10:40:00|            70|\n",
      "|      7|   107|  Kolkata|  Partner B|2024-12-18 10:00:00|2024-12-18 10:40:00|            45|\n",
      "|      8|   109|  Chennai|  Partner C|2024-12-18 07:00:00|2024-12-18 07:40:00|            30|\n",
      "|      9|   110|    Delhi|  Partner C|2024-12-18 12:00:00|2024-12-18 13:00:00|            50|\n",
      "|     10|   111|Hyderabad|  Partner C|2024-12-18 16:00:00|2024-12-18 16:45:00|            30|\n",
      "+-------+------+---------+-----------+-------------------+-------------------+--------------+\n",
      "\n"
     ]
    }
   ],
   "source": [
    "from pyspark.sql import SparkSession\n",
    "from pyspark.sql.types import StructType, StructField, IntegerType, StringType, TimestampType\n",
    "from datetime import datetime\n",
    "from pyspark.sql.functions import *\n",
    "\n",
    "\n",
    "# Initialize Spark Session\n",
    "spark = SparkSession.builder.appName(\"SwiggyOrders\").getOrCreate()\n",
    "\n",
    "# Define the schema\n",
    "schema = StructType([\n",
    "    StructField(\"orderid\", IntegerType(), True),\n",
    "    StructField(\"custid\", IntegerType(), True),\n",
    "    StructField(\"city\", StringType(), True),\n",
    "    StructField(\"del_partner\", StringType(), True),\n",
    "    StructField(\"order_time\", TimestampType(), True),\n",
    "    StructField(\"deliver_time\", TimestampType(), True),\n",
    "    StructField(\"predicted_time\", IntegerType(), True)\n",
    "])\n",
    "\n",
    "# Define the data with datetime objects\n",
    "data = [\n",
    "    (1, 101, \"Mumbai\", \"Partner A\", datetime(2024, 12, 18, 10, 0, 0), datetime(2024, 12, 18, 11, 30, 0), 60),\n",
    "    (2, 102, \"Delhi\", \"Partner A\", datetime(2024, 12, 18, 9, 0, 0), datetime(2024, 12, 18, 10, 0, 0), 45),\n",
    "    (3, 103, \"Pune\", \"Partner A\", datetime(2024, 12, 18, 15, 0, 0), datetime(2024, 12, 18, 15, 30, 0), 30),\n",
    "    (4, 104, \"Mumbai\", \"Partner A\", datetime(2024, 12, 18, 14, 0, 0), datetime(2024, 12, 18, 14, 50, 0), 45),\n",
    "    (5, 105, \"Bangalore\", \"Partner B\", datetime(2024, 12, 18, 8, 0, 0), datetime(2024, 12, 18, 8, 29, 0), 30),\n",
    "    (6, 106, \"Hyderabad\", \"Partner B\", datetime(2024, 12, 13, 10, 0, 0), datetime(2024, 12, 18, 10, 40, 0), 70),\n",
    "    (7, 107, \"Kolkata\", \"Partner B\", datetime(2024, 12, 18, 10, 0, 0), datetime(2024, 12, 18, 10, 40, 0), 45),\n",
    "    (8, 109, \"Chennai\", \"Partner C\", datetime(2024, 12, 18, 7, 0, 0), datetime(2024, 12, 18, 7, 40, 0), 30),\n",
    "    (9, 110, \"Delhi\", \"Partner C\", datetime(2024, 12, 18, 12, 0, 0), datetime(2024, 12, 18, 13, 0, 0), 50),\n",
    "    (10, 111, \"Hyderabad\", \"Partner C\", datetime(2024, 12, 18, 16, 0, 0), datetime(2024, 12, 18, 16, 45, 0), 30)\n",
    "]\n",
    "\n",
    "# Create DataFrame\n",
    "df = spark.createDataFrame(data, schema)\n",
    "\n",
    "# Show the DataFrame\n",
    "df.show()\n"
   ]
  },
  {
   "cell_type": "code",
   "execution_count": 12,
   "metadata": {},
   "outputs": [
    {
     "name": "stdout",
     "output_type": "stream",
     "text": [
      "+-------+------+---------+-----------+-------------------+-------------------+--------------+----------------------------+\n",
      "|orderid|custid|     city|del_partner|         order_time|       deliver_time|predicted_time|actual_delivery_time_minutes|\n",
      "+-------+------+---------+-----------+-------------------+-------------------+--------------+----------------------------+\n",
      "|      1|   101|   Mumbai|  Partner A|2024-12-18 10:00:00|2024-12-18 11:30:00|            60|                        90.0|\n",
      "|      2|   102|    Delhi|  Partner A|2024-12-18 09:00:00|2024-12-18 10:00:00|            45|                        60.0|\n",
      "|      3|   103|     Pune|  Partner A|2024-12-18 15:00:00|2024-12-18 15:30:00|            30|                        30.0|\n",
      "|      4|   104|   Mumbai|  Partner A|2024-12-18 14:00:00|2024-12-18 14:50:00|            45|                        50.0|\n",
      "|      5|   105|Bangalore|  Partner B|2024-12-18 08:00:00|2024-12-18 08:29:00|            30|                        29.0|\n",
      "|      6|   106|Hyderabad|  Partner B|2024-12-13 10:00:00|2024-12-18 10:40:00|            70|                      7240.0|\n",
      "|      7|   107|  Kolkata|  Partner B|2024-12-18 10:00:00|2024-12-18 10:40:00|            45|                        40.0|\n",
      "|      8|   109|  Chennai|  Partner C|2024-12-18 07:00:00|2024-12-18 07:40:00|            30|                        40.0|\n",
      "|      9|   110|    Delhi|  Partner C|2024-12-18 12:00:00|2024-12-18 13:00:00|            50|                        60.0|\n",
      "|     10|   111|Hyderabad|  Partner C|2024-12-18 16:00:00|2024-12-18 16:45:00|            30|                        45.0|\n",
      "+-------+------+---------+-----------+-------------------+-------------------+--------------+----------------------------+\n",
      "\n"
     ]
    }
   ],
   "source": [
    "# Calculate actual delivery time in minutes\n",
    "from pyspark.sql.functions import unix_timestamp, col\n",
    "\n",
    "# Calculate the actual delivery time in minutes\n",
    "df = df.withColumn(\n",
    "    \"actual_delivery_time_minutes\",\n",
    "    (unix_timestamp(col(\"deliver_time\")) - unix_timestamp(col(\"order_time\"))) / 60\n",
    ")\n",
    "\n",
    "df.show()\n"
   ]
  },
  {
   "cell_type": "code",
   "execution_count": 13,
   "metadata": {},
   "outputs": [
    {
     "name": "stdout",
     "output_type": "stream",
     "text": [
      "+-------+------+---------+-----------+-------------------+-------------------+--------------+----------------------------+----------+\n",
      "|orderid|custid|     city|del_partner|         order_time|       deliver_time|predicted_time|actual_delivery_time_minutes|is_delayed|\n",
      "+-------+------+---------+-----------+-------------------+-------------------+--------------+----------------------------+----------+\n",
      "|      1|   101|   Mumbai|  Partner A|2024-12-18 10:00:00|2024-12-18 11:30:00|            60|                        90.0|         1|\n",
      "|      2|   102|    Delhi|  Partner A|2024-12-18 09:00:00|2024-12-18 10:00:00|            45|                        60.0|         1|\n",
      "|      3|   103|     Pune|  Partner A|2024-12-18 15:00:00|2024-12-18 15:30:00|            30|                        30.0|         0|\n",
      "|      4|   104|   Mumbai|  Partner A|2024-12-18 14:00:00|2024-12-18 14:50:00|            45|                        50.0|         1|\n",
      "|      5|   105|Bangalore|  Partner B|2024-12-18 08:00:00|2024-12-18 08:29:00|            30|                        29.0|         0|\n",
      "|      6|   106|Hyderabad|  Partner B|2024-12-13 10:00:00|2024-12-18 10:40:00|            70|                      7240.0|         1|\n",
      "|      7|   107|  Kolkata|  Partner B|2024-12-18 10:00:00|2024-12-18 10:40:00|            45|                        40.0|         0|\n",
      "|      8|   109|  Chennai|  Partner C|2024-12-18 07:00:00|2024-12-18 07:40:00|            30|                        40.0|         1|\n",
      "|      9|   110|    Delhi|  Partner C|2024-12-18 12:00:00|2024-12-18 13:00:00|            50|                        60.0|         1|\n",
      "|     10|   111|Hyderabad|  Partner C|2024-12-18 16:00:00|2024-12-18 16:45:00|            30|                        45.0|         1|\n",
      "+-------+------+---------+-----------+-------------------+-------------------+--------------+----------------------------+----------+\n",
      "\n"
     ]
    }
   ],
   "source": [
    "# Determine if order is delayed\n",
    "df = df.withColumn(\"is_delayed\", when(col(\"actual_delivery_time_minutes\") > col(\"predicted_time\"), 1).otherwise(0))\n",
    "df.show()"
   ]
  },
  {
   "cell_type": "code",
   "execution_count": 14,
   "metadata": {},
   "outputs": [
    {
     "name": "stdout",
     "output_type": "stream",
     "text": [
      "+-----------+--------------------+\n",
      "|del_partner|delayed_orders_count|\n",
      "+-----------+--------------------+\n",
      "|  Partner A|                   3|\n",
      "|  Partner B|                   1|\n",
      "|  Partner C|                   3|\n",
      "+-----------+--------------------+\n",
      "\n"
     ]
    }
   ],
   "source": [
    "# Calculate delayed orders per partner\n",
    "delayed_orders_per_partner = df.groupBy(\"del_partner\").agg(sum(\"is_delayed\").alias(\"delayed_orders_count\"))\n",
    "\n",
    "delayed_orders_per_partner.show()"
   ]
  },
  {
   "cell_type": "markdown",
   "metadata": {},
   "source": [
    "# Spark SQL "
   ]
  },
  {
   "cell_type": "code",
   "execution_count": 18,
   "metadata": {},
   "outputs": [
    {
     "name": "stdout",
     "output_type": "stream",
     "text": [
      "+-------+------+---------+-----------+-------------------+-------------------+--------------+\n",
      "|orderid|custid|     city|del_partner|         order_time|       deliver_time|predicted_time|\n",
      "+-------+------+---------+-----------+-------------------+-------------------+--------------+\n",
      "|      1|   101|   Mumbai|  Partner A|2024-12-18 10:00:00|2024-12-18 11:30:00|            60|\n",
      "|      2|   102|     Pune|  Partner A|2024-12-18 09:00:00|2024-12-18 10:00:00|            45|\n",
      "|      3|   103|    Delhi|  Partner A|2024-12-18 15:00:00|2024-12-18 15:30:00|            30|\n",
      "|      4|   104|   Mumbai|  Partner A|2024-12-18 14:00:00|2024-12-18 14:50:00|            45|\n",
      "|      5|   105|Bangalore|  Partner B|2024-12-18 08:00:00|2024-12-18 08:29:00|            30|\n",
      "|      6|   106|Hyderabad|  Partner B|2024-12-18 13:00:00|2024-12-18 14:00:00|            70|\n",
      "|      7|   107|  Kolkata|  Partner B|2024-12-18 10:00:00|2024-12-18 10:40:00|            45|\n",
      "|      8|   108|    Delhi|  Partner B|2024-12-18 18:00:00|2024-12-18 18:30:00|            40|\n",
      "|      9|   109|  Chennai|  Partner C|2024-12-18 07:00:00|2024-12-18 07:40:00|            30|\n",
      "|     10|   110|   Mumbai|  Partner C|2024-12-18 12:00:00|2024-12-18 13:00:00|            50|\n",
      "|     11|   111|    Delhi|  Partner C|2024-12-18 09:00:00|2024-12-18 09:35:00|            30|\n",
      "|     12|   112|Hyderabad|  Partner C|2024-12-18 16:00:00|2024-12-18 16:45:00|            30|\n",
      "+-------+------+---------+-----------+-------------------+-------------------+--------------+\n",
      "\n"
     ]
    }
   ],
   "source": [
    "# Create or replace the temporary view\n",
    "spark.sql(\"\"\"\n",
    "CREATE OR REPLACE TEMP VIEW swiggy_orders AS\n",
    "SELECT 1 AS orderid, 101 AS custid, 'Mumbai' AS city, 'Partner A' AS del_partner, CAST('2024-12-18 10:00:00' AS TIMESTAMP) AS order_time, CAST('2024-12-18 11:30:00' AS TIMESTAMP) AS deliver_time, 60 AS predicted_time UNION ALL\n",
    "SELECT 2, 102, 'Pune', 'Partner A', CAST('2024-12-18 09:00:00' AS TIMESTAMP), CAST('2024-12-18 10:00:00' AS TIMESTAMP), 45 UNION ALL\n",
    "SELECT 3, 103, 'Delhi', 'Partner A', CAST('2024-12-18 15:00:00' AS TIMESTAMP), CAST('2024-12-18 15:30:00' AS TIMESTAMP), 30 UNION ALL\n",
    "SELECT 4, 104, 'Mumbai', 'Partner A', CAST('2024-12-18 14:00:00' AS TIMESTAMP), CAST('2024-12-18 14:50:00' AS TIMESTAMP), 45 UNION ALL\n",
    "SELECT 5, 105, 'Bangalore', 'Partner B', CAST('2024-12-18 08:00:00' AS TIMESTAMP), CAST('2024-12-18 08:29:00' AS TIMESTAMP), 30 UNION ALL\n",
    "SELECT 6, 106, 'Hyderabad', 'Partner B', CAST('2024-12-18 13:00:00' AS TIMESTAMP), CAST('2024-12-18 14:00:00' AS TIMESTAMP), 70 UNION ALL\n",
    "SELECT 7, 107, 'Kolkata', 'Partner B', CAST('2024-12-18 10:00:00' AS TIMESTAMP), CAST('2024-12-18 10:40:00' AS TIMESTAMP), 45 UNION ALL\n",
    "SELECT 8, 108, 'Delhi', 'Partner B', CAST('2024-12-18 18:00:00' AS TIMESTAMP), CAST('2024-12-18 18:30:00' AS TIMESTAMP), 40 UNION ALL\n",
    "SELECT 9, 109, 'Chennai', 'Partner C', CAST('2024-12-18 07:00:00' AS TIMESTAMP), CAST('2024-12-18 07:40:00' AS TIMESTAMP), 30 UNION ALL\n",
    "SELECT 10, 110, 'Mumbai', 'Partner C', CAST('2024-12-18 12:00:00' AS TIMESTAMP), CAST('2024-12-18 13:00:00' AS TIMESTAMP), 50 UNION ALL\n",
    "SELECT 11, 111, 'Delhi', 'Partner C', CAST('2024-12-18 09:00:00' AS TIMESTAMP), CAST('2024-12-18 09:35:00' AS TIMESTAMP), 30 UNION ALL\n",
    "SELECT 12, 112, 'Hyderabad', 'Partner C', CAST('2024-12-18 16:00:00' AS TIMESTAMP), CAST('2024-12-18 16:45:00' AS TIMESTAMP), 30\n",
    "\"\"\")\n",
    "\n",
    "# Verify the temporary view creation\n",
    "query = spark.sql(\"SELECT * FROM swiggy_orders\")\n",
    "query.show()\n"
   ]
  },
  {
   "cell_type": "code",
   "execution_count": 20,
   "metadata": {},
   "outputs": [
    {
     "name": "stdout",
     "output_type": "stream",
     "text": [
      "+-----------+--------------------+\n",
      "|del_partner|delayed_orders_count|\n",
      "+-----------+--------------------+\n",
      "|  Partner A|                   3|\n",
      "|  Partner B|                   0|\n",
      "|  Partner C|                   4|\n",
      "+-----------+--------------------+\n",
      "\n"
     ]
    }
   ],
   "source": [
    "res = spark.sql(\"\"\"\n",
    "-- Calculate actual delivery time in minutes\n",
    "WITH CalculatedDeliveryTime AS (\n",
    "    SELECT *, \n",
    "           (CAST(unix_timestamp(deliver_time) AS BIGINT) - CAST(unix_timestamp(order_time) AS BIGINT)) / 60 AS actual_delivery_time_minutes\n",
    "    FROM swiggy_orders\n",
    "),\n",
    "\n",
    "-- Determine if the order is delayed\n",
    "DelayedOrders AS (\n",
    "    SELECT *,\n",
    "           CASE WHEN (CAST(unix_timestamp(deliver_time) AS BIGINT) - CAST(unix_timestamp(order_time) AS BIGINT)) / 60 > predicted_time THEN 1 ELSE 0 END AS is_delayed\n",
    "    FROM swiggy_orders\n",
    ")\n",
    "\n",
    "-- Calculate delayed orders per partner\n",
    "SELECT del_partner, SUM(is_delayed) AS delayed_orders_count\n",
    "FROM DelayedOrders\n",
    "GROUP BY del_partner\n",
    "\"\"\")\n",
    "\n",
    "res.show()\n"
   ]
  },
  {
   "cell_type": "code",
   "execution_count": null,
   "metadata": {},
   "outputs": [],
   "source": []
  }
 ],
 "metadata": {
  "kernelspec": {
   "display_name": "Python 3",
   "language": "python",
   "name": "python3"
  },
  "language_info": {
   "codemirror_mode": {
    "name": "ipython",
    "version": 3
   },
   "file_extension": ".py",
   "mimetype": "text/x-python",
   "name": "python",
   "nbconvert_exporter": "python",
   "pygments_lexer": "ipython3",
   "version": "3.11.8"
  }
 },
 "nbformat": 4,
 "nbformat_minor": 2
}
