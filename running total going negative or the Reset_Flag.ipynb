{
 "cells": [
  {
   "cell_type": "code",
   "execution_count": 1,
   "metadata": {},
   "outputs": [
    {
     "data": {
      "text/plain": [
       "'H:\\\\pyspark_advanced-coding_interview'"
      ]
     },
     "execution_count": 1,
     "metadata": {},
     "output_type": "execute_result"
    }
   ],
   "source": [
    "import os\n",
    "os.getcwd()\n",
    "os.chdir(\"H:\\pyspark_advanced-coding_interview\")\n",
    "os.getcwd()"
   ]
  },
  {
   "cell_type": "code",
   "execution_count": 2,
   "metadata": {},
   "outputs": [],
   "source": [
    "from pyspark.sql import SparkSession\n",
    "\n",
    "# Create a Spark session with optimized settings\n",
    "spark = (SparkSession.builder .appName(\"OptimizedLocalSpark\") .getOrCreate())\n",
    "sc = spark.sparkContext"
   ]
  },
  {
   "cell_type": "markdown",
   "metadata": {},
   "source": [
    "#### running total going negative or the Reset_Flag column value"
   ]
  },
  {
   "cell_type": "code",
   "execution_count": 3,
   "metadata": {},
   "outputs": [
    {
     "name": "stdout",
     "output_type": "stream",
     "text": [
      "+---------------+---------+----+----------+---+------------+--------------------+\n",
      "|TransactionDate|ProductID| Qty|Reset_Flag|Grp|RunningTotal|AdjustedRunningTotal|\n",
      "+---------------+---------+----+----------+---+------------+--------------------+\n",
      "|     2022-09-01|        1| 100|         0|  0|         100|                 100|\n",
      "|     2022-09-02|        1| 200|         0|  0|         300|                 300|\n",
      "|     2022-09-03|        1|-500|         0|  0|        -200|                   0|\n",
      "|     2022-09-04|        1| 150|         0|  0|         -50|                   0|\n",
      "|     2022-09-05|        1| 400|         1|  1|         400|                   0|\n",
      "|     2022-09-06|        1| 250|         0|  1|         650|                 650|\n",
      "|     2022-09-07|        1|-850|         0|  1|        -200|                   0|\n",
      "+---------------+---------+----+----------+---+------------+--------------------+\n",
      "\n"
     ]
    }
   ],
   "source": [
    "from pyspark.sql import SparkSession\n",
    "from pyspark.sql.functions import col, when, sum as Fsum\n",
    "from pyspark.sql.window import Window\n",
    "\n",
    "# Initialize Spark session\n",
    "spark = SparkSession.builder.appName(\"ResetRunningTotal\").getOrCreate()\n",
    "\n",
    "# Sample data\n",
    "data = [\n",
    "    (\"2022-09-01\", 1, 100, 0, 0),\n",
    "    (\"2022-09-02\", 1, 200, 0, 0),\n",
    "    (\"2022-09-03\", 1, -500, 0, 0),\n",
    "    (\"2022-09-04\", 1, 150, 0, 0),\n",
    "    (\"2022-09-05\", 1, 400, 1, 1),\n",
    "    (\"2022-09-06\", 1, 250, 0, 1),\n",
    "    (\"2022-09-07\", 1, -850, 0, 1)\n",
    "]\n",
    "\n",
    "columns = [\"TransactionDate\", \"ProductID\", \"Qty\", \"Reset_Flag\", \"Grp\"]\n",
    "df = spark.createDataFrame(data, columns)\n",
    "\n",
    "# Define the window\n",
    "windowSpec = Window.partitionBy(\"ProductID\", \"Grp\").orderBy(\"TransactionDate\")\n",
    "\n",
    "# Calculate running total\n",
    "df = df.withColumn(\n",
    "    \"RunningTotal\",\n",
    "    Fsum(\"Qty\").over(windowSpec)\n",
    ")\n",
    "\n",
    "# Apply reset condition based on negative running total or Reset_Flag\n",
    "df = df.withColumn(\n",
    "    \"AdjustedRunningTotal\",\n",
    "    when((col(\"RunningTotal\") < 0) | (col(\"Reset_Flag\") == 1), 0).otherwise(col(\"RunningTotal\"))\n",
    ")\n",
    "\n",
    "df.show()\n"
   ]
  },
  {
   "cell_type": "code",
   "execution_count": 4,
   "metadata": {},
   "outputs": [
    {
     "name": "stdout",
     "output_type": "stream",
     "text": [
      "+---------------+---------+----+----------+---+--------------------+\n",
      "|TransactionDate|ProductID| Qty|Reset_Flag|Grp|AdjustedRunningTotal|\n",
      "+---------------+---------+----+----------+---+--------------------+\n",
      "|     2022-09-01|        1| 100|         0|  0|                 100|\n",
      "|     2022-09-02|        1| 200|         0|  0|                 300|\n",
      "|     2022-09-03|        1|-500|         0|  0|                -200|\n",
      "|     2022-09-04|        1| 150|         0|  0|                 150|\n",
      "|     2022-09-05|        1| 400|         1|  1|                 400|\n",
      "|     2022-09-06|        1| 250|         0|  1|                 650|\n",
      "|     2022-09-07|        1|-850|         0|  1|                -200|\n",
      "+---------------+---------+----+----------+---+--------------------+\n",
      "\n"
     ]
    }
   ],
   "source": [
    "# Collect data to Python for iterative calculation\n",
    "data = df.collect()\n",
    "\n",
    "# Initialize the adjusted running total and result list\n",
    "adjusted_total = 0\n",
    "result = []\n",
    "\n",
    "for row in data:\n",
    "    # If Reset_Flag is set or adjusted_total is negative, reset\n",
    "    if row[\"Reset_Flag\"] == 1 or adjusted_total < 0:\n",
    "        adjusted_total = 0\n",
    "    \n",
    "    # Calculate the new running total\n",
    "    adjusted_total += row[\"Qty\"]\n",
    "    \n",
    "    # Append results\n",
    "    result.append((row[\"TransactionDate\"], row[\"ProductID\"], row[\"Qty\"], row[\"Reset_Flag\"], row[\"Grp\"], adjusted_total))\n",
    "\n",
    "# Create a DataFrame with the results\n",
    "result_df = spark.createDataFrame(result, columns + [\"AdjustedRunningTotal\"])\n",
    "\n",
    "result_df.show()\n"
   ]
  },
  {
   "cell_type": "code",
   "execution_count": 5,
   "metadata": {},
   "outputs": [
    {
     "name": "stdout",
     "output_type": "stream",
     "text": [
      "+---------------+---------+----+----------+---+------------+--------------------+\n",
      "|TransactionDate|ProductID| Qty|Reset_Flag|Grp|RunningTotal|AdjustedRunningTotal|\n",
      "+---------------+---------+----+----------+---+------------+--------------------+\n",
      "|     2022-09-01|        1| 100|         0|  0|         100|                 100|\n",
      "|     2022-09-02|        1| 200|         0|  0|         300|                 300|\n",
      "|     2022-09-03|        1|-500|         0|  0|        -200|                   0|\n",
      "|     2022-09-04|        1| 150|         0|  0|         -50|                   0|\n",
      "|     2022-09-05|        1| 400|         1|  1|         400|                   0|\n",
      "|     2022-09-06|        1| 250|         0|  1|         650|                 650|\n",
      "|     2022-09-07|        1|-850|         0|  1|        -200|                   0|\n",
      "+---------------+---------+----+----------+---+------------+--------------------+\n",
      "\n"
     ]
    }
   ],
   "source": [
    "# Register DataFrame as a SQL temporary view\n",
    "df.createOrReplaceTempView(\"transactions\")\n",
    "\n",
    "# SQL query to calculate running total with reset condition\n",
    "result_sql = spark.sql(\"\"\"\n",
    "    SELECT \n",
    "        TransactionDate, \n",
    "        ProductID, \n",
    "        Qty, \n",
    "        Reset_Flag, \n",
    "        Grp,\n",
    "        SUM(Qty) OVER (PARTITION BY ProductID, Grp ORDER BY TransactionDate) AS RunningTotal,\n",
    "        CASE \n",
    "            WHEN SUM(Qty) OVER (PARTITION BY ProductID, Grp ORDER BY TransactionDate) < 0 OR Reset_Flag = 1 THEN 0 \n",
    "            ELSE SUM(Qty) OVER (PARTITION BY ProductID, Grp ORDER BY TransactionDate) \n",
    "        END AS AdjustedRunningTotal\n",
    "    FROM transactions\n",
    "    ORDER BY TransactionDate\n",
    "\"\"\")\n",
    "\n",
    "result_sql.show()\n"
   ]
  },
  {
   "cell_type": "code",
   "execution_count": null,
   "metadata": {},
   "outputs": [],
   "source": []
  }
 ],
 "metadata": {
  "kernelspec": {
   "display_name": "Python 3",
   "language": "python",
   "name": "python3"
  },
  "language_info": {
   "codemirror_mode": {
    "name": "ipython",
    "version": 3
   },
   "file_extension": ".py",
   "mimetype": "text/x-python",
   "name": "python",
   "nbconvert_exporter": "python",
   "pygments_lexer": "ipython3",
   "version": "3.11.8"
  }
 },
 "nbformat": 4,
 "nbformat_minor": 2
}
