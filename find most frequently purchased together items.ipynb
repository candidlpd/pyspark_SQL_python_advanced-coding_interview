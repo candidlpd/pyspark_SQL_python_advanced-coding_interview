{
 "cells": [
  {
   "cell_type": "code",
   "execution_count": 1,
   "metadata": {},
   "outputs": [
    {
     "name": "stdout",
     "output_type": "stream",
     "text": [
      "H:\\pyspark_advanced-coding_interview\n"
     ]
    }
   ],
   "source": [
    "import os\n",
    "os.getcwd()\n",
    "os.chdir(\"H:\\pyspark_advanced-coding_interview\")\n",
    "print(os.getcwd())\n",
    "\n",
    "\n",
    "from pyspark.sql import SparkSession\n",
    "\n",
    "# Create a Spark session with optimized settings\n",
    "spark = (\n",
    "    SparkSession.builder \n",
    "    .appName(\"OptimizedLocalSpark\") \n",
    "    .config(\"spark.driver.memory\", \"8g\")        \n",
    "    .config(\"spark.executor.memory\", \"8g\")    \n",
    "    .config(\"spark.executor.cores\", \"4\")       \n",
    "    .config(\"spark.cores.max\", \"12\")           \n",
    "    .config(\"spark.sql.shuffle.partitions\", \"28\")  \n",
    "    .config(\"spark.serializer\", \"org.apache.spark.serializer.KryoSerializer\") \n",
    "    .getOrCreate()\n",
    ")\n",
    "sc = spark.sparkContext"
   ]
  },
  {
   "cell_type": "markdown",
   "metadata": {},
   "source": [
    "# find most frequently purchased together items"
   ]
  },
  {
   "cell_type": "code",
   "execution_count": 2,
   "metadata": {},
   "outputs": [
    {
     "name": "stdout",
     "output_type": "stream",
     "text": [
      "+--------------+------+\n",
      "|transaction_id|  item|\n",
      "+--------------+------+\n",
      "|             1| apple|\n",
      "|             1|banana|\n",
      "|             1|orange|\n",
      "|             2|banana|\n",
      "|             2| apple|\n",
      "|             3|orange|\n",
      "|             3| apple|\n",
      "|             4|banana|\n",
      "|             4|orange|\n",
      "|             5| apple|\n",
      "|             5|banana|\n",
      "+--------------+------+\n",
      "\n"
     ]
    },
    {
     "name": "stderr",
     "output_type": "stream",
     "text": [
      "----------------------------------------\n",
      "Exception occurred during processing of request from ('127.0.0.1', 54618)\n",
      "Traceback (most recent call last):\n",
      "  File \"c:\\Users\\lpdda\\AppData\\Local\\Programs\\Python\\Python311\\Lib\\socketserver.py\", line 317, in _handle_request_noblock\n",
      "    self.process_request(request, client_address)\n",
      "  File \"c:\\Users\\lpdda\\AppData\\Local\\Programs\\Python\\Python311\\Lib\\socketserver.py\", line 348, in process_request\n",
      "    self.finish_request(request, client_address)\n",
      "  File \"c:\\Users\\lpdda\\AppData\\Local\\Programs\\Python\\Python311\\Lib\\socketserver.py\", line 361, in finish_request\n",
      "    self.RequestHandlerClass(request, client_address, self)\n",
      "  File \"c:\\Users\\lpdda\\AppData\\Local\\Programs\\Python\\Python311\\Lib\\socketserver.py\", line 755, in __init__\n",
      "    self.handle()\n",
      "  File \"C:\\spark\\python\\pyspark\\accumulators.py\", line 281, in handle\n",
      "    poll(accum_updates)\n",
      "  File \"C:\\spark\\python\\pyspark\\accumulators.py\", line 253, in poll\n",
      "    if func():\n",
      "       ^^^^^^\n",
      "  File \"C:\\spark\\python\\pyspark\\accumulators.py\", line 257, in accum_updates\n",
      "    num_updates = read_int(self.rfile)\n",
      "                  ^^^^^^^^^^^^^^^^^^^^\n",
      "  File \"C:\\spark\\python\\pyspark\\serializers.py\", line 594, in read_int\n",
      "    length = stream.read(4)\n",
      "             ^^^^^^^^^^^^^^\n",
      "  File \"c:\\Users\\lpdda\\AppData\\Local\\Programs\\Python\\Python311\\Lib\\socket.py\", line 706, in readinto\n",
      "    return self._sock.recv_into(b)\n",
      "           ^^^^^^^^^^^^^^^^^^^^^^^\n",
      "ConnectionResetError: [WinError 10054] An existing connection was forcibly closed by the remote host\n",
      "----------------------------------------\n"
     ]
    }
   ],
   "source": [
    "from pyspark.sql import SparkSession\n",
    "from pyspark.sql import functions as F\n",
    "\n",
    "# Initialize Spark session\n",
    "spark = SparkSession.builder.appName(\"FrequentItems\").getOrCreate()\n",
    "\n",
    "\n",
    "data = [\n",
    "    (1, 'apple'),\n",
    "    (1, 'banana'),\n",
    "    (1, 'orange'),\n",
    "    (2, 'banana'),\n",
    "    (2, 'apple'),\n",
    "    (3, 'orange'),\n",
    "    (3, 'apple'),\n",
    "    (4, 'banana'),\n",
    "    (4, 'orange'),\n",
    "    (5, 'apple'),\n",
    "    (5, 'banana')\n",
    "]\n",
    "\n",
    "\n",
    "\n",
    "# Create a DataFrame\n",
    "df = spark.createDataFrame(data, [\"transaction_id\", \"item\"])\n",
    "df.show()\n",
    "\n",
    "# Register the DataFrame as a temp table\n",
    "df.createOrReplaceTempView(\"purchases\")\n",
    "\n",
    "\n",
    "\n",
    "\n"
   ]
  },
  {
   "cell_type": "code",
   "execution_count": 4,
   "metadata": {},
   "outputs": [
    {
     "name": "stdout",
     "output_type": "stream",
     "text": [
      "+--------------+--------------------+\n",
      "|transaction_id|               items|\n",
      "+--------------+--------------------+\n",
      "|             1|[apple, banana, o...|\n",
      "|             2|     [banana, apple]|\n",
      "|             3|     [orange, apple]|\n",
      "|             4|    [banana, orange]|\n",
      "|             5|     [apple, banana]|\n",
      "+--------------+--------------------+\n",
      "\n",
      "+------+------+-----+\n",
      "|item_1|item_2|count|\n",
      "+------+------+-----+\n",
      "| apple|banana|    3|\n",
      "| apple|orange|    2|\n",
      "|banana|orange|    2|\n",
      "+------+------+-----+\n",
      "\n"
     ]
    }
   ],
   "source": [
    "# Group items by transaction_id\n",
    "grouped_df = df.groupBy(\"transaction_id\").agg(F.collect_list(\"item\").alias(\"items\"))\n",
    "grouped_df.show()\n",
    "\n",
    "\n",
    "from pyspark.sql.functions import explode\n",
    "\n",
    "# Create a DataFrame to explode item pairs\n",
    "pair_df = grouped_df.selectExpr(\"transaction_id\", \"explode(items) as item_1\") \\\n",
    "    .join(grouped_df.selectExpr(\"transaction_id\", \"explode(items) as item_2\"), \"transaction_id\") \\\n",
    "    .filter(\"item_1 < item_2\")  # Avoid duplicates and reverse pairs\n",
    "\n",
    "# Count item pair occurrences\n",
    "pair_count_df = pair_df.groupBy(\"item_1\", \"item_2\").count().orderBy(F.desc(\"count\"))\n",
    "pair_count_df.show()\n",
    "\n"
   ]
  },
  {
   "cell_type": "code",
   "execution_count": 5,
   "metadata": {},
   "outputs": [
    {
     "name": "stdout",
     "output_type": "stream",
     "text": [
      "+------+------+-----+\n",
      "|item_1|item_2|count|\n",
      "+------+------+-----+\n",
      "| apple|banana|    3|\n",
      "| apple|orange|    2|\n",
      "|banana|orange|    2|\n",
      "+------+------+-----+\n",
      "\n"
     ]
    }
   ],
   "source": [
    "spark.sql(\"\"\"\n",
    "    SELECT t1.item AS item_1, t2.item AS item_2, COUNT(*) AS count\n",
    "    FROM purchases t1\n",
    "    JOIN purchases t2 ON t1.transaction_id = t2.transaction_id AND t1.item < t2.item\n",
    "    GROUP BY t1.item, t2.item\n",
    "    ORDER BY count DESC\n",
    "\"\"\").show()\n"
   ]
  },
  {
   "cell_type": "code",
   "execution_count": null,
   "metadata": {},
   "outputs": [],
   "source": []
  }
 ],
 "metadata": {
  "kernelspec": {
   "display_name": "Python 3",
   "language": "python",
   "name": "python3"
  },
  "language_info": {
   "codemirror_mode": {
    "name": "ipython",
    "version": 3
   },
   "file_extension": ".py",
   "mimetype": "text/x-python",
   "name": "python",
   "nbconvert_exporter": "python",
   "pygments_lexer": "ipython3",
   "version": "3.11.8"
  }
 },
 "nbformat": 4,
 "nbformat_minor": 2
}
