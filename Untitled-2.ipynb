{
 "cells": [
  {
   "cell_type": "code",
   "execution_count": 1,
   "metadata": {},
   "outputs": [
    {
     "name": "stdout",
     "output_type": "stream",
     "text": [
      "h:\\pyspark_SQL_python_advanced-coding_interview\n"
     ]
    }
   ],
   "source": [
    "import os \n",
    "print(os.getcwd())"
   ]
  },
  {
   "cell_type": "code",
   "execution_count": null,
   "metadata": {},
   "outputs": [],
   "source": []
  },
  {
   "cell_type": "code",
   "execution_count": 2,
   "metadata": {},
   "outputs": [
    {
     "name": "stdout",
     "output_type": "stream",
     "text": [
      "+------+--------+-------------+------+\n",
      "|emp_id|emp_name|department_id|salary|\n",
      "+------+--------+-------------+------+\n",
      "|     1|   Ankit|          100| 10000|\n",
      "|     2|   Mohit|          100| 15000|\n",
      "|     3|   Vikas|          100| 10000|\n",
      "|     4|   Rohit|          100|  5000|\n",
      "|     5|   Mudit|          200| 12000|\n",
      "|     6|    Agam|          200| 12000|\n",
      "|     7|  Sanjay|          200|  9000|\n",
      "|     8|  Ashish|          200|  5000|\n",
      "|     9|  Mukesh|          300|  6000|\n",
      "|    10|  Rakesh|          300|  7000|\n",
      "+------+--------+-------------+------+\n",
      "\n"
     ]
    }
   ],
   "source": [
    "from pyspark.sql import SparkSession\n",
    "\n",
    "# Create a SparkSession\n",
    "spark = SparkSession.builder.appName(\"CreateTable\").getOrCreate()\n",
    "\n",
    "# Create the data for the table\n",
    "data = [\n",
    "    (1, \"Ankit\", 100, 10000),\n",
    "    (2, \"Mohit\", 100, 15000),\n",
    "    (3, \"Vikas\", 100, 10000),\n",
    "    (4, \"Rohit\", 100, 5000),\n",
    "    (5, \"Mudit\", 200, 12000),\n",
    "    (6, \"Agam\", 200, 12000),\n",
    "    (7, \"Sanjay\", 200, 9000),\n",
    "    (8, \"Ashish\", 200, 5000),\n",
    "    (9, \"Mukesh\", 300, 6000),\n",
    "    (10, \"Rakesh\", 300, 7000)\n",
    "]\n",
    "\n",
    "# Define the schema\n",
    "columns = [\"emp_id\", \"emp_name\", \"department_id\", \"salary\"]\n",
    "\n",
    "# Create a DataFrame\n",
    "df = spark.createDataFrame(data, schema=columns)\n",
    "\n",
    "# Show the DataFrame\n",
    "df.show()\n",
    "\n",
    "# Register the DataFrame as a temporary table\n",
    "df.createOrReplaceTempView(\"employee\")\n"
   ]
  },
  {
   "cell_type": "code",
   "execution_count": 14,
   "metadata": {},
   "outputs": [
    {
     "name": "stdout",
     "output_type": "stream",
     "text": [
      "+------+--------+-------------+------+\n",
      "|emp_id|emp_name|department_id|salary|\n",
      "+------+--------+-------------+------+\n",
      "|     1|   Ankit|          100| 10000|\n",
      "|     2|   Mohit|          100| 15000|\n",
      "|     3|   Vikas|          100| 10000|\n",
      "|     4|   Rohit|          100|  5000|\n",
      "|     5|   Mudit|          200| 12000|\n",
      "|     6|    Agam|          200| 12000|\n",
      "|     7|  Sanjay|          200|  9000|\n",
      "|     8|  Ashish|          200|  5000|\n",
      "|     9|  Mukesh|          300|  6000|\n",
      "|    10|  Rakesh|          300|  7000|\n",
      "+------+--------+-------------+------+\n",
      "\n"
     ]
    }
   ],
   "source": [
    "df.show()"
   ]
  },
  {
   "cell_type": "code",
   "execution_count": 15,
   "metadata": {},
   "outputs": [
    {
     "name": "stdout",
     "output_type": "stream",
     "text": [
      "+------+--------+-------------+------+\n",
      "|emp_id|emp_name|department_id|salary|\n",
      "+------+--------+-------------+------+\n",
      "|     1|   Ankit|          100| 10000|\n",
      "|     2|   Mohit|          100| 15000|\n",
      "|     3|   Vikas|          100| 10000|\n",
      "|     4|   Rohit|          100|  5000|\n",
      "|     5|   Mudit|          200| 12000|\n",
      "|     6|    Agam|          200| 12000|\n",
      "|     7|  Sanjay|          200|  9000|\n",
      "|     8|  Ashish|          200|  5000|\n",
      "|     9|  Mukesh|          300|  6000|\n",
      "|    10|  Rakesh|          300|  7000|\n",
      "+------+--------+-------------+------+\n",
      "\n"
     ]
    }
   ],
   "source": [
    "spark.sql(\"\"\" select * from employee\"\"\").show()"
   ]
  },
  {
   "cell_type": "code",
   "execution_count": 19,
   "metadata": {},
   "outputs": [
    {
     "name": "stdout",
     "output_type": "stream",
     "text": [
      "+-------------+--------------+---------------------------------+\n",
      "|department_id|dep_avg_salary|company_avg_salary_excluding_dept|\n",
      "+-------------+--------------+---------------------------------+\n",
      "+-------------+--------------+---------------------------------+\n",
      "\n"
     ]
    }
   ],
   "source": [
    "df_query = spark.sql(\"\"\"  \n",
    "-- Calculate department-wise average salary                 \n",
    "WITH DeptAvg AS (    \n",
    "    SELECT \n",
    "        department_id, \n",
    "        AVG(salary) AS dep_avg_salary\n",
    "    FROM \n",
    "        employee \n",
    "    GROUP BY  \n",
    "        department_id\n",
    "),\n",
    "\n",
    "-- Calculate company-wide average salary excluding the current department \n",
    "CompanyAvg AS (\n",
    "    SELECT \n",
    "        department_id,\n",
    "        AVG(salary) OVER (PARTITION BY department_id) AS dep_avg_salary,\n",
    "        AVG(salary) OVER () - AVG(salary) OVER (PARTITION BY department_id) AS company_avg_salary_excluding_dept\n",
    "    FROM \n",
    "        employee\n",
    ")\n",
    "\n",
    "-- Join the two subqueries and filter \n",
    "SELECT \n",
    "    DeptAvg.department_id, \n",
    "    DeptAvg.dep_avg_salary, \n",
    "    CompanyAvg.company_avg_salary_excluding_dept\n",
    "FROM \n",
    "    DeptAvg \n",
    "JOIN \n",
    "    CompanyAvg \n",
    "ON \n",
    "    DeptAvg.department_id = CompanyAvg.department_id\n",
    "    WHERE DeptAvg.dep_avg_salary < CompanyAvg.company_avg_salary_excluding_dept\n",
    "\n",
    "\"\"\")\n",
    "\n",
    "df_query.show()\n"
   ]
  },
  {
   "cell_type": "markdown",
   "metadata": {},
   "source": [
    "##  Pyspark"
   ]
  },
  {
   "cell_type": "code",
   "execution_count": 32,
   "metadata": {},
   "outputs": [
    {
     "name": "stdout",
     "output_type": "stream",
     "text": [
      "+------+--------+-------------+------+\n",
      "|emp_id|emp_name|department_id|salary|\n",
      "+------+--------+-------------+------+\n",
      "|     1|   Ankit|          100| 10000|\n",
      "|     2|   Mohit|          100| 15000|\n",
      "|     3|   Vikas|          100| 10000|\n",
      "|     4|   Rohit|          100|  5000|\n",
      "|     5|   Mudit|          200| 12000|\n",
      "|     6|    Agam|          200| 12000|\n",
      "|     7|  Sanjay|          200|  9000|\n",
      "|     8|  Ashish|          200|  5000|\n",
      "|     9|  Mukesh|          300|  6000|\n",
      "|    10|  Rakesh|          300|  7000|\n",
      "+------+--------+-------------+------+\n",
      "\n"
     ]
    }
   ],
   "source": [
    "from pyspark.sql import SparkSession\n",
    "from pyspark.sql.functions import col, avg\n",
    "\n",
    "# Create a SparkSession\n",
    "spark = SparkSession.builder \\\n",
    "    .appName(\"PySpark Query Example\") \\\n",
    "    .getOrCreate()\n",
    "\n",
    "# Sample Data\n",
    "data = [\n",
    "    (1, \"Ankit\", 100, 10000),\n",
    "    (2, \"Mohit\", 100, 15000),\n",
    "    (3, \"Vikas\", 100, 10000),\n",
    "    (4, \"Rohit\", 100, 5000),\n",
    "    (5, \"Mudit\", 200, 12000),\n",
    "    (6, \"Agam\", 200, 12000),\n",
    "    (7, \"Sanjay\", 200, 9000),\n",
    "    (8, \"Ashish\", 200, 5000),\n",
    "    (9, \"Mukesh\", 300, 6000),\n",
    "    (10, \"Rakesh\", 300, 7000),\n",
    "]\n",
    "\n",
    "columns = [\"emp_id\", \"emp_name\", \"department_id\", \"salary\"]\n",
    "\n",
    "# Create DataFrame\n",
    "employee_df = spark.createDataFrame(data, columns)\n",
    "\n",
    "# Show the DataFrame\n",
    "employee_df.show()\n"
   ]
  },
  {
   "cell_type": "code",
   "execution_count": 33,
   "metadata": {},
   "outputs": [
    {
     "name": "stdout",
     "output_type": "stream",
     "text": [
      "+-------------+--------------+\n",
      "|department_id|dep_avg_salary|\n",
      "+-------------+--------------+\n",
      "|          100|       10000.0|\n",
      "|          200|        9500.0|\n",
      "|          300|        6500.0|\n",
      "+-------------+--------------+\n",
      "\n"
     ]
    }
   ],
   "source": [
    "# department wise average salary \n",
    "\n",
    "dept_avg_salary_df = employee_df.groupBy(\"department_id\") \\\n",
    "    .agg(avg(\"salary\").alias(\"dep_avg_salary\"))\n",
    "\n",
    "dept_avg_salary_df.show()\n",
    "\n",
    "                            "
   ]
  },
  {
   "cell_type": "code",
   "execution_count": 34,
   "metadata": {},
   "outputs": [
    {
     "name": "stdout",
     "output_type": "stream",
     "text": [
      "+-------------+---------------+----------+---------------------------------+\n",
      "|department_id|dept_sum_salary|dept_count|company_avg_salary_excluding_dept|\n",
      "+-------------+---------------+----------+---------------------------------+\n",
      "|          100|          40000|         4|                           8500.0|\n",
      "|          200|          38000|         4|                8833.333333333334|\n",
      "|          300|          13000|         2|                           9750.0|\n",
      "+-------------+---------------+----------+---------------------------------+\n",
      "\n"
     ]
    }
   ],
   "source": [
    "# Overall average salary for the entire company\n",
    "overall_avg_salary = employee_df.select(avg(\"salary\").alias(\"overall_avg_salary\")).collect()[0][0]\n",
    "\n",
    "# Exclude each department's salary from the overall calculation dynamically\n",
    "from pyspark.sql.window import Window\n",
    "from pyspark.sql.functions import sum as sum_, count, when\n",
    "\n",
    "# Calculate the sum and count for each department\n",
    "dept_sum_count = employee_df.groupBy(\"department_id\") \\\n",
    "    .agg(sum_(\"salary\").alias(\"dept_sum_salary\"),\n",
    "         count(\"salary\").alias(\"dept_count\"))\n",
    "\n",
    "# Calculate company-wide average excluding the current department\n",
    "company_avg_excl_dept = dept_sum_count.withColumn(\n",
    "    \"company_avg_salary_excluding_dept\",\n",
    "    (overall_avg_salary * employee_df.count() - col(\"dept_sum_salary\")) /\n",
    "    (employee_df.count() - col(\"dept_count\"))\n",
    ")\n",
    "\n",
    "company_avg_excl_dept.show()\n"
   ]
  },
  {
   "cell_type": "code",
   "execution_count": 35,
   "metadata": {},
   "outputs": [
    {
     "name": "stdout",
     "output_type": "stream",
     "text": [
      "+-------------+--------------+\n",
      "|department_id|dep_avg_salary|\n",
      "+-------------+--------------+\n",
      "|          300|        6500.0|\n",
      "+-------------+--------------+\n",
      "\n"
     ]
    }
   ],
   "source": [
    "# Join Department Averages with Company-Wide Exclusion Averages\n",
    "result_df = dept_avg_salary_df.join(\n",
    "    company_avg_excl_dept,\n",
    "    on=\"department_id\"\n",
    ").filter(col(\"dep_avg_salary\") < col(\"company_avg_salary_excluding_dept\"))\n",
    "\n",
    "# Select only relevant columns\n",
    "final_result_df = result_df.select(\"department_id\", \"dep_avg_salary\")\n",
    "final_result_df.show()\n"
   ]
  },
  {
   "cell_type": "code",
   "execution_count": null,
   "metadata": {},
   "outputs": [],
   "source": []
  }
 ],
 "metadata": {
  "kernelspec": {
   "display_name": "Python 3",
   "language": "python",
   "name": "python3"
  },
  "language_info": {
   "codemirror_mode": {
    "name": "ipython",
    "version": 3
   },
   "file_extension": ".py",
   "mimetype": "text/x-python",
   "name": "python",
   "nbconvert_exporter": "python",
   "pygments_lexer": "ipython3",
   "version": "3.11.8"
  }
 },
 "nbformat": 4,
 "nbformat_minor": 2
}
