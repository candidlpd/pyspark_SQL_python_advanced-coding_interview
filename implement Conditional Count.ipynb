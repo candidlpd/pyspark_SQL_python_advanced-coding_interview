{
 "cells": [
  {
   "cell_type": "code",
   "execution_count": 1,
   "metadata": {},
   "outputs": [
    {
     "name": "stdout",
     "output_type": "stream",
     "text": [
      "H:\\pyspark_advanced-coding_interview\n"
     ]
    }
   ],
   "source": [
    "import os\n",
    "os.getcwd()\n",
    "os.chdir(\"H:\\pyspark_advanced-coding_interview\")\n",
    "print(os.getcwd())\n",
    "\n",
    "\n",
    "from pyspark.sql import SparkSession\n",
    "\n",
    "# Create a Spark session with optimized settings\n",
    "spark = (\n",
    "    SparkSession.builder \n",
    "    .appName(\"OptimizedLocalSpark\") \n",
    "    .config(\"spark.driver.memory\", \"8g\")        \n",
    "    .config(\"spark.executor.memory\", \"8g\")    \n",
    "    .config(\"spark.executor.cores\", \"4\")       \n",
    "    .config(\"spark.cores.max\", \"12\")           \n",
    "    .config(\"spark.sql.shuffle.partitions\", \"28\")  \n",
    "    .config(\"spark.serializer\", \"org.apache.spark.serializer.KryoSerializer\") \n",
    "    .getOrCreate()\n",
    ")\n",
    "sc = spark.sparkContext"
   ]
  },
  {
   "cell_type": "code",
   "execution_count": 1,
   "metadata": {},
   "outputs": [
    {
     "name": "stdout",
     "output_type": "stream",
     "text": [
      "+----------+------------+------+------+----------+---------+\n",
      "|EmployeeID|    FullName|DeptID|Salary|  HireDate|ManagerID|\n",
      "+----------+------------+------+------+----------+---------+\n",
      "|         1|    John Doe|   101| 50000|2020-01-15|        5|\n",
      "|         2|  Jane Smith|   102| 60000|2019-03-10|        4|\n",
      "|         3|  Mike Brown|   101| 45000|2021-06-25|        5|\n",
      "|         4| Emily Davis|   103| 70000|2018-07-01|        3|\n",
      "|         5|James Wilson|   102| 55000|2021-04-11|        4|\n",
      "|         6|  Sara White|   101| 40000|2022-09-19|        5|\n",
      "+----------+------------+------+------+----------+---------+\n",
      "\n"
     ]
    },
    {
     "name": "stderr",
     "output_type": "stream",
     "text": [
      "----------------------------------------\n",
      "Exception occurred during processing of request from ('127.0.0.1', 53703)\n",
      "Traceback (most recent call last):\n",
      "  File \"c:\\Users\\lpdda\\AppData\\Local\\Programs\\Python\\Python311\\Lib\\socketserver.py\", line 317, in _handle_request_noblock\n",
      "    self.process_request(request, client_address)\n",
      "  File \"c:\\Users\\lpdda\\AppData\\Local\\Programs\\Python\\Python311\\Lib\\socketserver.py\", line 348, in process_request\n",
      "    self.finish_request(request, client_address)\n",
      "  File \"c:\\Users\\lpdda\\AppData\\Local\\Programs\\Python\\Python311\\Lib\\socketserver.py\", line 361, in finish_request\n",
      "    self.RequestHandlerClass(request, client_address, self)\n",
      "  File \"c:\\Users\\lpdda\\AppData\\Local\\Programs\\Python\\Python311\\Lib\\socketserver.py\", line 755, in __init__\n",
      "    self.handle()\n",
      "  File \"C:\\spark\\python\\pyspark\\accumulators.py\", line 281, in handle\n",
      "    poll(accum_updates)\n",
      "  File \"C:\\spark\\python\\pyspark\\accumulators.py\", line 253, in poll\n",
      "    if func():\n",
      "       ^^^^^^\n",
      "  File \"C:\\spark\\python\\pyspark\\accumulators.py\", line 257, in accum_updates\n",
      "    num_updates = read_int(self.rfile)\n",
      "                  ^^^^^^^^^^^^^^^^^^^^\n",
      "  File \"C:\\spark\\python\\pyspark\\serializers.py\", line 594, in read_int\n",
      "    length = stream.read(4)\n",
      "             ^^^^^^^^^^^^^^\n",
      "  File \"c:\\Users\\lpdda\\AppData\\Local\\Programs\\Python\\Python311\\Lib\\socket.py\", line 706, in readinto\n",
      "    return self._sock.recv_into(b)\n",
      "           ^^^^^^^^^^^^^^^^^^^^^^^\n",
      "ConnectionResetError: [WinError 10054] An existing connection was forcibly closed by the remote host\n",
      "----------------------------------------\n"
     ]
    }
   ],
   "source": [
    "from pyspark.sql import SparkSession\n",
    "from pyspark.sql.functions import col, when, count\n",
    "\n",
    "# Initialize Spark session\n",
    "spark = SparkSession.builder.appName(\"ConditionalCountExample\").getOrCreate()\n",
    "\n",
    "# Sample data\n",
    "data = [\n",
    "    (1, \"John Doe\", 101, 50000, \"2020-01-15\", 5),\n",
    "    (2, \"Jane Smith\", 102, 60000, \"2019-03-10\", 4),\n",
    "    (3, \"Mike Brown\", 101, 45000, \"2021-06-25\", 5),\n",
    "    (4, \"Emily Davis\", 103, 70000, \"2018-07-01\", 3),\n",
    "    (5, \"James Wilson\", 102, 55000, \"2021-04-11\", 4),\n",
    "    (6, \"Sara White\", 101, 40000, \"2022-09-19\", 5)\n",
    "]\n",
    "\n",
    "# Create DataFrame\n",
    "columns = [\"EmployeeID\", \"FullName\", \"DeptID\", \"Salary\", \"HireDate\", \"ManagerID\"]\n",
    "df = spark.createDataFrame(data, columns)\n",
    "\n",
    "# Show the DataFrame\n",
    "df.show()\n",
    "\n",
    "# Register the DataFrame as a temporary table for Spark SQL\n",
    "df.createOrReplaceTempView(\"employee_table\")\n"
   ]
  },
  {
   "cell_type": "markdown",
   "metadata": {},
   "source": [
    "# when function along with count to perform a conditional count."
   ]
  },
  {
   "cell_type": "code",
   "execution_count": 2,
   "metadata": {},
   "outputs": [
    {
     "name": "stdout",
     "output_type": "stream",
     "text": [
      "+------------+\n",
      "|CountDept101|\n",
      "+------------+\n",
      "|           3|\n",
      "+------------+\n",
      "\n"
     ]
    }
   ],
   "source": [
    "# Conditional count: count the number of employees in DeptID 101\n",
    "df_conditional_count = df.withColumn(\"Dept101Count\", when(col(\"DeptID\") == 101, 1).otherwise(0))\n",
    "\n",
    "# Count the number of rows where the condition is true\n",
    "count_df = df_conditional_count.groupBy().sum(\"Dept101Count\").withColumnRenamed(\"sum(Dept101Count)\", \"CountDept101\")\n",
    "count_df.show()\n"
   ]
  },
  {
   "cell_type": "code",
   "execution_count": 3,
   "metadata": {},
   "outputs": [
    {
     "name": "stdout",
     "output_type": "stream",
     "text": [
      "+------------+\n",
      "|CountDept101|\n",
      "+------------+\n",
      "|           3|\n",
      "+------------+\n",
      "\n"
     ]
    }
   ],
   "source": [
    "# SQL query for conditional count\n",
    "result_sql = spark.sql(\"\"\"\n",
    "    SELECT COUNT(*) AS CountDept101\n",
    "    FROM employee_table\n",
    "    WHERE DeptID = 101\n",
    "\"\"\")\n",
    "result_sql.show()\n"
   ]
  },
  {
   "cell_type": "code",
   "execution_count": 4,
   "metadata": {},
   "outputs": [
    {
     "name": "stdout",
     "output_type": "stream",
     "text": [
      "Number of employees in DeptID 101: 3\n"
     ]
    }
   ],
   "source": [
    "# Conditional count using filter\n",
    "count_filtered = df.filter(col(\"DeptID\") == 101).count()\n",
    "print(f\"Number of employees in DeptID 101: {count_filtered}\")\n"
   ]
  },
  {
   "cell_type": "code",
   "execution_count": 6,
   "metadata": {},
   "outputs": [
    {
     "name": "stdout",
     "output_type": "stream",
     "text": [
      "+------+------+-------+\n",
      "|DeptID|EmpCnt|EmpCnt1|\n",
      "+------+------+-------+\n",
      "|   101|     3|      3|\n",
      "|   102|     2|      2|\n",
      "|   103|     1|      1|\n",
      "+------+------+-------+\n",
      "\n"
     ]
    }
   ],
   "source": [
    "res = spark.sql(\"\"\"\n",
    "                \n",
    "    SELECT DeptID,COUNT(*) AS EmpCnt, \n",
    "    Sum( case when salary between 30000 and 80000 then 1 else 0 end ) as EmpCnt1\n",
    "    FROM employee_table\n",
    "    Group by DeptID\n",
    "   \n",
    "\"\"\")\n",
    "res.show()"
   ]
  },
  {
   "cell_type": "code",
   "execution_count": null,
   "metadata": {},
   "outputs": [],
   "source": []
  }
 ],
 "metadata": {
  "kernelspec": {
   "display_name": "Python 3",
   "language": "python",
   "name": "python3"
  },
  "language_info": {
   "codemirror_mode": {
    "name": "ipython",
    "version": 3
   },
   "file_extension": ".py",
   "mimetype": "text/x-python",
   "name": "python",
   "nbconvert_exporter": "python",
   "pygments_lexer": "ipython3",
   "version": "3.11.8"
  }
 },
 "nbformat": 4,
 "nbformat_minor": 2
}
